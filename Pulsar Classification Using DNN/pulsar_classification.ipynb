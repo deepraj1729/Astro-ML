{
 "cells": [
  {
   "cell_type": "markdown",
   "metadata": {},
   "source": [
    "# PULSAR CLASSIFICATION USING DEEP NEURAL NETWORKS"
   ]
  },
  {
   "cell_type": "code",
   "execution_count": 1,
   "metadata": {},
   "outputs": [],
   "source": [
    "import tensorflow as tf \n",
    "from tensorflow import keras\n",
    "from sklearn import preprocessing, model_selection\n",
    "import numpy as np \n",
    "import pandas as pd "
   ]
  },
  {
   "cell_type": "markdown",
   "metadata": {},
   "source": [
    "## Reading CSV"
   ]
  },
  {
   "cell_type": "code",
   "execution_count": 2,
   "metadata": {},
   "outputs": [],
   "source": [
    "df = pd.read_csv('C:\\\\Users\\\\User1\\\\Desktop\\\\ML Applications\\\\AstroML\\\\Pulsar Classification\\\\Pulsar Classifier Jupyter Notebook\\\\pulsar_stars.csv')"
   ]
  },
  {
   "cell_type": "code",
   "execution_count": 3,
   "metadata": {},
   "outputs": [
    {
     "data": {
      "text/html": [
       "<div>\n",
       "<style scoped>\n",
       "    .dataframe tbody tr th:only-of-type {\n",
       "        vertical-align: middle;\n",
       "    }\n",
       "\n",
       "    .dataframe tbody tr th {\n",
       "        vertical-align: top;\n",
       "    }\n",
       "\n",
       "    .dataframe thead th {\n",
       "        text-align: right;\n",
       "    }\n",
       "</style>\n",
       "<table border=\"1\" class=\"dataframe\">\n",
       "  <thead>\n",
       "    <tr style=\"text-align: right;\">\n",
       "      <th></th>\n",
       "      <th>Mean of the integrated profile</th>\n",
       "      <th>Standard deviation of the integrated profile</th>\n",
       "      <th>Excess kurtosis of the integrated profile</th>\n",
       "      <th>Skewness of the integrated profile</th>\n",
       "      <th>Mean of the DM-SNR curve</th>\n",
       "      <th>Standard deviation of the DM-SNR curve</th>\n",
       "      <th>Excess kurtosis of the DM-SNR curve</th>\n",
       "      <th>Skewness of the DM-SNR curve</th>\n",
       "      <th>target_class</th>\n",
       "    </tr>\n",
       "  </thead>\n",
       "  <tbody>\n",
       "    <tr>\n",
       "      <td>0</td>\n",
       "      <td>140.562500</td>\n",
       "      <td>55.683782</td>\n",
       "      <td>-0.234571</td>\n",
       "      <td>-0.699648</td>\n",
       "      <td>3.199833</td>\n",
       "      <td>19.110426</td>\n",
       "      <td>7.975532</td>\n",
       "      <td>74.242225</td>\n",
       "      <td>0</td>\n",
       "    </tr>\n",
       "    <tr>\n",
       "      <td>1</td>\n",
       "      <td>102.507812</td>\n",
       "      <td>58.882430</td>\n",
       "      <td>0.465318</td>\n",
       "      <td>-0.515088</td>\n",
       "      <td>1.677258</td>\n",
       "      <td>14.860146</td>\n",
       "      <td>10.576487</td>\n",
       "      <td>127.393580</td>\n",
       "      <td>0</td>\n",
       "    </tr>\n",
       "    <tr>\n",
       "      <td>2</td>\n",
       "      <td>103.015625</td>\n",
       "      <td>39.341649</td>\n",
       "      <td>0.323328</td>\n",
       "      <td>1.051164</td>\n",
       "      <td>3.121237</td>\n",
       "      <td>21.744669</td>\n",
       "      <td>7.735822</td>\n",
       "      <td>63.171909</td>\n",
       "      <td>0</td>\n",
       "    </tr>\n",
       "    <tr>\n",
       "      <td>3</td>\n",
       "      <td>136.750000</td>\n",
       "      <td>57.178449</td>\n",
       "      <td>-0.068415</td>\n",
       "      <td>-0.636238</td>\n",
       "      <td>3.642977</td>\n",
       "      <td>20.959280</td>\n",
       "      <td>6.896499</td>\n",
       "      <td>53.593661</td>\n",
       "      <td>0</td>\n",
       "    </tr>\n",
       "    <tr>\n",
       "      <td>4</td>\n",
       "      <td>88.726562</td>\n",
       "      <td>40.672225</td>\n",
       "      <td>0.600866</td>\n",
       "      <td>1.123492</td>\n",
       "      <td>1.178930</td>\n",
       "      <td>11.468720</td>\n",
       "      <td>14.269573</td>\n",
       "      <td>252.567306</td>\n",
       "      <td>0</td>\n",
       "    </tr>\n",
       "  </tbody>\n",
       "</table>\n",
       "</div>"
      ],
      "text/plain": [
       "   Mean of the integrated profile  \\\n",
       "0                      140.562500   \n",
       "1                      102.507812   \n",
       "2                      103.015625   \n",
       "3                      136.750000   \n",
       "4                       88.726562   \n",
       "\n",
       "    Standard deviation of the integrated profile  \\\n",
       "0                                      55.683782   \n",
       "1                                      58.882430   \n",
       "2                                      39.341649   \n",
       "3                                      57.178449   \n",
       "4                                      40.672225   \n",
       "\n",
       "   Excess kurtosis of the integrated profile  \\\n",
       "0                                  -0.234571   \n",
       "1                                   0.465318   \n",
       "2                                   0.323328   \n",
       "3                                  -0.068415   \n",
       "4                                   0.600866   \n",
       "\n",
       "   Skewness of the integrated profile  Mean of the DM-SNR curve  \\\n",
       "0                           -0.699648                  3.199833   \n",
       "1                           -0.515088                  1.677258   \n",
       "2                            1.051164                  3.121237   \n",
       "3                           -0.636238                  3.642977   \n",
       "4                            1.123492                  1.178930   \n",
       "\n",
       "   Standard deviation of the DM-SNR curve  \\\n",
       "0                               19.110426   \n",
       "1                               14.860146   \n",
       "2                               21.744669   \n",
       "3                               20.959280   \n",
       "4                               11.468720   \n",
       "\n",
       "   Excess kurtosis of the DM-SNR curve  Skewness of the DM-SNR curve  \\\n",
       "0                             7.975532                     74.242225   \n",
       "1                            10.576487                    127.393580   \n",
       "2                             7.735822                     63.171909   \n",
       "3                             6.896499                     53.593661   \n",
       "4                            14.269573                    252.567306   \n",
       "\n",
       "   target_class  \n",
       "0             0  \n",
       "1             0  \n",
       "2             0  \n",
       "3             0  \n",
       "4             0  "
      ]
     },
     "execution_count": 3,
     "metadata": {},
     "output_type": "execute_result"
    }
   ],
   "source": [
    "df.head()"
   ]
  },
  {
   "cell_type": "markdown",
   "metadata": {},
   "source": [
    "## Separating the target_class from the input dataframe ( 0 for non-Pulsars and 1 for pulsars)"
   ]
  },
  {
   "cell_type": "code",
   "execution_count": 4,
   "metadata": {},
   "outputs": [],
   "source": [
    "x = preprocessing.scale(np.array(df.drop(['target_class'],1)))\n",
    "y = np.array(df['target_class'])\n",
    "y.shape = (len(x),1)             # makes it a column vector"
   ]
  },
  {
   "cell_type": "markdown",
   "metadata": {},
   "source": [
    "## Splitting the data into test set and train set (usually 60:40 ratio)"
   ]
  },
  {
   "cell_type": "code",
   "execution_count": 5,
   "metadata": {},
   "outputs": [],
   "source": [
    "x_train ,x_test , y_train, y_test = model_selection.train_test_split(x,y, test_size = 0.4)    "
   ]
  },
  {
   "cell_type": "markdown",
   "metadata": {},
   "source": [
    "## Training Dataset using a Deep Neural Network classifier"
   ]
  },
  {
   "cell_type": "code",
   "execution_count": 6,
   "metadata": {},
   "outputs": [
    {
     "name": "stdout",
     "output_type": "stream",
     "text": [
      "WARNING:tensorflow:From C:\\Users\\User1\\Anaconda3\\lib\\site-packages\\tensorflow\\python\\ops\\init_ops.py:1251: calling VarianceScaling.__init__ (from tensorflow.python.ops.init_ops) with dtype is deprecated and will be removed in a future version.\n",
      "Instructions for updating:\n",
      "Call initializer instance with the dtype argument instead of passing it to the constructor\n"
     ]
    }
   ],
   "source": [
    "model = keras.Sequential([\n",
    "    keras.layers.Dense( 200 , input_dim =8,  activation= tf.nn.relu),\n",
    "    keras.layers.Dense( 300 , activation= tf.nn.relu),\n",
    "    keras.layers.Dense( 2, activation= tf.nn.softmax)\n",
    "])\n",
    "\n",
    "model.compile(optimizer = tf.train.AdamOptimizer(),\n",
    "       loss = 'sparse_categorical_crossentropy',\n",
    "       metrics=['accuracy'])\n"
   ]
  },
  {
   "cell_type": "markdown",
   "metadata": {},
   "source": [
    "## Training dataset"
   ]
  },
  {
   "cell_type": "code",
   "execution_count": 7,
   "metadata": {},
   "outputs": [
    {
     "name": "stdout",
     "output_type": "stream",
     "text": [
      "Epoch 1/20\n",
      "10738/10738 [==============================] - 1s 113us/sample - loss: 0.0948 - acc: 0.9726\n",
      "Epoch 2/20\n",
      "10738/10738 [==============================] - 1s 52us/sample - loss: 0.0738 - acc: 0.9787\n",
      "Epoch 3/20\n",
      "10738/10738 [==============================] - 1s 47us/sample - loss: 0.0710 - acc: 0.9790\n",
      "Epoch 4/20\n",
      "10738/10738 [==============================] - 1s 50us/sample - loss: 0.0703 - acc: 0.9801\n",
      "Epoch 5/20\n",
      "10738/10738 [==============================] - 1s 57us/sample - loss: 0.0698 - acc: 0.9798\n",
      "Epoch 6/20\n",
      "10738/10738 [==============================] - 0s 46us/sample - loss: 0.0690 - acc: 0.9798\n",
      "Epoch 7/20\n",
      "10738/10738 [==============================] - 1s 52us/sample - loss: 0.0690 - acc: 0.9801\n",
      "Epoch 8/20\n",
      "10738/10738 [==============================] - 1s 50us/sample - loss: 0.0674 - acc: 0.9799\n",
      "Epoch 9/20\n",
      "10738/10738 [==============================] - 1s 54us/sample - loss: 0.0674 - acc: 0.9801\n",
      "Epoch 10/20\n",
      "10738/10738 [==============================] - 0s 46us/sample - loss: 0.0664 - acc: 0.9807\n",
      "Epoch 11/20\n",
      "10738/10738 [==============================] - 1s 51us/sample - loss: 0.0657 - acc: 0.9807\n",
      "Epoch 12/20\n",
      "10738/10738 [==============================] - 1s 50us/sample - loss: 0.0663 - acc: 0.97990s - loss: 0.0636 - acc:\n",
      "Epoch 13/20\n",
      "10738/10738 [==============================] - 1s 54us/sample - loss: 0.0647 - acc: 0.9799\n",
      "Epoch 14/20\n",
      "10738/10738 [==============================] - 1s 49us/sample - loss: 0.0640 - acc: 0.9800\n",
      "Epoch 15/20\n",
      "10738/10738 [==============================] - 1s 56us/sample - loss: 0.0637 - acc: 0.9813\n",
      "Epoch 16/20\n",
      "10738/10738 [==============================] - 1s 48us/sample - loss: 0.0622 - acc: 0.9812\n",
      "Epoch 17/20\n",
      "10738/10738 [==============================] - 1s 52us/sample - loss: 0.0629 - acc: 0.9812\n",
      "Epoch 18/20\n",
      "10738/10738 [==============================] - 1s 52us/sample - loss: 0.0634 - acc: 0.9810\n",
      "Epoch 19/20\n",
      "10738/10738 [==============================] - 1s 52us/sample - loss: 0.0621 - acc: 0.9816\n",
      "Epoch 20/20\n",
      "10738/10738 [==============================] - 1s 49us/sample - loss: 0.0613 - acc: 0.9811\n"
     ]
    },
    {
     "data": {
      "text/plain": [
       "<tensorflow.python.keras.callbacks.History at 0x1d538fbe710>"
      ]
     },
     "execution_count": 7,
     "metadata": {},
     "output_type": "execute_result"
    }
   ],
   "source": [
    "model.fit(x_train ,y_train , epochs = 20)"
   ]
  },
  {
   "cell_type": "markdown",
   "metadata": {},
   "source": [
    "## Testing and Predicting from training dataset"
   ]
  },
  {
   "cell_type": "code",
   "execution_count": 8,
   "metadata": {},
   "outputs": [
    {
     "name": "stdout",
     "output_type": "stream",
     "text": [
      "7160/7160 [==============================] - 0s 27us/sample - loss: 0.0702 - acc: 0.9802\n",
      "[0.07021454100044414, 0.9801676]\n",
      "_____________________________________________________\n",
      "Predicted No of NORMAL STARS = 6503\n",
      "Predicted NO. of PULSARS found = 657\n",
      "Total tested stars = 7160\n",
      "_____________________________________________________\n",
      "Original No of NORMAL STARS = 6489\n",
      "Original No. of PULSARS found = 671\n",
      "Total tested stars = 7160\n",
      "_____________________________________________________\n",
      "Accuracy = 97.91356184798808 %\n"
     ]
    }
   ],
   "source": [
    "print(model.evaluate( x_test , y_test))   # returns the loss and accuracy at the end of itreration\n",
    "\n",
    "p = model.predict(x_test)\n",
    "z = np.round(p)\n",
    "z.shape = (len(x_test),2)\n",
    "a = z[:,[1]]\n",
    "\n",
    "count1=count2=count3=count4=0\n",
    "\n",
    "for i in range(0,len(x_test)):\n",
    "    if a[i] == 0:\n",
    "        #print(\"NORMAL STAR\")\n",
    "        count1+=1\n",
    "    elif a[i]== 1 :\n",
    "        #print(\"A PULSAR\")\n",
    "        count2+=1  \n",
    "    else:\n",
    "        print(\"NOT A STAR\")      \n",
    "\n",
    "print('_____________________________________________________')\n",
    "print(\"Predicted No of NORMAL STARS = {}\".format(count1))\n",
    "print(\"Predicted NO. of PULSARS found = {}\".format(count2))\n",
    "print(\"Total tested stars = {}\".format(len(x_test)))\n",
    "\n",
    "\n",
    "y_test.shape = (len(y_test),1)\n",
    "\n",
    "m = y_test\n",
    "\n",
    "\n",
    "print('_____________________________________________________')\n",
    "\n",
    "for i in range(0,len(y_test)):\n",
    "    if m[i] == 0:\n",
    "        count3+=1\n",
    "    elif m[i] == 1 :\n",
    "        count4+=1  \n",
    "    else:\n",
    "        print(\"NOT A STAR\")      \n",
    "\n",
    "\n",
    "\n",
    "print(\"Original No of NORMAL STARS = {}\".format(count3))\n",
    "print(\"Original No. of PULSARS found = {}\".format(count4))\n",
    "print(\"Total tested stars = {}\".format(len(x_test)))\n",
    "\n",
    "print('_____________________________________________________')\n",
    "print(\"Accuracy = {} %\".format((count2/count4)*100))"
   ]
  },
  {
   "cell_type": "markdown",
   "metadata": {},
   "source": [
    "## Saving training data using pickle"
   ]
  },
  {
   "cell_type": "code",
   "execution_count": 9,
   "metadata": {},
   "outputs": [],
   "source": [
    "import pickle\n",
    "\n",
    "c = np.hstack((x_train,y_train))    # Merging the label column (y_test) with the X_test  i.e the total training set\n",
    "\n",
    "with open(\"model.pickle\",\"wb\") as f:\n",
    "    pickle.dump( c , f)\n"
   ]
  }
 ],
 "metadata": {
  "kernelspec": {
   "display_name": "Python 3",
   "language": "python",
   "name": "python3"
  },
  "language_info": {
   "codemirror_mode": {
    "name": "ipython",
    "version": 3
   },
   "file_extension": ".py",
   "mimetype": "text/x-python",
   "name": "python",
   "nbconvert_exporter": "python",
   "pygments_lexer": "ipython3",
   "version": "3.7.3"
  }
 },
 "nbformat": 4,
 "nbformat_minor": 2
}
