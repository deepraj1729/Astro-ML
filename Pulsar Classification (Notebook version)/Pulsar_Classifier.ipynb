{
 "cells": [
  {
   "cell_type": "markdown",
   "metadata": {},
   "source": [
    "# Pulsar Classification using Deep Neural Networks"
   ]
  },
  {
   "cell_type": "markdown",
   "metadata": {},
   "source": [
    "## -- Neccessary Modules"
   ]
  },
  {
   "cell_type": "code",
   "execution_count": 1,
   "metadata": {},
   "outputs": [],
   "source": [
    "import tensorflow as tf \n",
    "from tensorflow import keras\n",
    "from sklearn import preprocessing, model_selection\n",
    "import numpy as np \n",
    "import pandas as pd"
   ]
  },
  {
   "cell_type": "markdown",
   "metadata": {},
   "source": [
    "## -- Loading data of stars from CSV"
   ]
  },
  {
   "cell_type": "code",
   "execution_count": 2,
   "metadata": {},
   "outputs": [],
   "source": [
    "df = pd.read_csv('C:\\\\Users\\\\User1\\\\Desktop\\\\Pulsar Classification\\\\Pulsar Classification (Notebook version)\\\\pulsar_stars.csv')"
   ]
  },
  {
   "cell_type": "code",
   "execution_count": 3,
   "metadata": {},
   "outputs": [
    {
     "data": {
      "text/html": [
       "<div>\n",
       "<style scoped>\n",
       "    .dataframe tbody tr th:only-of-type {\n",
       "        vertical-align: middle;\n",
       "    }\n",
       "\n",
       "    .dataframe tbody tr th {\n",
       "        vertical-align: top;\n",
       "    }\n",
       "\n",
       "    .dataframe thead th {\n",
       "        text-align: right;\n",
       "    }\n",
       "</style>\n",
       "<table border=\"1\" class=\"dataframe\">\n",
       "  <thead>\n",
       "    <tr style=\"text-align: right;\">\n",
       "      <th></th>\n",
       "      <th>Mean of the integrated profile</th>\n",
       "      <th>Standard deviation of the integrated profile</th>\n",
       "      <th>Excess kurtosis of the integrated profile</th>\n",
       "      <th>Skewness of the integrated profile</th>\n",
       "      <th>Mean of the DM-SNR curve</th>\n",
       "      <th>Standard deviation of the DM-SNR curve</th>\n",
       "      <th>Excess kurtosis of the DM-SNR curve</th>\n",
       "      <th>Skewness of the DM-SNR curve</th>\n",
       "      <th>target_class</th>\n",
       "    </tr>\n",
       "  </thead>\n",
       "  <tbody>\n",
       "    <tr>\n",
       "      <td>0</td>\n",
       "      <td>140.562500</td>\n",
       "      <td>55.683782</td>\n",
       "      <td>-0.234571</td>\n",
       "      <td>-0.699648</td>\n",
       "      <td>3.199833</td>\n",
       "      <td>19.110426</td>\n",
       "      <td>7.975532</td>\n",
       "      <td>74.242225</td>\n",
       "      <td>0</td>\n",
       "    </tr>\n",
       "    <tr>\n",
       "      <td>1</td>\n",
       "      <td>102.507812</td>\n",
       "      <td>58.882430</td>\n",
       "      <td>0.465318</td>\n",
       "      <td>-0.515088</td>\n",
       "      <td>1.677258</td>\n",
       "      <td>14.860146</td>\n",
       "      <td>10.576487</td>\n",
       "      <td>127.393580</td>\n",
       "      <td>0</td>\n",
       "    </tr>\n",
       "    <tr>\n",
       "      <td>2</td>\n",
       "      <td>103.015625</td>\n",
       "      <td>39.341649</td>\n",
       "      <td>0.323328</td>\n",
       "      <td>1.051164</td>\n",
       "      <td>3.121237</td>\n",
       "      <td>21.744669</td>\n",
       "      <td>7.735822</td>\n",
       "      <td>63.171909</td>\n",
       "      <td>0</td>\n",
       "    </tr>\n",
       "    <tr>\n",
       "      <td>3</td>\n",
       "      <td>136.750000</td>\n",
       "      <td>57.178449</td>\n",
       "      <td>-0.068415</td>\n",
       "      <td>-0.636238</td>\n",
       "      <td>3.642977</td>\n",
       "      <td>20.959280</td>\n",
       "      <td>6.896499</td>\n",
       "      <td>53.593661</td>\n",
       "      <td>0</td>\n",
       "    </tr>\n",
       "    <tr>\n",
       "      <td>4</td>\n",
       "      <td>88.726562</td>\n",
       "      <td>40.672225</td>\n",
       "      <td>0.600866</td>\n",
       "      <td>1.123492</td>\n",
       "      <td>1.178930</td>\n",
       "      <td>11.468720</td>\n",
       "      <td>14.269573</td>\n",
       "      <td>252.567306</td>\n",
       "      <td>0</td>\n",
       "    </tr>\n",
       "  </tbody>\n",
       "</table>\n",
       "</div>"
      ],
      "text/plain": [
       "   Mean of the integrated profile  \\\n",
       "0                      140.562500   \n",
       "1                      102.507812   \n",
       "2                      103.015625   \n",
       "3                      136.750000   \n",
       "4                       88.726562   \n",
       "\n",
       "    Standard deviation of the integrated profile  \\\n",
       "0                                      55.683782   \n",
       "1                                      58.882430   \n",
       "2                                      39.341649   \n",
       "3                                      57.178449   \n",
       "4                                      40.672225   \n",
       "\n",
       "   Excess kurtosis of the integrated profile  \\\n",
       "0                                  -0.234571   \n",
       "1                                   0.465318   \n",
       "2                                   0.323328   \n",
       "3                                  -0.068415   \n",
       "4                                   0.600866   \n",
       "\n",
       "   Skewness of the integrated profile  Mean of the DM-SNR curve  \\\n",
       "0                           -0.699648                  3.199833   \n",
       "1                           -0.515088                  1.677258   \n",
       "2                            1.051164                  3.121237   \n",
       "3                           -0.636238                  3.642977   \n",
       "4                            1.123492                  1.178930   \n",
       "\n",
       "   Standard deviation of the DM-SNR curve  \\\n",
       "0                               19.110426   \n",
       "1                               14.860146   \n",
       "2                               21.744669   \n",
       "3                               20.959280   \n",
       "4                               11.468720   \n",
       "\n",
       "   Excess kurtosis of the DM-SNR curve  Skewness of the DM-SNR curve  \\\n",
       "0                             7.975532                     74.242225   \n",
       "1                            10.576487                    127.393580   \n",
       "2                             7.735822                     63.171909   \n",
       "3                             6.896499                     53.593661   \n",
       "4                            14.269573                    252.567306   \n",
       "\n",
       "   target_class  \n",
       "0             0  \n",
       "1             0  \n",
       "2             0  \n",
       "3             0  \n",
       "4             0  "
      ]
     },
     "execution_count": 3,
     "metadata": {},
     "output_type": "execute_result"
    }
   ],
   "source": [
    "df.head()"
   ]
  },
  {
   "cell_type": "markdown",
   "metadata": {},
   "source": [
    "## -- Converting Data into Numpy Arrays ( For Sake of Convenience)"
   ]
  },
  {
   "cell_type": "code",
   "execution_count": 4,
   "metadata": {},
   "outputs": [],
   "source": [
    "x = np.array(df.drop(['target_class'],1),dtype = 'float')        # Dropping Target Class\n",
    "y = np.array(df['target_class'])                 \n",
    "y.shape = (len(x),1)               # makes it a column vector"
   ]
  },
  {
   "cell_type": "markdown",
   "metadata": {},
   "source": [
    "## Splitting the data into test set and train set "
   ]
  },
  {
   "cell_type": "code",
   "execution_count": 5,
   "metadata": {},
   "outputs": [],
   "source": [
    "x_train ,x_test , y_train, y_test = model_selection.train_test_split(x,y, test_size = 0.3)"
   ]
  },
  {
   "cell_type": "markdown",
   "metadata": {},
   "source": [
    "## -- Scaling Data for Better Modelling (Only x values)"
   ]
  },
  {
   "cell_type": "code",
   "execution_count": 6,
   "metadata": {},
   "outputs": [],
   "source": [
    "x_f_train = preprocessing.scale(x_train)\n",
    "x_f_test = preprocessing.scale(x_test)\n",
    "y_f_train = y_train\n",
    "y_f_test = y_test"
   ]
  },
  {
   "cell_type": "markdown",
   "metadata": {},
   "source": [
    "## -- Using DNN Model for Training Data "
   ]
  },
  {
   "cell_type": "code",
   "execution_count": 7,
   "metadata": {
    "scrolled": false
   },
   "outputs": [
    {
     "name": "stdout",
     "output_type": "stream",
     "text": [
      "WARNING:tensorflow:From C:\\Users\\User1\\Anaconda3\\lib\\site-packages\\tensorflow\\python\\ops\\init_ops.py:1251: calling VarianceScaling.__init__ (from tensorflow.python.ops.init_ops) with dtype is deprecated and will be removed in a future version.\n",
      "Instructions for updating:\n",
      "Call initializer instance with the dtype argument instead of passing it to the constructor\n"
     ]
    }
   ],
   "source": [
    "model = tf.keras.models.Sequential()\n",
    "model.add(tf.keras.layers.Flatten())\n",
    "model.add(tf.keras.layers.Dense(200,activation = tf.nn.relu))\n",
    "model.add(tf.keras.layers.Dense(300,activation = tf.nn.relu))\n",
    "model.add(tf.keras.layers.Dense(2,activation = tf.nn.softmax))\n",
    "\n",
    "\n",
    "model.compile(optimizer = tf.train.AdamOptimizer(),\n",
    "       loss = 'sparse_categorical_crossentropy',\n",
    "       metrics=['accuracy'])"
   ]
  },
  {
   "cell_type": "markdown",
   "metadata": {},
   "source": [
    "## Training Data using the model"
   ]
  },
  {
   "cell_type": "code",
   "execution_count": 8,
   "metadata": {},
   "outputs": [
    {
     "name": "stdout",
     "output_type": "stream",
     "text": [
      "Epoch 1/30\n",
      "12528/12528 [==============================] - 1s 61us/sample - loss: 0.0896 - acc: 0.9740\n",
      "Epoch 2/30\n",
      "12528/12528 [==============================] - 1s 52us/sample - loss: 0.0706 - acc: 0.97880s - loss: 0.0723 - \n",
      "Epoch 3/30\n",
      "12528/12528 [==============================] - 1s 50us/sample - loss: 0.0690 - acc: 0.9800\n",
      "Epoch 4/30\n",
      "12528/12528 [==============================] - 1s 49us/sample - loss: 0.0682 - acc: 0.9799\n",
      "Epoch 5/30\n",
      "12528/12528 [==============================] - 1s 51us/sample - loss: 0.0669 - acc: 0.9802\n",
      "Epoch 6/30\n",
      "12528/12528 [==============================] - 1s 50us/sample - loss: 0.0662 - acc: 0.9805\n",
      "Epoch 7/30\n",
      "12528/12528 [==============================] - 1s 52us/sample - loss: 0.0666 - acc: 0.9805\n",
      "Epoch 8/30\n",
      "12528/12528 [==============================] - 1s 50us/sample - loss: 0.0666 - acc: 0.9800\n",
      "Epoch 9/30\n",
      "12528/12528 [==============================] - 1s 57us/sample - loss: 0.0655 - acc: 0.9812\n",
      "Epoch 10/30\n",
      "12528/12528 [==============================] - 1s 60us/sample - loss: 0.0649 - acc: 0.9805\n",
      "Epoch 11/30\n",
      "12528/12528 [==============================] - 1s 51us/sample - loss: 0.0647 - acc: 0.9806\n",
      "Epoch 12/30\n",
      "12528/12528 [==============================] - 1s 52us/sample - loss: 0.0653 - acc: 0.98050s - loss: 0.0670 - acc:\n",
      "Epoch 13/30\n",
      "12528/12528 [==============================] - 1s 52us/sample - loss: 0.0640 - acc: 0.98080s - loss: 0.0782 - a\n",
      "Epoch 14/30\n",
      "12528/12528 [==============================] - 1s 51us/sample - loss: 0.0636 - acc: 0.9814\n",
      "Epoch 15/30\n",
      "12528/12528 [==============================] - 1s 59us/sample - loss: 0.0637 - acc: 0.98040s - loss: 0.0676 - acc\n",
      "Epoch 16/30\n",
      "12528/12528 [==============================] - 1s 108us/sample - loss: 0.0632 - acc: 0.9810\n",
      "Epoch 17/30\n",
      "12528/12528 [==============================] - 1s 97us/sample - loss: 0.0629 - acc: 0.9813\n",
      "Epoch 18/30\n",
      "12528/12528 [==============================] - 1s 91us/sample - loss: 0.0629 - acc: 0.9814\n",
      "Epoch 19/30\n",
      "12528/12528 [==============================] - 1s 62us/sample - loss: 0.0626 - acc: 0.9809\n",
      "Epoch 20/30\n",
      "12528/12528 [==============================] - 1s 54us/sample - loss: 0.0624 - acc: 0.9813\n",
      "Epoch 21/30\n",
      "12528/12528 [==============================] - 1s 51us/sample - loss: 0.0619 - acc: 0.98220s - loss: 0.0631 - acc: 0.9\n",
      "Epoch 22/30\n",
      "12528/12528 [==============================] - 1s 69us/sample - loss: 0.0620 - acc: 0.9812\n",
      "Epoch 23/30\n",
      "12528/12528 [==============================] - 1s 103us/sample - loss: 0.0620 - acc: 0.9817\n",
      "Epoch 24/30\n",
      "12528/12528 [==============================] - 1s 102us/sample - loss: 0.0612 - acc: 0.9816\n",
      "Epoch 25/30\n",
      "12528/12528 [==============================] - 1s 81us/sample - loss: 0.0611 - acc: 0.9816\n",
      "Epoch 26/30\n",
      "12528/12528 [==============================] - 1s 50us/sample - loss: 0.0612 - acc: 0.9818\n",
      "Epoch 27/30\n",
      "12528/12528 [==============================] - 1s 53us/sample - loss: 0.0604 - acc: 0.9821\n",
      "Epoch 28/30\n",
      "12528/12528 [==============================] - 1s 54us/sample - loss: 0.0604 - acc: 0.9820\n",
      "Epoch 29/30\n",
      "12528/12528 [==============================] - 1s 82us/sample - loss: 0.0599 - acc: 0.98180s - loss: 0.0\n",
      "Epoch 30/30\n",
      "12528/12528 [==============================] - 1s 102us/sample - loss: 0.0596 - acc: 0.9819\n"
     ]
    },
    {
     "data": {
      "text/plain": [
       "<tensorflow.python.keras.callbacks.History at 0x20e690d1c88>"
      ]
     },
     "execution_count": 8,
     "metadata": {},
     "output_type": "execute_result"
    }
   ],
   "source": [
    "model.fit(x_f_train,y_f_train, epochs = 30)"
   ]
  },
  {
   "cell_type": "markdown",
   "metadata": {},
   "source": [
    "## -- Checking Trained Data For Overfitting and Underfitting over tested data"
   ]
  },
  {
   "cell_type": "code",
   "execution_count": 9,
   "metadata": {},
   "outputs": [
    {
     "name": "stdout",
     "output_type": "stream",
     "text": [
      "5370/5370 [==============================] - 0s 34us/sample - loss: 0.0672 - acc: 0.9804\n",
      "Loss % = 6.720539210104076 , Accuracy % = 98.04469347000122 \n"
     ]
    }
   ],
   "source": [
    "val_loss,val_acc = model.evaluate(x_f_test,y_f_test)\n",
    "print(\"Loss % = {} , Accuracy % = {} \".format(val_loss*100,val_acc*100))"
   ]
  },
  {
   "cell_type": "markdown",
   "metadata": {},
   "source": [
    "## -- Predicting Star Type of Test Data from Trained Data (Pulsar or Non-Pulsar)"
   ]
  },
  {
   "cell_type": "code",
   "execution_count": 10,
   "metadata": {},
   "outputs": [],
   "source": [
    "# [1,0] = Normal Star\n",
    "# [0,1] = Pulsar\n",
    "\n",
    "arr = np.array([[1,0],[0,1]])"
   ]
  },
  {
   "cell_type": "code",
   "execution_count": 11,
   "metadata": {},
   "outputs": [
    {
     "name": "stdout",
     "output_type": "stream",
     "text": [
      "_____________________________________________________\n",
      "_____________________________________________________\n",
      "Predicted No of Normal stars  = 4919\n",
      "Predicted NO. of Pulsars = 451\n",
      "Not A Star: 0\n",
      "Total tested stars = 5370\n",
      "_____________________________________________________\n",
      "Original No of Normal stars  = 4872\n",
      "Original No. of Pulsars = 498\n",
      "Total tested stars = 5370\n",
      "_____________________________________________________\n",
      "Accuracy = 98.04469347000122 %\n"
     ]
    }
   ],
   "source": [
    "z = np.round(model.predict(x_f_test))\n",
    "\n",
    "print('_____________________________________________________')\n",
    "\n",
    "count1=count2=count3=count4=c5=0\n",
    "\n",
    "for i in range(0,len(z)):\n",
    "    if np.array_equal(z[i],arr[0]):\n",
    "        #print(\"{} : Normal star\".format(z[i]))\n",
    "        count1+=1\n",
    "    elif np.array_equal(z[i],arr[1]):\n",
    "        #print(\"{} : Pulsar\".format(z[i]))\n",
    "        count2+=1  \n",
    "    else:\n",
    "        print(\"NOT A STAR\")\n",
    "        c5+=1\n",
    "\n",
    "print('_____________________________________________________')\n",
    "print(\"Predicted No of Normal stars  = {}\".format(count1))\n",
    "print(\"Predicted NO. of Pulsars = {}\".format(count2))\n",
    "print(\"Not A Star: {}\".format(c5))\n",
    "print(\"Total tested stars = {}\".format(len(z)))\n",
    "\n",
    "\n",
    "m = y_f_test\n",
    "\n",
    "\n",
    "print('_____________________________________________________')\n",
    "\n",
    "for i in range(0,len(m)):\n",
    "    if m[i] == 0:\n",
    "        count3+=1\n",
    "    elif m[i] == 1 :\n",
    "        count4+=1  \n",
    "    else:\n",
    "        print(\"NOT A STAR\")      \n",
    "\n",
    "\n",
    "\n",
    "print(\"Original No of Normal stars  = {}\".format(count3))\n",
    "print(\"Original No. of Pulsars = {}\".format(count4))\n",
    "print(\"Total tested stars = {}\".format(len(x_f_test)))\n",
    "\n",
    "print('_____________________________________________________')\n",
    "print(\"Accuracy = {} %\".format((val_acc)*100))"
   ]
  },
  {
   "cell_type": "markdown",
   "metadata": {},
   "source": [
    "## Saving trained data using pickle"
   ]
  },
  {
   "cell_type": "code",
   "execution_count": 12,
   "metadata": {},
   "outputs": [],
   "source": [
    "import pickle\n",
    "\n",
    "c = np.hstack((x_train,y_train))    # Merging the label column (y_test) with the X_test  i.e the total training set\n",
    "\n",
    "with open(\"pulsar_model.pickle\",\"wb\") as f:\n",
    "    pickle.dump( c , f)"
   ]
  }
 ],
 "metadata": {
  "kernelspec": {
   "display_name": "Python 3",
   "language": "python",
   "name": "python3"
  },
  "language_info": {
   "codemirror_mode": {
    "name": "ipython",
    "version": 3
   },
   "file_extension": ".py",
   "mimetype": "text/x-python",
   "name": "python",
   "nbconvert_exporter": "python",
   "pygments_lexer": "ipython3",
   "version": "3.7.3"
  }
 },
 "nbformat": 4,
 "nbformat_minor": 2
}
