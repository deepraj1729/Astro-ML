{
 "cells": [
  {
   "cell_type": "markdown",
   "metadata": {},
   "source": [
    "# Star Classifier using ML with Deep Neural Network"
   ]
  },
  {
   "cell_type": "markdown",
   "metadata": {},
   "source": [
    "## -- Neccessary modules "
   ]
  },
  {
   "cell_type": "code",
   "execution_count": 1,
   "metadata": {},
   "outputs": [],
   "source": [
    "import tensorflow as tf \n",
    "from tensorflow import keras\n",
    "from sklearn import preprocessing, model_selection\n",
    "import numpy as np \n",
    "import pandas as pd "
   ]
  },
  {
   "cell_type": "markdown",
   "metadata": {},
   "source": [
    "## -- Load data of stars from CSV"
   ]
  },
  {
   "cell_type": "code",
   "execution_count": 2,
   "metadata": {},
   "outputs": [],
   "source": [
    "df = pd.read_csv('C:\\\\Users\\\\User1\\\\Desktop\\\\Multi class classifier\\\\4 class classifier\\\\Star Classifier\\\\Star Dataset.csv')"
   ]
  },
  {
   "cell_type": "code",
   "execution_count": 3,
   "metadata": {},
   "outputs": [
    {
     "data": {
      "text/html": [
       "<div>\n",
       "<style scoped>\n",
       "    .dataframe tbody tr th:only-of-type {\n",
       "        vertical-align: middle;\n",
       "    }\n",
       "\n",
       "    .dataframe tbody tr th {\n",
       "        vertical-align: top;\n",
       "    }\n",
       "\n",
       "    .dataframe thead th {\n",
       "        text-align: right;\n",
       "    }\n",
       "</style>\n",
       "<table border=\"1\" class=\"dataframe\">\n",
       "  <thead>\n",
       "    <tr style=\"text-align: right;\">\n",
       "      <th></th>\n",
       "      <th>Temperature (K)</th>\n",
       "      <th>Luminosity(L/Lo)</th>\n",
       "      <th>Radius(R/Ro)</th>\n",
       "      <th>Absolute magnitude(Mv)</th>\n",
       "      <th>Star type</th>\n",
       "      <th>Star color</th>\n",
       "      <th>Spectral Class</th>\n",
       "    </tr>\n",
       "  </thead>\n",
       "  <tbody>\n",
       "    <tr>\n",
       "      <td>0</td>\n",
       "      <td>3600</td>\n",
       "      <td>0.0029</td>\n",
       "      <td>0.5100</td>\n",
       "      <td>8.69</td>\n",
       "      <td>0</td>\n",
       "      <td>Red</td>\n",
       "      <td>M</td>\n",
       "    </tr>\n",
       "    <tr>\n",
       "      <td>1</td>\n",
       "      <td>3129</td>\n",
       "      <td>0.0122</td>\n",
       "      <td>0.3761</td>\n",
       "      <td>11.79</td>\n",
       "      <td>0</td>\n",
       "      <td>Red</td>\n",
       "      <td>M</td>\n",
       "    </tr>\n",
       "    <tr>\n",
       "      <td>2</td>\n",
       "      <td>3068</td>\n",
       "      <td>0.0024</td>\n",
       "      <td>0.1700</td>\n",
       "      <td>16.12</td>\n",
       "      <td>0</td>\n",
       "      <td>Red</td>\n",
       "      <td>M</td>\n",
       "    </tr>\n",
       "    <tr>\n",
       "      <td>3</td>\n",
       "      <td>3042</td>\n",
       "      <td>0.0005</td>\n",
       "      <td>0.1542</td>\n",
       "      <td>15.60</td>\n",
       "      <td>0</td>\n",
       "      <td>Red</td>\n",
       "      <td>M</td>\n",
       "    </tr>\n",
       "    <tr>\n",
       "      <td>4</td>\n",
       "      <td>3134</td>\n",
       "      <td>0.0004</td>\n",
       "      <td>0.1960</td>\n",
       "      <td>13.21</td>\n",
       "      <td>0</td>\n",
       "      <td>Red</td>\n",
       "      <td>M</td>\n",
       "    </tr>\n",
       "  </tbody>\n",
       "</table>\n",
       "</div>"
      ],
      "text/plain": [
       "   Temperature (K)  Luminosity(L/Lo)  Radius(R/Ro)  Absolute magnitude(Mv)  \\\n",
       "0             3600            0.0029        0.5100                    8.69   \n",
       "1             3129            0.0122        0.3761                   11.79   \n",
       "2             3068            0.0024        0.1700                   16.12   \n",
       "3             3042            0.0005        0.1542                   15.60   \n",
       "4             3134            0.0004        0.1960                   13.21   \n",
       "\n",
       "   Star type Star color Spectral Class  \n",
       "0          0        Red              M  \n",
       "1          0        Red              M  \n",
       "2          0        Red              M  \n",
       "3          0        Red              M  \n",
       "4          0        Red              M  "
      ]
     },
     "execution_count": 3,
     "metadata": {},
     "output_type": "execute_result"
    }
   ],
   "source": [
    "df.head()"
   ]
  },
  {
   "cell_type": "markdown",
   "metadata": {},
   "source": [
    "## -- Converting Data into Numpy Arrays ( For Sake of Convenience)"
   ]
  },
  {
   "cell_type": "code",
   "execution_count": 4,
   "metadata": {},
   "outputs": [],
   "source": [
    "x = np.array(df.drop(['Star type', 'Star color','Spectral Class'],1))   # Excludes Star type, Star color and Spectral Class\n",
    "y = np.array(df['Star type'], dtype ='float')                           # Only Star type column\n",
    "y.shape = (len(y),1)                                                    # Shaping the star type column into a column vector"
   ]
  },
  {
   "cell_type": "markdown",
   "metadata": {},
   "source": [
    "## -- Splitting Data into Training And Testing Datasets"
   ]
  },
  {
   "cell_type": "code",
   "execution_count": 5,
   "metadata": {},
   "outputs": [],
   "source": [
    "x_train ,x_test , y_train, y_test = model_selection.train_test_split(x,y, test_size = 0.4) "
   ]
  },
  {
   "cell_type": "markdown",
   "metadata": {},
   "source": [
    "## -- Scaling Data for Better Modelling (Only x values)"
   ]
  },
  {
   "cell_type": "code",
   "execution_count": 6,
   "metadata": {},
   "outputs": [],
   "source": [
    "x_f_train = preprocessing.scale(x_train)\n",
    "x_f_test = preprocessing.scale(x_test)\n",
    "y_f_train = y_train\n",
    "y_f_test = y_test"
   ]
  },
  {
   "cell_type": "markdown",
   "metadata": {},
   "source": [
    "## -- Using DNN Model for Training Data "
   ]
  },
  {
   "cell_type": "code",
   "execution_count": 7,
   "metadata": {},
   "outputs": [
    {
     "name": "stdout",
     "output_type": "stream",
     "text": [
      "WARNING:tensorflow:From C:\\Users\\User1\\Anaconda3\\lib\\site-packages\\tensorflow\\python\\ops\\init_ops.py:1251: calling VarianceScaling.__init__ (from tensorflow.python.ops.init_ops) with dtype is deprecated and will be removed in a future version.\n",
      "Instructions for updating:\n",
      "Call initializer instance with the dtype argument instead of passing it to the constructor\n"
     ]
    }
   ],
   "source": [
    "model = tf.keras.models.Sequential()\n",
    "model.add(tf.keras.layers.Flatten())\n",
    "model.add(tf.keras.layers.Dense(200,activation = tf.nn.relu))\n",
    "model.add(tf.keras.layers.Dense(300,activation = tf.nn.relu))\n",
    "model.add(tf.keras.layers.Dense(4,activation = tf.nn.softmax))\n",
    "\n",
    "\n",
    "model.compile(optimizer = tf.train.AdamOptimizer(),\n",
    "       loss = 'sparse_categorical_crossentropy',\n",
    "       metrics=['accuracy'])"
   ]
  },
  {
   "cell_type": "markdown",
   "metadata": {},
   "source": [
    "## -- Fitting Data into Model "
   ]
  },
  {
   "cell_type": "code",
   "execution_count": 8,
   "metadata": {
    "scrolled": false
   },
   "outputs": [
    {
     "name": "stdout",
     "output_type": "stream",
     "text": [
      "Epoch 1/50\n",
      "96/96 [==============================] - 0s 1ms/sample - loss: 1.2956 - acc: 0.5208\n",
      "Epoch 2/50\n",
      "96/96 [==============================] - 0s 125us/sample - loss: 1.0342 - acc: 0.8438\n",
      "Epoch 3/50\n",
      "96/96 [==============================] - 0s 125us/sample - loss: 0.8313 - acc: 0.8646\n",
      "Epoch 4/50\n",
      "96/96 [==============================] - 0s 166us/sample - loss: 0.6654 - acc: 0.8958\n",
      "Epoch 5/50\n",
      "96/96 [==============================] - 0s 124us/sample - loss: 0.5345 - acc: 0.9062\n",
      "Epoch 6/50\n",
      "96/96 [==============================] - 0s 166us/sample - loss: 0.4259 - acc: 0.9062\n",
      "Epoch 7/50\n",
      "96/96 [==============================] - 0s 125us/sample - loss: 0.3449 - acc: 0.9167\n",
      "Epoch 8/50\n",
      "96/96 [==============================] - 0s 125us/sample - loss: 0.2797 - acc: 0.9271\n",
      "Epoch 9/50\n",
      "96/96 [==============================] - 0s 83us/sample - loss: 0.2299 - acc: 0.9583\n",
      "Epoch 10/50\n",
      "96/96 [==============================] - 0s 125us/sample - loss: 0.1885 - acc: 0.9583\n",
      "Epoch 11/50\n",
      "96/96 [==============================] - 0s 167us/sample - loss: 0.1597 - acc: 0.9688\n",
      "Epoch 12/50\n",
      "96/96 [==============================] - 0s 125us/sample - loss: 0.1394 - acc: 0.9688\n",
      "Epoch 13/50\n",
      "96/96 [==============================] - 0s 83us/sample - loss: 0.1213 - acc: 0.9688\n",
      "Epoch 14/50\n",
      "96/96 [==============================] - 0s 125us/sample - loss: 0.1073 - acc: 0.9688\n",
      "Epoch 15/50\n",
      "96/96 [==============================] - 0s 83us/sample - loss: 0.0945 - acc: 0.9688\n",
      "Epoch 16/50\n",
      "96/96 [==============================] - 0s 125us/sample - loss: 0.0868 - acc: 0.9688\n",
      "Epoch 17/50\n",
      "96/96 [==============================] - 0s 166us/sample - loss: 0.0782 - acc: 0.9688\n",
      "Epoch 18/50\n",
      "96/96 [==============================] - 0s 166us/sample - loss: 0.0710 - acc: 0.9688\n",
      "Epoch 19/50\n",
      "96/96 [==============================] - 0s 166us/sample - loss: 0.0664 - acc: 0.9688\n",
      "Epoch 20/50\n",
      "96/96 [==============================] - 0s 125us/sample - loss: 0.0618 - acc: 0.9792\n",
      "Epoch 21/50\n",
      "96/96 [==============================] - 0s 125us/sample - loss: 0.0565 - acc: 0.9688\n",
      "Epoch 22/50\n",
      "96/96 [==============================] - 0s 250us/sample - loss: 0.0528 - acc: 0.9688\n",
      "Epoch 23/50\n",
      "96/96 [==============================] - 0s 166us/sample - loss: 0.0491 - acc: 0.9792\n",
      "Epoch 24/50\n",
      "96/96 [==============================] - 0s 166us/sample - loss: 0.0473 - acc: 0.9896\n",
      "Epoch 25/50\n",
      "96/96 [==============================] - 0s 125us/sample - loss: 0.0444 - acc: 0.9896\n",
      "Epoch 26/50\n",
      "96/96 [==============================] - 0s 125us/sample - loss: 0.0429 - acc: 0.9896\n",
      "Epoch 27/50\n",
      "96/96 [==============================] - 0s 83us/sample - loss: 0.0397 - acc: 0.9896\n",
      "Epoch 28/50\n",
      "96/96 [==============================] - 0s 166us/sample - loss: 0.0373 - acc: 0.9896\n",
      "Epoch 29/50\n",
      "96/96 [==============================] - 0s 250us/sample - loss: 0.0348 - acc: 0.9896\n",
      "Epoch 30/50\n",
      "96/96 [==============================] - 0s 166us/sample - loss: 0.0326 - acc: 1.0000\n",
      "Epoch 31/50\n",
      "96/96 [==============================] - 0s 166us/sample - loss: 0.0321 - acc: 1.0000\n",
      "Epoch 32/50\n",
      "96/96 [==============================] - 0s 125us/sample - loss: 0.0316 - acc: 1.0000\n",
      "Epoch 33/50\n",
      "96/96 [==============================] - 0s 124us/sample - loss: 0.0287 - acc: 1.0000\n",
      "Epoch 34/50\n",
      "96/96 [==============================] - 0s 84us/sample - loss: 0.0286 - acc: 1.0000\n",
      "Epoch 35/50\n",
      "96/96 [==============================] - 0s 167us/sample - loss: 0.0261 - acc: 1.0000\n",
      "Epoch 36/50\n",
      "96/96 [==============================] - 0s 124us/sample - loss: 0.0248 - acc: 1.0000\n",
      "Epoch 37/50\n",
      "96/96 [==============================] - 0s 292us/sample - loss: 0.0238 - acc: 1.0000\n",
      "Epoch 38/50\n",
      "96/96 [==============================] - 0s 249us/sample - loss: 0.0229 - acc: 1.0000\n",
      "Epoch 39/50\n",
      "96/96 [==============================] - 0s 125us/sample - loss: 0.0226 - acc: 1.0000\n",
      "Epoch 40/50\n",
      "96/96 [==============================] - 0s 166us/sample - loss: 0.0206 - acc: 1.0000\n",
      "Epoch 41/50\n",
      "96/96 [==============================] - 0s 166us/sample - loss: 0.0211 - acc: 1.0000\n",
      "Epoch 42/50\n",
      "96/96 [==============================] - 0s 125us/sample - loss: 0.0194 - acc: 1.0000\n",
      "Epoch 43/50\n",
      "96/96 [==============================] - 0s 167us/sample - loss: 0.0187 - acc: 1.0000\n",
      "Epoch 44/50\n",
      "96/96 [==============================] - 0s 166us/sample - loss: 0.0184 - acc: 1.0000\n",
      "Epoch 45/50\n",
      "96/96 [==============================] - 0s 125us/sample - loss: 0.0171 - acc: 1.0000\n",
      "Epoch 46/50\n",
      "96/96 [==============================] - 0s 166us/sample - loss: 0.0163 - acc: 1.0000\n",
      "Epoch 47/50\n",
      "96/96 [==============================] - 0s 125us/sample - loss: 0.0160 - acc: 1.0000\n",
      "Epoch 48/50\n",
      "96/96 [==============================] - 0s 250us/sample - loss: 0.0147 - acc: 1.0000\n",
      "Epoch 49/50\n",
      "96/96 [==============================] - 0s 83us/sample - loss: 0.0146 - acc: 1.0000\n",
      "Epoch 50/50\n",
      "96/96 [==============================] - 0s 209us/sample - loss: 0.0141 - acc: 1.0000\n"
     ]
    },
    {
     "data": {
      "text/plain": [
       "<tensorflow.python.keras.callbacks.History at 0x225ffe4ef60>"
      ]
     },
     "execution_count": 8,
     "metadata": {},
     "output_type": "execute_result"
    }
   ],
   "source": [
    "model.fit(x_f_train,y_f_train, epochs = 50)"
   ]
  },
  {
   "cell_type": "markdown",
   "metadata": {},
   "source": [
    "## -- Checking Trained Data For Overfitting and Underfitting"
   ]
  },
  {
   "cell_type": "code",
   "execution_count": 9,
   "metadata": {},
   "outputs": [
    {
     "name": "stdout",
     "output_type": "stream",
     "text": [
      "64/64 [==============================] - 0s 874us/sample - loss: 0.0240 - acc: 1.0000\n",
      "Loss % = 2.4021970108151436 , Accuracy % = 100.0 \n"
     ]
    }
   ],
   "source": [
    "val_loss,val_acc = model.evaluate(x_f_test,y_f_test)\n",
    "print(\"Loss % = {} , Accuracy % = {} \".format(val_loss*100,val_acc*100))"
   ]
  },
  {
   "cell_type": "markdown",
   "metadata": {},
   "source": [
    "## -- Predicting Star Type of Test Data from Trained Data "
   ]
  },
  {
   "cell_type": "code",
   "execution_count": 10,
   "metadata": {},
   "outputs": [],
   "source": [
    "# [1,0,0,0] = Red Dwarf\n",
    "# [0,1,0,0] = White Dwarf\n",
    "# [0,0,1,0] = Supergiant\n",
    "# [0,0,0,1] = Hypergiant\n",
    "\n",
    "arr = np.array([[1,0,0,0],[0,1,0,0],[0,0,1,0],[0,0,0,1]])"
   ]
  },
  {
   "cell_type": "code",
   "execution_count": 11,
   "metadata": {},
   "outputs": [
    {
     "name": "stdout",
     "output_type": "stream",
     "text": [
      "_____________________________________________________\n",
      "Prediction : P-Class : O-Class \n",
      "[1. 0. 0. 0.]  :  0 :  [0.]\n",
      "[1. 0. 0. 0.]  :  0 :  [0.]\n",
      "[0. 0. 0. 1.]  :  3 :  [3.]\n",
      "[1. 0. 0. 0.]  :  0 :  [0.]\n",
      "[0. 0. 1. 0.]  :  2 :  [2.]\n",
      "[1. 0. 0. 0.]  :  0 :  [0.]\n",
      "[0. 0. 0. 1.]  :  3 :  [3.]\n",
      "[0. 0. 0. 1.]  :  3 :  [3.]\n",
      "[0. 0. 0. 1.]  :  3 :  [3.]\n",
      "[0. 0. 1. 0.]  :  2 :  [2.]\n",
      "[1. 0. 0. 0.]  :  0 :  [0.]\n",
      "[0. 1. 0. 0.]  :  1 :  [1.]\n",
      "[1. 0. 0. 0.]  :  0 :  [0.]\n",
      "[0. 0. 1. 0.]  :  2 :  [2.]\n",
      "[1. 0. 0. 0.]  :  0 :  [0.]\n",
      "[0. 1. 0. 0.]  :  1 :  [1.]\n",
      "[0. 1. 0. 0.]  :  1 :  [1.]\n",
      "[0. 0. 1. 0.]  :  2 :  [2.]\n",
      "[0. 0. 0. 1.]  :  3 :  [3.]\n",
      "[0. 1. 0. 0.]  :  1 :  [1.]\n",
      "[1. 0. 0. 0.]  :  0 :  [0.]\n",
      "[0. 0. 1. 0.]  :  2 :  [2.]\n",
      "[0. 0. 0. 1.]  :  3 :  [3.]\n",
      "[0. 1. 0. 0.]  :  1 :  [1.]\n",
      "[0. 1. 0. 0.]  :  1 :  [1.]\n",
      "[0. 1. 0. 0.]  :  1 :  [1.]\n",
      "[0. 1. 0. 0.]  :  1 :  [1.]\n",
      "[0. 0. 0. 1.]  :  3 :  [3.]\n",
      "[0. 1. 0. 0.]  :  1 :  [1.]\n",
      "[0. 0. 0. 1.]  :  3 :  [3.]\n",
      "[0. 0. 0. 1.]  :  3 :  [3.]\n",
      "[1. 0. 0. 0.]  :  0 :  [0.]\n",
      "[1. 0. 0. 0.]  :  0 :  [0.]\n",
      "[0. 0. 0. 1.]  :  3 :  [3.]\n",
      "[0. 1. 0. 0.]  :  1 :  [1.]\n",
      "[1. 0. 0. 0.]  :  0 :  [0.]\n",
      "[0. 1. 0. 0.]  :  1 :  [1.]\n",
      "[0. 0. 1. 0.]  :  2 :  [2.]\n",
      "[0. 0. 0. 1.]  :  3 :  [3.]\n",
      "[1. 0. 0. 0.]  :  0 :  [0.]\n",
      "[0. 0. 1. 0.]  :  2 :  [2.]\n",
      "[0. 1. 0. 0.]  :  1 :  [1.]\n",
      "[0. 0. 0. 1.]  :  3 :  [3.]\n",
      "[1. 0. 0. 0.]  :  0 :  [0.]\n",
      "[0. 0. 0. 1.]  :  3 :  [3.]\n",
      "[0. 0. 1. 0.]  :  2 :  [2.]\n",
      "[0. 1. 0. 0.]  :  1 :  [1.]\n",
      "[0. 1. 0. 0.]  :  1 :  [1.]\n",
      "[0. 0. 1. 0.]  :  2 :  [2.]\n",
      "[0. 0. 1. 0.]  :  2 :  [2.]\n",
      "[0. 1. 0. 0.]  :  1 :  [1.]\n",
      "[0. 1. 0. 0.]  :  1 :  [1.]\n",
      "[0. 0. 1. 0.]  :  2 :  [2.]\n",
      "[0. 0. 1. 0.]  :  2 :  [2.]\n",
      "[0. 1. 0. 0.]  :  1 :  [1.]\n",
      "[0. 1. 0. 0.]  :  1 :  [1.]\n",
      "[0. 0. 0. 1.]  :  3 :  [3.]\n",
      "[0. 0. 1. 0.]  :  2 :  [2.]\n",
      "[1. 0. 0. 0.]  :  0 :  [0.]\n",
      "[0. 0. 0. 1.]  :  3 :  [3.]\n",
      "[0. 1. 0. 0.]  :  1 :  [1.]\n",
      "[0. 1. 0. 0.]  :  1 :  [1.]\n",
      "[0. 1. 0. 0.]  :  1 :  [1.]\n",
      "[1. 0. 0. 0.]  :  0 :  [0.]\n",
      "_____________________________________________________\n",
      "Predicted NO. of Red Dwarfs = 15\n",
      "Predicted NO. of White Dwarfs = 21\n",
      "Predicted NO. of SuperGiants = 13\n",
      "Predicted NO. of Hypergiants = 15\n",
      "Total tested stars = 64\n",
      "_____________________________________________________\n",
      "Original NO. of Red Dwarfs = 15\n",
      "Original NO. of White Dwarfs = 21\n",
      "Original NO. of SuperGiants = 13\n",
      "Original NO. of Hypergiants = 15\n",
      "Total tested stars = 64\n",
      "_____________________________________________________\n",
      "Accuracy = 100.0%\n"
     ]
    }
   ],
   "source": [
    "z = np.round(model.predict(x_f_test))\n",
    "\n",
    "print('_____________________________________________________')\n",
    "print(\"Prediction : P-Class : O-Class \")\n",
    "\n",
    "c1=c2=c3=c4=c5=c6=c7=c8=0  #counter variables\n",
    "\n",
    "for i in range(0,len(z)):\n",
    "    if np.array_equal(z[i],arr[0]):\n",
    "        print(\"{}  :  {} :  {}\".format(z[i],0,y_test[i]))\n",
    "        c1+=1\n",
    "    elif np.array_equal(z[i],arr[1]):\n",
    "        print(\"{}  :  {} :  {}\".format(z[i],1,y_test[i]))\n",
    "        c2+=1\n",
    "    elif np.array_equal(z[i],arr[2]):\n",
    "        print(\"{}  :  {} :  {}\".format(z[i],2,y_test[i]))\n",
    "        c3+=1  \n",
    "    elif np.array_equal(z[i],arr[3]):\n",
    "        print(\"{}  :  {} :  {}\".format(z[i],3,y_test[i]))\n",
    "        c4+=1      \n",
    "\n",
    "print('_____________________________________________________')\n",
    "print(\"Predicted NO. of Red Dwarfs = {}\".format(c1))\n",
    "print(\"Predicted NO. of White Dwarfs = {}\".format(c2))\n",
    "print(\"Predicted NO. of SuperGiants = {}\".format(c3))\n",
    "print(\"Predicted NO. of Hypergiants = {}\".format(c4))\n",
    "print(\"Total tested stars = {}\".format(len(z)))\n",
    "\n",
    "m = y_test\n",
    "\n",
    "print('_____________________________________________________')\n",
    "\n",
    "for i in range(0,len(m)):\n",
    "    if m[i] == 0:\n",
    "        c5+=1\n",
    "    elif m[i] == 1 :\n",
    "        c6+=1 \n",
    "    elif m[i] == 2 :\n",
    "        c7+=1 \n",
    "    elif m[i] == 3 :\n",
    "        c8+=1 \n",
    "    \n",
    "\n",
    "\n",
    "print(\"Original NO. of Red Dwarfs = {}\".format(c5))\n",
    "print(\"Original NO. of White Dwarfs = {}\".format(c6))\n",
    "print(\"Original NO. of SuperGiants = {}\".format(c7))\n",
    "print(\"Original NO. of Hypergiants = {}\".format(c8))\n",
    "print(\"Total tested stars = {}\".format(len(x_test)))\n",
    "\n",
    "print('_____________________________________________________')\n",
    "print('Accuracy = {}%'.format((val_acc*100)))"
   ]
  },
  {
   "cell_type": "markdown",
   "metadata": {},
   "source": [
    "# Data Visualisation "
   ]
  },
  {
   "cell_type": "markdown",
   "metadata": {},
   "source": [
    "## -- Importing Matplotlib module for plotting"
   ]
  },
  {
   "cell_type": "code",
   "execution_count": 12,
   "metadata": {},
   "outputs": [],
   "source": [
    "import matplotlib.pyplot as plt"
   ]
  },
  {
   "cell_type": "markdown",
   "metadata": {},
   "source": [
    "## -- Plotting Original data of Stars"
   ]
  },
  {
   "cell_type": "code",
   "execution_count": 13,
   "metadata": {},
   "outputs": [
    {
     "name": "stdout",
     "output_type": "stream",
     "text": [
      "Total Counted Stars = 160\n"
     ]
    },
    {
     "data": {
      "image/png": "[encoded data removed]",
      "text/plain": [
       "<Figure size 432x288 with 1 Axes>"
      ]
     },
     "metadata": {
      "needs_background": "light"
     },
     "output_type": "display_data"
    }
   ],
   "source": [
    "df1 = pd.read_csv('C:\\\\Users\\\\User1\\\\Desktop\\\\Multi class classifier\\\\4 class classifier\\\\My Notebook\\\\4 class csv.csv')\n",
    "\n",
    "## data plotting\n",
    "\n",
    "x1 = np.array(df1.drop(['Star color','Spectral Class'],1))\n",
    "y1 = np.array(df1['Star type'], dtype ='float')\n",
    "y1.shape = (len(y1),1)\n",
    "c1 =0\n",
    "\n",
    "for i in range(0,len(x1)):\n",
    "    if x1[i][4] == 0:\n",
    "        a = plt.scatter(x1[i][0],x1[i][3], s = 50 , c = 'red', marker = '.')\n",
    "    elif x1[i][4]== 1:\n",
    "        b = plt.scatter(x1[i][0],x1[i][3],s = 75 , c = 'green',marker = '.')\n",
    "    elif x1[i][4]== 2:\n",
    "        c = plt.scatter(x1[i][0],x1[i][3],s = 100 , c = 'orange',marker = 'o')\n",
    "    elif x1[i][4]== 3:\n",
    "        d = plt.scatter(x1[i][0],x1[i][3],s = 150 , c = 'blue',marker = 'o')    \n",
    "    c1+=1\n",
    "\n",
    "\n",
    "print(\"Total Counted Stars = {}\".format(c1)) \n",
    "plt.xlabel(\"Temperature(K)\")\n",
    "plt.ylabel(\"Absolute Nagnitude(Mv)\")\n",
    "plt.title(\"H-R Diagram of Stars \")\n",
    "plt.legend((a,b,c,d),('Red Dwarf','White Dwarf','Supergiant','Hypergiant'))\n",
    "m = np.linspace(0,40000,100)\n",
    "n = (0*m) -7.5\n",
    "plt.plot(m,n,'--m')\n",
    "plt.gca().invert_xaxis()\n",
    "plt.gca().invert_yaxis()\n",
    "plt.show()"
   ]
  },
  {
   "cell_type": "markdown",
   "metadata": {},
   "source": [
    "## -- Visualizing Trained Data"
   ]
  },
  {
   "cell_type": "code",
   "execution_count": 14,
   "metadata": {},
   "outputs": [
    {
     "name": "stdout",
     "output_type": "stream",
     "text": [
      "Total Trained Stars = 96\n"
     ]
    },
    {
     "data": {
      "image/png": "[encoded data removed]",
      "text/plain": [
       "<Figure size 432x288 with 1 Axes>"
      ]
     },
     "metadata": {
      "needs_background": "light"
     },
     "output_type": "display_data"
    }
   ],
   "source": [
    "c2=0\n",
    "\n",
    "for i in range(0,len(y_train)):\n",
    "    if y_train[i] == 0:\n",
    "        a = plt.scatter(x_train[i][0],x_train[i][3], s = 50 , c = 'red', marker = '.')\n",
    "    elif y_train[i]== 1:\n",
    "        b = plt.scatter(x_train[i][0],x_train[i][3],s = 75 , c = 'green',marker = '.')\n",
    "    elif y_train[i]== 2:\n",
    "        c = plt.scatter(x_train[i][0],x_train[i][3],s = 100 , c = 'orange',marker = 'o')\n",
    "    elif y_train[i]== 3:\n",
    "        d = plt.scatter(x_train[i][0],x_train[i][3],s = 150 , c = 'blue',marker = 'o')    \n",
    "    c2+=1\n",
    "\n",
    "\n",
    "print(\"Total Trained Stars = {}\".format(c2)) \n",
    "plt.xlabel(\"Temperature(K)\")\n",
    "plt.ylabel(\"Absolute Nagnitude(Mv)\")\n",
    "plt.title(\"H-R Diagram of Stars \")\n",
    "plt.legend((a,b,c,d),('Red Dwarf','White Dwarf','Supergiant','Hypergiant'))\n",
    "m = np.linspace(0,40000,100)\n",
    "n = (0*m) -7.5\n",
    "plt.plot(m,n,'--m')\n",
    "plt.gca().invert_xaxis()\n",
    "plt.gca().invert_yaxis()\n",
    "plt.show()"
   ]
  },
  {
   "cell_type": "markdown",
   "metadata": {},
   "source": [
    "## -- Visualizing Tested Data "
   ]
  },
  {
   "cell_type": "code",
   "execution_count": 15,
   "metadata": {},
   "outputs": [
    {
     "name": "stdout",
     "output_type": "stream",
     "text": [
      "Total Tested Stars = 64\n"
     ]
    },
    {
     "data": {
      "image/png": "[encoded data removed]",
      "text/plain": [
       "<Figure size 432x288 with 1 Axes>"
      ]
     },
     "metadata": {
      "needs_background": "light"
     },
     "output_type": "display_data"
    }
   ],
   "source": [
    "c3=0\n",
    "\n",
    "for i in range(0,len(y_test)):\n",
    "    if y_test[i] == 0:\n",
    "        a = plt.scatter(x_test[i][0],x_test[i][3], s = 50 , c = 'red', marker = '.')\n",
    "    elif y_test[i]== 1:\n",
    "        b = plt.scatter(x_test[i][0],x_test[i][3],s = 75 , c = 'green',marker = '.')\n",
    "    elif y_test[i]== 2:\n",
    "        c = plt.scatter(x_test[i][0],x_test[i][3],s = 100 , c = 'orange',marker = 'o')\n",
    "    elif y_test[i]== 3:\n",
    "        d = plt.scatter(x_test[i][0],x_test[i][3],s = 150 , c = 'blue',marker = 'o')    \n",
    "    c3+=1\n",
    "\n",
    "\n",
    "print(\"Total Tested Stars = {}\".format(c3)) \n",
    "plt.xlabel(\"Temperature(K)\")\n",
    "plt.ylabel(\"Absolute Nagnitude(Mv)\")\n",
    "plt.title(\"H-R Diagram of Stars \")\n",
    "plt.legend((a,b,c,d),('Red Dwarf','White Dwarf','Supergiant','Hypergiant'))\n",
    "m = np.linspace(0,40000,100)\n",
    "n = (0*m) -7.5\n",
    "plt.plot(m,n,'--m')\n",
    "plt.gca().invert_xaxis()\n",
    "plt.gca().invert_yaxis()\n",
    "plt.show()"
   ]
  },
  {
   "cell_type": "markdown",
   "metadata": {},
   "source": [
    "## -- Visualizing Predicted data"
   ]
  },
  {
   "cell_type": "code",
   "execution_count": 16,
   "metadata": {},
   "outputs": [
    {
     "name": "stdout",
     "output_type": "stream",
     "text": [
      "Total Predicted Stars = 64\n"
     ]
    },
    {
     "data": {
      "image/png": "[encoded data removed]",
      "text/plain": [
       "<Figure size 432x288 with 1 Axes>"
      ]
     },
     "metadata": {
      "needs_background": "light"
     },
     "output_type": "display_data"
    }
   ],
   "source": [
    "c4 = 0\n",
    "\n",
    "for i in range(0,len(z)):\n",
    "    if np.array_equal(z[i],arr[0]):\n",
    "        a = plt.scatter(x_test[i][0],x_test[i][3], s = 50 , c = 'red', marker = '.')\n",
    "    elif np.array_equal(z[i],arr[1]):\n",
    "        b = plt.scatter(x_test[i][0],x_test[i][3],s = 75 , c = 'green',marker = '.')\n",
    "    elif np.array_equal(z[i],arr[2]):\n",
    "        c = plt.scatter(x_test[i][0],x_test[i][3],s = 100 , c = 'orange',marker = 'o')\n",
    "    elif np.array_equal(z[i],arr[3]):\n",
    "        d = plt.scatter(x_test[i][0],x_test[i][3],s = 150 , c = 'blue',marker = 'o') \n",
    "    c4+=1\n",
    "\n",
    "print(\"Total Predicted Stars = {}\".format(c4)) \n",
    "plt.xlabel(\"Temperature(K)\")\n",
    "plt.ylabel(\"Absolute Nagnitude(Mv)\")\n",
    "plt.title(\"H-R Diagram of Stars \")\n",
    "plt.legend((a,b,c,d),('Red Dwarf','White Dwarf','Supergiant','Hypergiant'))\n",
    "m = np.linspace(0,40000,100)\n",
    "n = (0*m) -7.5\n",
    "plt.plot(m,n,'--m')\n",
    "plt.gca().invert_xaxis()\n",
    "plt.gca().invert_yaxis()\n",
    "plt.show()\n",
    "    "
   ]
  }
 ],
 "metadata": {
  "kernelspec": {
   "display_name": "Python 3",
   "language": "python",
   "name": "python3"
  },
  "language_info": {
   "codemirror_mode": {
    "name": "ipython",
    "version": 3
   },
   "file_extension": ".py",
   "mimetype": "text/x-python",
   "name": "python",
   "nbconvert_exporter": "python",
   "pygments_lexer": "ipython3",
   "version": "3.7.3"
  }
 },
 "nbformat": 4,
 "nbformat_minor": 2
}
