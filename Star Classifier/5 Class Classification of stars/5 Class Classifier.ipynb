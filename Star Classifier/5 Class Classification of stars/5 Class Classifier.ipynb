{
 "cells": [
  {
   "cell_type": "markdown",
   "metadata": {},
   "source": [
    "# 5 Class Star Classifier Using Deep Neural Networks "
   ]
  },
  {
   "cell_type": "markdown",
   "metadata": {},
   "source": [
    "## -- Neccessary modules "
   ]
  },
  {
   "cell_type": "code",
   "execution_count": 1,
   "metadata": {},
   "outputs": [],
   "source": [
    "import tensorflow as tf \n",
    "from tensorflow import keras\n",
    "from sklearn import preprocessing, model_selection\n",
    "import numpy as np \n",
    "import pandas as pd "
   ]
  },
  {
   "cell_type": "markdown",
   "metadata": {},
   "source": [
    "## -- Load data of stars from CSV"
   ]
  },
  {
   "cell_type": "code",
   "execution_count": 2,
   "metadata": {},
   "outputs": [],
   "source": [
    "df = pd.read_csv('C:\\\\Users\\\\User1\\\\Desktop\\\\Star Classifier\\\\5 Class Classification of stars\\\\5 class.csv')"
   ]
  },
  {
   "cell_type": "code",
   "execution_count": 3,
   "metadata": {},
   "outputs": [
    {
     "data": {
      "text/html": [
       "<div>\n",
       "<style scoped>\n",
       "    .dataframe tbody tr th:only-of-type {\n",
       "        vertical-align: middle;\n",
       "    }\n",
       "\n",
       "    .dataframe tbody tr th {\n",
       "        vertical-align: top;\n",
       "    }\n",
       "\n",
       "    .dataframe thead th {\n",
       "        text-align: right;\n",
       "    }\n",
       "</style>\n",
       "<table border=\"1\" class=\"dataframe\">\n",
       "  <thead>\n",
       "    <tr style=\"text-align: right;\">\n",
       "      <th></th>\n",
       "      <th>Temperature (K)</th>\n",
       "      <th>Luminosity(L/Lo)</th>\n",
       "      <th>Radius(R/Ro)</th>\n",
       "      <th>Absolute magnitude(Mv)</th>\n",
       "      <th>Star type</th>\n",
       "      <th>Star color</th>\n",
       "      <th>Spectral Class</th>\n",
       "    </tr>\n",
       "  </thead>\n",
       "  <tbody>\n",
       "    <tr>\n",
       "      <td>0</td>\n",
       "      <td>3068</td>\n",
       "      <td>0.002400</td>\n",
       "      <td>0.1700</td>\n",
       "      <td>16.12</td>\n",
       "      <td>0</td>\n",
       "      <td>Red</td>\n",
       "      <td>M</td>\n",
       "    </tr>\n",
       "    <tr>\n",
       "      <td>1</td>\n",
       "      <td>3042</td>\n",
       "      <td>0.000500</td>\n",
       "      <td>0.1542</td>\n",
       "      <td>16.91</td>\n",
       "      <td>0</td>\n",
       "      <td>Red</td>\n",
       "      <td>M</td>\n",
       "    </tr>\n",
       "    <tr>\n",
       "      <td>2</td>\n",
       "      <td>2600</td>\n",
       "      <td>0.000300</td>\n",
       "      <td>0.1020</td>\n",
       "      <td>18.70</td>\n",
       "      <td>0</td>\n",
       "      <td>Red</td>\n",
       "      <td>M</td>\n",
       "    </tr>\n",
       "    <tr>\n",
       "      <td>3</td>\n",
       "      <td>2800</td>\n",
       "      <td>0.000200</td>\n",
       "      <td>0.1600</td>\n",
       "      <td>16.65</td>\n",
       "      <td>0</td>\n",
       "      <td>Red</td>\n",
       "      <td>M</td>\n",
       "    </tr>\n",
       "    <tr>\n",
       "      <td>4</td>\n",
       "      <td>1939</td>\n",
       "      <td>0.000138</td>\n",
       "      <td>0.1030</td>\n",
       "      <td>20.06</td>\n",
       "      <td>0</td>\n",
       "      <td>Red</td>\n",
       "      <td>M</td>\n",
       "    </tr>\n",
       "  </tbody>\n",
       "</table>\n",
       "</div>"
      ],
      "text/plain": [
       "   Temperature (K)  Luminosity(L/Lo)  Radius(R/Ro)  Absolute magnitude(Mv)  \\\n",
       "0             3068          0.002400        0.1700                   16.12   \n",
       "1             3042          0.000500        0.1542                   16.91   \n",
       "2             2600          0.000300        0.1020                   18.70   \n",
       "3             2800          0.000200        0.1600                   16.65   \n",
       "4             1939          0.000138        0.1030                   20.06   \n",
       "\n",
       "   Star type Star color Spectral Class  \n",
       "0          0        Red              M  \n",
       "1          0        Red              M  \n",
       "2          0        Red              M  \n",
       "3          0        Red              M  \n",
       "4          0        Red              M  "
      ]
     },
     "execution_count": 3,
     "metadata": {},
     "output_type": "execute_result"
    }
   ],
   "source": [
    "df.head()"
   ]
  },
  {
   "cell_type": "markdown",
   "metadata": {},
   "source": [
    "## -- Converting Data into Numpy Arrays ( For Sake of Convenience)"
   ]
  },
  {
   "cell_type": "code",
   "execution_count": 10,
   "metadata": {},
   "outputs": [],
   "source": [
    "x = np.array(df.drop(['Star type', 'Star color','Spectral Class'],1))   # Excludes Star type, Star color and Spectral Class\n",
    "y = np.array(df['Star type'], dtype ='float')                           # Only Star type column\n",
    "y.shape = (len(y),1)                                                    # Shaping the star type column into a column vector"
   ]
  },
  {
   "cell_type": "markdown",
   "metadata": {},
   "source": [
    "## -- Splitting Data into Training And Testing Datasets"
   ]
  },
  {
   "cell_type": "code",
   "execution_count": 11,
   "metadata": {},
   "outputs": [],
   "source": [
    "x_train ,x_test , y_train, y_test = model_selection.train_test_split(x,y, test_size = 0.3) "
   ]
  },
  {
   "cell_type": "markdown",
   "metadata": {},
   "source": [
    "## -- Scaling Data for Better Modelling (Only x values)"
   ]
  },
  {
   "cell_type": "code",
   "execution_count": 12,
   "metadata": {},
   "outputs": [],
   "source": [
    "x_f_train = preprocessing.scale(x_train)\n",
    "x_f_test = preprocessing.scale(x_test)\n",
    "y_f_train = y_train\n",
    "y_f_test = y_test"
   ]
  },
  {
   "cell_type": "markdown",
   "metadata": {},
   "source": [
    "## -- Using DNN Model for Training Data "
   ]
  },
  {
   "cell_type": "code",
   "execution_count": 13,
   "metadata": {},
   "outputs": [],
   "source": [
    "model = tf.keras.models.Sequential()\n",
    "model.add(tf.keras.layers.Flatten())\n",
    "model.add(tf.keras.layers.Dense(200,activation = tf.nn.relu))\n",
    "model.add(tf.keras.layers.Dense(300,activation = tf.nn.relu))\n",
    "model.add(tf.keras.layers.Dense(5,activation = tf.nn.softmax))\n",
    "\n",
    "\n",
    "model.compile(optimizer = tf.train.AdamOptimizer(),\n",
    "       loss = 'sparse_categorical_crossentropy',\n",
    "       metrics=['accuracy'])"
   ]
  },
  {
   "cell_type": "markdown",
   "metadata": {},
   "source": [
    "## -- Fitting Data into Model "
   ]
  },
  {
   "cell_type": "code",
   "execution_count": 14,
   "metadata": {},
   "outputs": [
    {
     "name": "stdout",
     "output_type": "stream",
     "text": [
      "Epoch 1/100\n",
      "140/140 [==============================] - 0s 2ms/sample - loss: 1.4638 - acc: 0.4500\n",
      "Epoch 2/100\n",
      "140/140 [==============================] - 0s 91us/sample - loss: 1.1087 - acc: 0.8071\n",
      "Epoch 3/100\n",
      "140/140 [==============================] - 0s 219us/sample - loss: 0.8682 - acc: 0.7643\n",
      "Epoch 4/100\n",
      "140/140 [==============================] - 0s 227us/sample - loss: 0.7077 - acc: 0.7143\n",
      "Epoch 5/100\n",
      "140/140 [==============================] - 0s 249us/sample - loss: 0.5890 - acc: 0.7857\n",
      "Epoch 6/100\n",
      "140/140 [==============================] - 0s 190us/sample - loss: 0.5106 - acc: 0.8786\n",
      "Epoch 7/100\n",
      "140/140 [==============================] - 0s 109us/sample - loss: 0.4533 - acc: 0.9357\n",
      "Epoch 8/100\n",
      "140/140 [==============================] - 0s 147us/sample - loss: 0.4021 - acc: 0.9286\n",
      "Epoch 9/100\n",
      "140/140 [==============================] - 0s 133us/sample - loss: 0.3628 - acc: 0.9286\n",
      "Epoch 10/100\n",
      "140/140 [==============================] - 0s 188us/sample - loss: 0.3305 - acc: 0.9643\n",
      "Epoch 11/100\n",
      "140/140 [==============================] - 0s 197us/sample - loss: 0.3026 - acc: 0.9643\n",
      "Epoch 12/100\n",
      "140/140 [==============================] - 0s 297us/sample - loss: 0.2728 - acc: 0.9643\n",
      "Epoch 13/100\n",
      "140/140 [==============================] - 0s 225us/sample - loss: 0.2510 - acc: 0.9500\n",
      "Epoch 14/100\n",
      "140/140 [==============================] - 0s 216us/sample - loss: 0.2307 - acc: 0.9786\n",
      "Epoch 15/100\n",
      "140/140 [==============================] - 0s 234us/sample - loss: 0.2034 - acc: 0.9857\n",
      "Epoch 16/100\n",
      "140/140 [==============================] - 0s 256us/sample - loss: 0.1857 - acc: 0.9643\n",
      "Epoch 17/100\n",
      "140/140 [==============================] - 0s 149us/sample - loss: 0.1682 - acc: 0.9643\n",
      "Epoch 18/100\n",
      "140/140 [==============================] - 0s 202us/sample - loss: 0.1535 - acc: 0.9857\n",
      "Epoch 19/100\n",
      "140/140 [==============================] - 0s 225us/sample - loss: 0.1365 - acc: 0.9929\n",
      "Epoch 20/100\n",
      "140/140 [==============================] - 0s 162us/sample - loss: 0.1308 - acc: 1.0000\n",
      "Epoch 21/100\n",
      "140/140 [==============================] - 0s 230us/sample - loss: 0.1193 - acc: 1.0000\n",
      "Epoch 22/100\n",
      "140/140 [==============================] - 0s 257us/sample - loss: 0.1101 - acc: 0.9857\n",
      "Epoch 23/100\n",
      "140/140 [==============================] - 0s 157us/sample - loss: 0.0974 - acc: 1.0000\n",
      "Epoch 24/100\n",
      "140/140 [==============================] - 0s 203us/sample - loss: 0.0996 - acc: 0.9929\n",
      "Epoch 25/100\n",
      "140/140 [==============================] - 0s 119us/sample - loss: 0.0857 - acc: 1.0000\n",
      "Epoch 26/100\n",
      "140/140 [==============================] - 0s 157us/sample - loss: 0.0822 - acc: 1.0000\n",
      "Epoch 27/100\n",
      "140/140 [==============================] - 0s 421us/sample - loss: 0.0741 - acc: 1.0000\n",
      "Epoch 28/100\n",
      "140/140 [==============================] - 0s 157us/sample - loss: 0.0707 - acc: 1.0000\n",
      "Epoch 29/100\n",
      "140/140 [==============================] - 0s 161us/sample - loss: 0.0651 - acc: 1.0000\n",
      "Epoch 30/100\n",
      "140/140 [==============================] - 0s 366us/sample - loss: 0.0610 - acc: 1.0000\n",
      "Epoch 31/100\n",
      "140/140 [==============================] - 0s 164us/sample - loss: 0.0600 - acc: 1.0000\n",
      "Epoch 32/100\n",
      "140/140 [==============================] - 0s 218us/sample - loss: 0.0550 - acc: 1.0000\n",
      "Epoch 33/100\n",
      "140/140 [==============================] - 0s 200us/sample - loss: 0.0542 - acc: 1.0000\n",
      "Epoch 34/100\n",
      "140/140 [==============================] - 0s 231us/sample - loss: 0.0503 - acc: 1.0000\n",
      "Epoch 35/100\n",
      "140/140 [==============================] - 0s 123us/sample - loss: 0.0500 - acc: 1.0000\n",
      "Epoch 36/100\n",
      "140/140 [==============================] - 0s 317us/sample - loss: 0.0510 - acc: 1.0000\n",
      "Epoch 37/100\n",
      "140/140 [==============================] - 0s 402us/sample - loss: 0.0439 - acc: 1.0000\n",
      "Epoch 38/100\n",
      "140/140 [==============================] - 0s 200us/sample - loss: 0.0424 - acc: 1.0000\n",
      "Epoch 39/100\n",
      "140/140 [==============================] - 0s 199us/sample - loss: 0.0432 - acc: 1.0000\n",
      "Epoch 40/100\n",
      "140/140 [==============================] - 0s 238us/sample - loss: 0.0381 - acc: 1.0000\n",
      "Epoch 41/100\n",
      "140/140 [==============================] - 0s 314us/sample - loss: 0.0459 - acc: 0.9929\n",
      "Epoch 42/100\n",
      "140/140 [==============================] - 0s 215us/sample - loss: 0.0414 - acc: 0.9929\n",
      "Epoch 43/100\n",
      "140/140 [==============================] - 0s 141us/sample - loss: 0.0412 - acc: 0.9929\n",
      "Epoch 44/100\n",
      "140/140 [==============================] - 0s 261us/sample - loss: 0.0368 - acc: 1.0000\n",
      "Epoch 45/100\n",
      "140/140 [==============================] - 0s 321us/sample - loss: 0.0325 - acc: 1.0000\n",
      "Epoch 46/100\n",
      "140/140 [==============================] - 0s 324us/sample - loss: 0.0275 - acc: 1.0000\n",
      "Epoch 47/100\n",
      "140/140 [==============================] - 0s 198us/sample - loss: 0.0272 - acc: 1.0000\n",
      "Epoch 48/100\n",
      "140/140 [==============================] - 0s 257us/sample - loss: 0.0264 - acc: 1.0000\n",
      "Epoch 49/100\n",
      "140/140 [==============================] - 0s 140us/sample - loss: 0.0246 - acc: 1.0000\n",
      "Epoch 50/100\n",
      "140/140 [==============================] - 0s 232us/sample - loss: 0.0253 - acc: 1.0000\n",
      "Epoch 51/100\n",
      "140/140 [==============================] - 0s 283us/sample - loss: 0.0264 - acc: 1.0000\n",
      "Epoch 52/100\n",
      "140/140 [==============================] - 0s 256us/sample - loss: 0.0284 - acc: 1.0000\n",
      "Epoch 53/100\n",
      "140/140 [==============================] - 0s 185us/sample - loss: 0.0223 - acc: 1.0000\n",
      "Epoch 54/100\n",
      "140/140 [==============================] - 0s 209us/sample - loss: 0.0220 - acc: 1.0000\n",
      "Epoch 55/100\n",
      "140/140 [==============================] - 0s 328us/sample - loss: 0.0216 - acc: 1.0000\n",
      "Epoch 56/100\n",
      "140/140 [==============================] - 0s 276us/sample - loss: 0.0206 - acc: 1.0000\n",
      "Epoch 57/100\n",
      "140/140 [==============================] - 0s 286us/sample - loss: 0.0192 - acc: 1.0000\n",
      "Epoch 58/100\n",
      "140/140 [==============================] - 0s 187us/sample - loss: 0.0184 - acc: 1.0000\n",
      "Epoch 59/100\n",
      "140/140 [==============================] - 0s 292us/sample - loss: 0.0188 - acc: 1.0000\n",
      "Epoch 60/100\n",
      "140/140 [==============================] - 0s 222us/sample - loss: 0.0168 - acc: 1.0000\n",
      "Epoch 61/100\n",
      "140/140 [==============================] - 0s 248us/sample - loss: 0.0189 - acc: 1.0000\n",
      "Epoch 62/100\n",
      "140/140 [==============================] - 0s 259us/sample - loss: 0.0172 - acc: 1.0000\n",
      "Epoch 63/100\n",
      "140/140 [==============================] - 0s 187us/sample - loss: 0.0177 - acc: 1.0000\n",
      "Epoch 64/100\n",
      "140/140 [==============================] - 0s 143us/sample - loss: 0.0179 - acc: 1.0000\n",
      "Epoch 65/100\n",
      "140/140 [==============================] - 0s 340us/sample - loss: 0.0155 - acc: 1.0000\n",
      "Epoch 66/100\n",
      "140/140 [==============================] - 0s 221us/sample - loss: 0.0163 - acc: 1.0000\n",
      "Epoch 67/100\n",
      "140/140 [==============================] - 0s 121us/sample - loss: 0.0151 - acc: 1.0000\n",
      "Epoch 68/100\n",
      "140/140 [==============================] - 0s 211us/sample - loss: 0.0148 - acc: 1.0000\n",
      "Epoch 69/100\n",
      "140/140 [==============================] - 0s 235us/sample - loss: 0.0140 - acc: 1.0000\n",
      "Epoch 70/100\n",
      "140/140 [==============================] - 0s 217us/sample - loss: 0.0135 - acc: 1.0000\n",
      "Epoch 71/100\n",
      "140/140 [==============================] - 0s 154us/sample - loss: 0.0131 - acc: 1.0000\n",
      "Epoch 72/100\n",
      "140/140 [==============================] - 0s 312us/sample - loss: 0.0128 - acc: 1.0000\n",
      "Epoch 73/100\n",
      "140/140 [==============================] - 0s 330us/sample - loss: 0.0125 - acc: 1.0000\n",
      "Epoch 74/100\n",
      "140/140 [==============================] - 0s 230us/sample - loss: 0.0120 - acc: 1.0000\n",
      "Epoch 75/100\n",
      "140/140 [==============================] - 0s 239us/sample - loss: 0.0118 - acc: 1.0000\n",
      "Epoch 76/100\n",
      "140/140 [==============================] - 0s 139us/sample - loss: 0.0131 - acc: 1.0000\n",
      "Epoch 77/100\n",
      "140/140 [==============================] - 0s 242us/sample - loss: 0.0120 - acc: 1.0000\n",
      "Epoch 78/100\n",
      "140/140 [==============================] - 0s 157us/sample - loss: 0.0113 - acc: 1.0000\n",
      "Epoch 79/100\n",
      "140/140 [==============================] - 0s 275us/sample - loss: 0.0111 - acc: 1.0000\n",
      "Epoch 80/100\n",
      "140/140 [==============================] - 0s 263us/sample - loss: 0.0106 - acc: 1.0000\n",
      "Epoch 81/100\n",
      "140/140 [==============================] - 0s 293us/sample - loss: 0.0106 - acc: 1.0000\n",
      "Epoch 82/100\n"
     ]
    },
    {
     "name": "stdout",
     "output_type": "stream",
     "text": [
      "140/140 [==============================] - 0s 240us/sample - loss: 0.0103 - acc: 1.0000\n",
      "Epoch 83/100\n",
      "140/140 [==============================] - 0s 164us/sample - loss: 0.0102 - acc: 1.0000\n",
      "Epoch 84/100\n",
      "140/140 [==============================] - 0s 417us/sample - loss: 0.0098 - acc: 1.0000\n",
      "Epoch 85/100\n",
      "140/140 [==============================] - 0s 206us/sample - loss: 0.0099 - acc: 1.0000\n",
      "Epoch 86/100\n",
      "140/140 [==============================] - 0s 101us/sample - loss: 0.0097 - acc: 1.0000\n",
      "Epoch 87/100\n",
      "140/140 [==============================] - 0s 195us/sample - loss: 0.0091 - acc: 1.0000\n",
      "Epoch 88/100\n",
      "140/140 [==============================] - 0s 237us/sample - loss: 0.0090 - acc: 1.0000\n",
      "Epoch 89/100\n",
      "140/140 [==============================] - 0s 208us/sample - loss: 0.0090 - acc: 1.0000\n",
      "Epoch 90/100\n",
      "140/140 [==============================] - 0s 212us/sample - loss: 0.0087 - acc: 1.0000\n",
      "Epoch 91/100\n",
      "140/140 [==============================] - 0s 181us/sample - loss: 0.0095 - acc: 1.0000\n",
      "Epoch 92/100\n",
      "140/140 [==============================] - 0s 172us/sample - loss: 0.0097 - acc: 1.0000\n",
      "Epoch 93/100\n",
      "140/140 [==============================] - 0s 139us/sample - loss: 0.0083 - acc: 1.0000\n",
      "Epoch 94/100\n",
      "140/140 [==============================] - 0s 152us/sample - loss: 0.0086 - acc: 1.0000\n",
      "Epoch 95/100\n",
      "140/140 [==============================] - 0s 143us/sample - loss: 0.0094 - acc: 1.0000\n",
      "Epoch 96/100\n",
      "140/140 [==============================] - 0s 225us/sample - loss: 0.0094 - acc: 1.0000\n",
      "Epoch 97/100\n",
      "140/140 [==============================] - 0s 141us/sample - loss: 0.0084 - acc: 1.0000\n",
      "Epoch 98/100\n",
      "140/140 [==============================] - 0s 143us/sample - loss: 0.0074 - acc: 1.0000\n",
      "Epoch 99/100\n",
      "140/140 [==============================] - 0s 206us/sample - loss: 0.0079 - acc: 1.0000\n",
      "Epoch 100/100\n",
      "140/140 [==============================] - 0s 200us/sample - loss: 0.0072 - acc: 1.0000\n"
     ]
    },
    {
     "data": {
      "text/plain": [
       "<tensorflow.python.keras.callbacks.History at 0x250581ae908>"
      ]
     },
     "execution_count": 14,
     "metadata": {},
     "output_type": "execute_result"
    }
   ],
   "source": [
    "model.fit(x_f_train,y_f_train, epochs = 100)"
   ]
  },
  {
   "cell_type": "markdown",
   "metadata": {},
   "source": [
    "## -- Checking Trained Data For Overfitting and Underfitting over tested data"
   ]
  },
  {
   "cell_type": "code",
   "execution_count": 15,
   "metadata": {},
   "outputs": [
    {
     "name": "stdout",
     "output_type": "stream",
     "text": [
      "60/60 [==============================] - 0s 2ms/sample - loss: 0.0087 - acc: 1.0000\n",
      "Loss % = 0.8740041591227053 , Accuracy % = 100.0 \n"
     ]
    }
   ],
   "source": [
    "val_loss,val_acc = model.evaluate(x_f_test,y_f_test)\n",
    "print(\"Loss % = {} , Accuracy % = {} \".format(val_loss*100,val_acc*100))"
   ]
  },
  {
   "cell_type": "markdown",
   "metadata": {},
   "source": [
    "## -- Predicting Star Type of Test Data from Trained Data "
   ]
  },
  {
   "cell_type": "code",
   "execution_count": 16,
   "metadata": {},
   "outputs": [],
   "source": [
    "# [1,0,0,0,0] = Brown Dwarf\n",
    "# [0,1,0,0,0] = Red Dwarf\n",
    "# [0,0,1,0,0] = White Dwarf\n",
    "# [0,0,0,1,0] = Supergiant\n",
    "# [0,0,0,0,1] = Hypergiant\n",
    "\n",
    "arr = np.array([[1,0,0,0,0],[0,1,0,0,0],[0,0,1,0,0],[0,0,0,1,0],[0,0,0,0,1]])"
   ]
  },
  {
   "cell_type": "code",
   "execution_count": 17,
   "metadata": {},
   "outputs": [
    {
     "name": "stdout",
     "output_type": "stream",
     "text": [
      "_____________________________________________________\n",
      "Prediction : P-Class : O-Class \n",
      "[0. 0. 1. 0. 0.]  :  2 :  [2.]\n",
      "[0. 0. 1. 0. 0.]  :  2 :  [2.]\n",
      "[0. 1. 0. 0. 0.]  :  1 :  [1.]\n",
      "[1. 0. 0. 0. 0.]  :  0 :  [0.]\n",
      "[0. 0. 1. 0. 0.]  :  2 :  [2.]\n",
      "[0. 1. 0. 0. 0.]  :  1 :  [1.]\n",
      "[0. 0. 0. 0. 1.]  :  4 :  [4.]\n",
      "[0. 0. 0. 0. 1.]  :  4 :  [4.]\n",
      "[0. 1. 0. 0. 0.]  :  1 :  [1.]\n",
      "[0. 0. 0. 0. 1.]  :  4 :  [4.]\n",
      "[0. 0. 1. 0. 0.]  :  2 :  [2.]\n",
      "[0. 0. 0. 0. 1.]  :  4 :  [4.]\n",
      "[0. 0. 0. 0. 1.]  :  4 :  [4.]\n",
      "[0. 0. 0. 1. 0.]  :  3 :  [3.]\n",
      "[0. 1. 0. 0. 0.]  :  1 :  [1.]\n",
      "[0. 1. 0. 0. 0.]  :  1 :  [1.]\n",
      "[1. 0. 0. 0. 0.]  :  0 :  [0.]\n",
      "[0. 0. 0. 0. 1.]  :  4 :  [4.]\n",
      "[0. 0. 0. 0. 1.]  :  4 :  [4.]\n",
      "[0. 0. 1. 0. 0.]  :  2 :  [2.]\n",
      "[0. 1. 0. 0. 0.]  :  1 :  [1.]\n",
      "[1. 0. 0. 0. 0.]  :  0 :  [0.]\n",
      "[0. 0. 1. 0. 0.]  :  2 :  [2.]\n",
      "[1. 0. 0. 0. 0.]  :  0 :  [0.]\n",
      "[0. 0. 0. 1. 0.]  :  3 :  [3.]\n",
      "[0. 0. 1. 0. 0.]  :  2 :  [2.]\n",
      "[0. 0. 0. 1. 0.]  :  3 :  [3.]\n",
      "[0. 0. 0. 0. 1.]  :  4 :  [4.]\n",
      "[0. 0. 0. 1. 0.]  :  3 :  [3.]\n",
      "[0. 0. 0. 1. 0.]  :  3 :  [3.]\n",
      "[0. 0. 0. 0. 1.]  :  4 :  [4.]\n",
      "[1. 0. 0. 0. 0.]  :  0 :  [0.]\n",
      "[0. 0. 0. 1. 0.]  :  3 :  [3.]\n",
      "[1. 0. 0. 0. 0.]  :  0 :  [0.]\n",
      "[1. 0. 0. 0. 0.]  :  0 :  [0.]\n",
      "[0. 0. 1. 0. 0.]  :  2 :  [2.]\n",
      "[0. 0. 1. 0. 0.]  :  2 :  [2.]\n",
      "[0. 0. 0. 1. 0.]  :  3 :  [3.]\n",
      "[0. 1. 0. 0. 0.]  :  1 :  [1.]\n",
      "[0. 0. 1. 0. 0.]  :  2 :  [2.]\n",
      "[1. 0. 0. 0. 0.]  :  0 :  [0.]\n",
      "[0. 0. 0. 0. 1.]  :  4 :  [4.]\n",
      "[0. 0. 1. 0. 0.]  :  2 :  [2.]\n",
      "[0. 0. 1. 0. 0.]  :  2 :  [2.]\n",
      "[0. 0. 0. 0. 1.]  :  4 :  [4.]\n",
      "[0. 1. 0. 0. 0.]  :  1 :  [1.]\n",
      "[0. 0. 0. 1. 0.]  :  3 :  [3.]\n",
      "[0. 0. 0. 0. 1.]  :  4 :  [4.]\n",
      "[0. 0. 1. 0. 0.]  :  2 :  [2.]\n",
      "[0. 0. 0. 0. 1.]  :  4 :  [4.]\n",
      "[0. 0. 1. 0. 0.]  :  2 :  [2.]\n",
      "[1. 0. 0. 0. 0.]  :  0 :  [0.]\n",
      "[1. 0. 0. 0. 0.]  :  0 :  [0.]\n",
      "[0. 0. 0. 0. 1.]  :  4 :  [4.]\n",
      "[0. 1. 0. 0. 0.]  :  1 :  [1.]\n",
      "[0. 0. 0. 1. 0.]  :  3 :  [3.]\n",
      "[1. 0. 0. 0. 0.]  :  0 :  [0.]\n",
      "[0. 0. 1. 0. 0.]  :  2 :  [2.]\n",
      "[0. 0. 0. 1. 0.]  :  3 :  [3.]\n",
      "[0. 0. 0. 1. 0.]  :  3 :  [3.]\n",
      "_____________________________________________________\n",
      "Predicted NO. of Brown Dwarfs = 11\n",
      "Predicted NO. of Red Dwarfs = 9\n",
      "Predicted NO. of White Dwarfs = 15\n",
      "Predicted NO. of Supergiants = 11\n",
      "Predicted NO. of Hypergiants = 14\n",
      "Total tested stars = 60\n",
      "_____________________________________________________\n",
      "Original NO. of Brown Dwarfs = 11\n",
      "Original NO. of Red Dwarfs = 9\n",
      "Original NO. of White Dwarfs = 15\n",
      "Original NO. of Supergiants = 11\n",
      "Original NO. of Hypergiants = 14\n",
      "Total tested stars = 60\n",
      "_____________________________________________________\n",
      "Accuracy = 100.0%\n"
     ]
    }
   ],
   "source": [
    "z = np.round(model.predict(x_f_test))\n",
    "\n",
    "print('_____________________________________________________')\n",
    "print(\"Prediction : P-Class : O-Class \")\n",
    "\n",
    "c1=c2=c3=c4=c5=c6=c7=c8=c9=c10=0  #counter variables\n",
    "\n",
    "for i in range(0,len(z)):\n",
    "    if np.array_equal(z[i],arr[0]):\n",
    "        print(\"{}  :  {} :  {}\".format(z[i],0,y_test[i]))\n",
    "        c1+=1\n",
    "    elif np.array_equal(z[i],arr[1]):\n",
    "        print(\"{}  :  {} :  {}\".format(z[i],1,y_test[i]))\n",
    "        c2+=1\n",
    "    elif np.array_equal(z[i],arr[2]):\n",
    "        print(\"{}  :  {} :  {}\".format(z[i],2,y_test[i]))\n",
    "        c3+=1  \n",
    "    elif np.array_equal(z[i],arr[3]):\n",
    "        print(\"{}  :  {} :  {}\".format(z[i],3,y_test[i]))\n",
    "        c4+=1 \n",
    "    elif np.array_equal(z[i],arr[4]):\n",
    "        print(\"{}  :  {} :  {}\".format(z[i],4,y_test[i]))\n",
    "        c5+=1 \n",
    "\n",
    "print('_____________________________________________________')\n",
    "print(\"Predicted NO. of Brown Dwarfs = {}\".format(c1))\n",
    "print(\"Predicted NO. of Red Dwarfs = {}\".format(c2))\n",
    "print(\"Predicted NO. of White Dwarfs = {}\".format(c3))\n",
    "print(\"Predicted NO. of Supergiants = {}\".format(c4))\n",
    "print(\"Predicted NO. of Hypergiants = {}\".format(c5))\n",
    "print(\"Total tested stars = {}\".format(len(z)))\n",
    "\n",
    "m = y_test\n",
    "\n",
    "print('_____________________________________________________')\n",
    "\n",
    "for i in range(0,len(m)):\n",
    "    if m[i] == 0:\n",
    "        c6+=1\n",
    "    elif m[i] == 1 :\n",
    "        c7+=1 \n",
    "    elif m[i] == 2 :\n",
    "        c8+=1 \n",
    "    elif m[i] == 3 :\n",
    "        c9+=1 \n",
    "    elif m[i] == 4 :\n",
    "        c10+=1 \n",
    "\n",
    "\n",
    "print(\"Original NO. of Brown Dwarfs = {}\".format(c6))\n",
    "print(\"Original NO. of Red Dwarfs = {}\".format(c7))\n",
    "print(\"Original NO. of White Dwarfs = {}\".format(c8))\n",
    "print(\"Original NO. of Supergiants = {}\".format(c9))\n",
    "print(\"Original NO. of Hypergiants = {}\".format(c10))\n",
    "print(\"Total tested stars = {}\".format(len(x_test)))\n",
    "\n",
    "print('_____________________________________________________')\n",
    "print('Accuracy = {}%'.format((val_acc*100)))"
   ]
  },
  {
   "cell_type": "markdown",
   "metadata": {},
   "source": [
    "# Data Visualization"
   ]
  },
  {
   "cell_type": "code",
   "execution_count": 18,
   "metadata": {},
   "outputs": [],
   "source": [
    "import matplotlib.pyplot as plt"
   ]
  },
  {
   "cell_type": "markdown",
   "metadata": {},
   "source": [
    "## -- Plotting Original data of Stars"
   ]
  },
  {
   "cell_type": "code",
   "execution_count": 20,
   "metadata": {},
   "outputs": [
    {
     "name": "stdout",
     "output_type": "stream",
     "text": [
      "Total Counted Stars = 200\n"
     ]
    },
    {
     "data": {
      "image/png": "[encoded data removed]",
      "text/plain": [
       "<Figure size 432x288 with 1 Axes>"
      ]
     },
     "metadata": {
      "needs_background": "light"
     },
     "output_type": "display_data"
    }
   ],
   "source": [
    "df1 = pd.read_csv('C:\\\\Users\\\\User1\\\\Desktop\\\\Multi class classifier\\\\5 class classifier\\\\5 class.csv')\n",
    "\n",
    "## data plotting\n",
    "\n",
    "x1 = np.array(df1.drop(['Star color','Spectral Class'],1))\n",
    "y1 = np.array(df1['Star type'], dtype ='float')\n",
    "y1.shape = (len(y1),1)\n",
    "c1 =0\n",
    "\n",
    "for i in range(0,len(x1)):\n",
    "    if x1[i][4] == 0:\n",
    "        a = plt.scatter(x1[i][0],x1[i][3], s = 30 , c = 'green', marker = '.')\n",
    "    elif x1[i][4]== 1:\n",
    "        b = plt.scatter(x1[i][0],x1[i][3],s = 50 , c = 'red',marker = '.')\n",
    "    elif x1[i][4]== 2:\n",
    "        c = plt.scatter(x1[i][0],x1[i][3],s = 75 , c = 'gray',marker = '.')\n",
    "    elif x1[i][4]== 3:\n",
    "        d = plt.scatter(x1[i][0],x1[i][3],s = 100 , c = 'orange',marker = 'o') \n",
    "    elif x1[i][4]== 4:\n",
    "        e = plt.scatter(x1[i][0],x1[i][3],s = 150 , c = 'blue',marker = 'o')       \n",
    "    c1+=1\n",
    "\n",
    "\n",
    "print(\"Total Counted Stars = {}\".format(c1)) \n",
    "plt.xlabel(\"Temperature(K)\")\n",
    "plt.ylabel(\"Absolute Nagnitude(Mv)\")\n",
    "plt.title(\"H-R Diagram of Stars \")\n",
    "plt.legend((a,b,c,d,e),('Brown Dwarf','Red Dwarf','White Dwarf','Supergiant','Hypergiant'))\n",
    "m = np.linspace(0,40000,100)\n",
    "n = (0*m) -7.5\n",
    "plt.plot(m,n,'--m')\n",
    "f = np.linspace(0,6000,100)\n",
    "g = (0*f)+15.4\n",
    "plt.plot(f,g,'--c')\n",
    "plt.gca().invert_xaxis()\n",
    "plt.gca().invert_yaxis()\n",
    "plt.show()"
   ]
  },
  {
   "cell_type": "markdown",
   "metadata": {},
   "source": [
    "## -- Visualizing Trained Data"
   ]
  },
  {
   "cell_type": "code",
   "execution_count": 21,
   "metadata": {},
   "outputs": [
    {
     "name": "stdout",
     "output_type": "stream",
     "text": [
      "Total Trained Stars = 140\n"
     ]
    },
    {
     "data": {
      "image/png": "[encoded data removed]",
      "text/plain": [
       "<Figure size 432x288 with 1 Axes>"
      ]
     },
     "metadata": {
      "needs_background": "light"
     },
     "output_type": "display_data"
    }
   ],
   "source": [
    "c2=0\n",
    "\n",
    "for i in range(0,len(y_train)):\n",
    "    if y_train[i] == 0:\n",
    "        a = plt.scatter(x_train[i][0],x_train[i][3], s = 30 , c = 'green', marker = '.')\n",
    "    elif y_train[i]== 1:\n",
    "        b = plt.scatter(x_train[i][0],x_train[i][3],s = 50 , c = 'red',marker = '.')\n",
    "    elif y_train[i]== 2:\n",
    "        c = plt.scatter(x_train[i][0],x_train[i][3],s = 75 , c = 'gray',marker = '.')\n",
    "    elif y_train[i]== 3:\n",
    "        d = plt.scatter(x_train[i][0],x_train[i][3],s = 100 , c = 'orange',marker = 'o') \n",
    "    elif y_train[i]== 4:\n",
    "        e = plt.scatter(x_train[i][0],x_train[i][3],s = 150 , c = 'blue',marker = 'o')     \n",
    "    c2+=1\n",
    "\n",
    "\n",
    "print(\"Total Trained Stars = {}\".format(c2)) \n",
    "plt.xlabel(\"Temperature(K)\")\n",
    "plt.ylabel(\"Absolute Nagnitude(Mv)\")\n",
    "plt.title(\"H-R Diagram of Stars \")\n",
    "plt.legend((a,b,c,d,e),('Brown Dwarf','Red Dwarf','White Dwarf','Supergiant','Hypergiant'))\n",
    "m = np.linspace(0,40000,100)\n",
    "n = (0*m) -7.5\n",
    "plt.plot(m,n,'--m')\n",
    "f = np.linspace(0,6000,100)\n",
    "g = (0*f)+15.4\n",
    "plt.plot(f,g,'--c')\n",
    "plt.gca().invert_xaxis()\n",
    "plt.gca().invert_yaxis()\n",
    "plt.show()"
   ]
  },
  {
   "cell_type": "markdown",
   "metadata": {},
   "source": [
    "## -- Visualizing Tested Data"
   ]
  },
  {
   "cell_type": "code",
   "execution_count": 22,
   "metadata": {},
   "outputs": [
    {
     "name": "stdout",
     "output_type": "stream",
     "text": [
      "Total Trained Stars = 140\n"
     ]
    },
    {
     "data": {
      "image/png": "[encoded data removed]",
      "text/plain": [
       "<Figure size 432x288 with 1 Axes>"
      ]
     },
     "metadata": {
      "needs_background": "light"
     },
     "output_type": "display_data"
    }
   ],
   "source": [
    "c3=0\n",
    "\n",
    "for i in range(0,len(y_test)):\n",
    "    if y_test[i] == 0:\n",
    "        a = plt.scatter(x_test[i][0],x_test[i][3], s = 30 , c = 'green', marker = '.')\n",
    "    elif y_test[i]== 1:\n",
    "        b = plt.scatter(x_test[i][0],x_test[i][3],s = 50 , c = 'red',marker = '.')\n",
    "    elif y_test[i]== 2:\n",
    "        c = plt.scatter(x_test[i][0],x_test[i][3],s = 75 , c = 'gray',marker = '.')\n",
    "    elif y_test[i]== 3:\n",
    "        d = plt.scatter(x_test[i][0],x_test[i][3],s = 100 , c = 'orange',marker = 'o')\n",
    "    elif y_test[i]== 4:\n",
    "        e = plt.scatter(x_test[i][0],x_test[i][3],s = 150 , c = 'blue',marker = 'o')     \n",
    "    c3+=1\n",
    "\n",
    "\n",
    "print(\"Total Trained Stars = {}\".format(c2)) \n",
    "plt.xlabel(\"Temperature(K)\")\n",
    "plt.ylabel(\"Absolute Nagnitude(Mv)\")\n",
    "plt.title(\"H-R Diagram of Stars \")\n",
    "plt.legend((a,b,c,d,e),('Brown Dwarf','Red Dwarf','White Dwarf','Supergiant','Hypergiant'))\n",
    "m = np.linspace(0,40000,100)\n",
    "n = (0*m) -7.5\n",
    "plt.plot(m,n,'--m')\n",
    "f = np.linspace(0,6000,100)\n",
    "g = (0*f)+15.4\n",
    "plt.plot(f,g,'--c')\n",
    "plt.gca().invert_xaxis()\n",
    "plt.gca().invert_yaxis()\n",
    "plt.show()"
   ]
  },
  {
   "cell_type": "markdown",
   "metadata": {},
   "source": [
    "## -- Visualizing Predicted data"
   ]
  },
  {
   "cell_type": "code",
   "execution_count": 23,
   "metadata": {},
   "outputs": [
    {
     "name": "stdout",
     "output_type": "stream",
     "text": [
      "Total Predicted Stars = 60\n"
     ]
    },
    {
     "data": {
      "image/png": "[encoded data removed]",
      "text/plain": [
       "<Figure size 432x288 with 1 Axes>"
      ]
     },
     "metadata": {
      "needs_background": "light"
     },
     "output_type": "display_data"
    },
    {
     "name": "stdout",
     "output_type": "stream",
     "text": [
      "Accuracy = 100.0 %\n"
     ]
    }
   ],
   "source": [
    "c4 = 0\n",
    "\n",
    "for i in range(0,len(z)):\n",
    "    if np.array_equal(z[i],arr[0]):\n",
    "        a = plt.scatter(x_test[i][0],x_test[i][3], s = 30 , c = 'green', marker = '.')\n",
    "    elif np.array_equal(z[i],arr[1]):\n",
    "        b = plt.scatter(x_test[i][0],x_test[i][3],s = 50 , c = 'red',marker = '.')\n",
    "    elif np.array_equal(z[i],arr[2]):\n",
    "        c = plt.scatter(x_test[i][0],x_test[i][3],s = 75 , c = 'gray',marker = '.')\n",
    "    elif np.array_equal(z[i],arr[3]):\n",
    "        d = plt.scatter(x_test[i][0],x_test[i][3],s = 100 , c = 'orange',marker = 'o')\n",
    "    elif np.array_equal(z[i],arr[4]):\n",
    "        e = plt.scatter(x_test[i][0],x_test[i][3],s = 150 , c = 'blue',marker = 'o')     \n",
    "    c4+=1\n",
    "\n",
    "print(\"Total Predicted Stars = {}\".format(c4)) \n",
    "plt.xlabel(\"Temperature(K)\")\n",
    "plt.ylabel(\"Absolute Nagnitude(Mv)\")\n",
    "plt.title(\"H-R Diagram of Stars \")\n",
    "plt.legend((a,b,c,d,e),('Brown Dwarf','Red Dwarf','White Dwarf','Supergiant','Hypergiant'))\n",
    "m = np.linspace(0,40000,100)\n",
    "n = (0*m) -7.5\n",
    "plt.plot(m,n,'--m')\n",
    "f = np.linspace(0,6000,100)\n",
    "g = (0*f)+15.4\n",
    "plt.plot(f,g,'--c')\n",
    "plt.gca().invert_xaxis()\n",
    "plt.gca().invert_yaxis()\n",
    "plt.show()\n",
    "print(\"Accuracy = {} %\".format(val_acc*100))"
   ]
  },
  {
   "cell_type": "markdown",
   "metadata": {},
   "source": [
    "## Saving Trained data in a pickle for future use"
   ]
  },
  {
   "cell_type": "code",
   "execution_count": 24,
   "metadata": {},
   "outputs": [],
   "source": [
    "import pickle\n",
    "\n",
    "data = np.hstack((x_f_train,y_f_train))    # Merging the label column (y_test) with the X_test  i.e the total training set\n",
    "\n",
    "with open(\"model.pickle\",\"wb\") as f:\n",
    "    pickle.dump( data , f)"
   ]
  }
 ],
 "metadata": {
  "kernelspec": {
   "display_name": "Python 3",
   "language": "python",
   "name": "python3"
  },
  "language_info": {
   "codemirror_mode": {
    "name": "ipython",
    "version": 3
   },
   "file_extension": ".py",
   "mimetype": "text/x-python",
   "name": "python",
   "nbconvert_exporter": "python",
   "pygments_lexer": "ipython3",
   "version": "3.7.3"
  }
 },
 "nbformat": 4,
 "nbformat_minor": 2
}
