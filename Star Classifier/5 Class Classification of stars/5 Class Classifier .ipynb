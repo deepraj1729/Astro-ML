{
 "cells": [
  {
   "cell_type": "markdown",
   "metadata": {},
   "source": [
    "# 5 Class Star Classifier Using Deep Neural Networks "
   ]
  },
  {
   "cell_type": "markdown",
   "metadata": {},
   "source": [
    "## -- Neccessary modules "
   ]
  },
  {
   "cell_type": "code",
   "execution_count": 1,
   "metadata": {},
   "outputs": [],
   "source": [
    "import tensorflow as tf \n",
    "from tensorflow import keras\n",
    "from sklearn import preprocessing, model_selection\n",
    "import numpy as np \n",
    "import pandas as pd "
   ]
  },
  {
   "cell_type": "markdown",
   "metadata": {},
   "source": [
    "## -- Loading dataset of stars from CSV"
   ]
  },
  {
   "cell_type": "code",
   "execution_count": 2,
   "metadata": {},
   "outputs": [],
   "source": [
    "df = pd.read_csv('C:\\\\Users\\\\User1\\\\Desktop\\\\Star Classifier\\\\5 Class Classification of stars\\\\5 class.csv')"
   ]
  },
  {
   "cell_type": "code",
   "execution_count": 3,
   "metadata": {},
   "outputs": [
    {
     "data": {
      "text/html": [
       "<div>\n",
       "<style scoped>\n",
       "    .dataframe tbody tr th:only-of-type {\n",
       "        vertical-align: middle;\n",
       "    }\n",
       "\n",
       "    .dataframe tbody tr th {\n",
       "        vertical-align: top;\n",
       "    }\n",
       "\n",
       "    .dataframe thead th {\n",
       "        text-align: right;\n",
       "    }\n",
       "</style>\n",
       "<table border=\"1\" class=\"dataframe\">\n",
       "  <thead>\n",
       "    <tr style=\"text-align: right;\">\n",
       "      <th></th>\n",
       "      <th>Temperature (K)</th>\n",
       "      <th>Luminosity(L/Lo)</th>\n",
       "      <th>Radius(R/Ro)</th>\n",
       "      <th>Absolute magnitude(Mv)</th>\n",
       "      <th>Star type</th>\n",
       "      <th>Star color</th>\n",
       "      <th>Spectral Class</th>\n",
       "    </tr>\n",
       "  </thead>\n",
       "  <tbody>\n",
       "    <tr>\n",
       "      <td>0</td>\n",
       "      <td>3068</td>\n",
       "      <td>0.002400</td>\n",
       "      <td>0.1700</td>\n",
       "      <td>16.12</td>\n",
       "      <td>0</td>\n",
       "      <td>Red</td>\n",
       "      <td>M</td>\n",
       "    </tr>\n",
       "    <tr>\n",
       "      <td>1</td>\n",
       "      <td>3042</td>\n",
       "      <td>0.000500</td>\n",
       "      <td>0.1542</td>\n",
       "      <td>16.91</td>\n",
       "      <td>0</td>\n",
       "      <td>Red</td>\n",
       "      <td>M</td>\n",
       "    </tr>\n",
       "    <tr>\n",
       "      <td>2</td>\n",
       "      <td>2600</td>\n",
       "      <td>0.000300</td>\n",
       "      <td>0.1020</td>\n",
       "      <td>18.70</td>\n",
       "      <td>0</td>\n",
       "      <td>Red</td>\n",
       "      <td>M</td>\n",
       "    </tr>\n",
       "    <tr>\n",
       "      <td>3</td>\n",
       "      <td>2800</td>\n",
       "      <td>0.000200</td>\n",
       "      <td>0.1600</td>\n",
       "      <td>16.65</td>\n",
       "      <td>0</td>\n",
       "      <td>Red</td>\n",
       "      <td>M</td>\n",
       "    </tr>\n",
       "    <tr>\n",
       "      <td>4</td>\n",
       "      <td>1939</td>\n",
       "      <td>0.000138</td>\n",
       "      <td>0.1030</td>\n",
       "      <td>20.06</td>\n",
       "      <td>0</td>\n",
       "      <td>Red</td>\n",
       "      <td>M</td>\n",
       "    </tr>\n",
       "  </tbody>\n",
       "</table>\n",
       "</div>"
      ],
      "text/plain": [
       "   Temperature (K)  Luminosity(L/Lo)  Radius(R/Ro)  Absolute magnitude(Mv)  \\\n",
       "0             3068          0.002400        0.1700                   16.12   \n",
       "1             3042          0.000500        0.1542                   16.91   \n",
       "2             2600          0.000300        0.1020                   18.70   \n",
       "3             2800          0.000200        0.1600                   16.65   \n",
       "4             1939          0.000138        0.1030                   20.06   \n",
       "\n",
       "   Star type Star color Spectral Class  \n",
       "0          0        Red              M  \n",
       "1          0        Red              M  \n",
       "2          0        Red              M  \n",
       "3          0        Red              M  \n",
       "4          0        Red              M  "
      ]
     },
     "execution_count": 3,
     "metadata": {},
     "output_type": "execute_result"
    }
   ],
   "source": [
    "df.head()"
   ]
  },
  {
   "cell_type": "markdown",
   "metadata": {},
   "source": [
    "## Lower part of dataset"
   ]
  },
  {
   "cell_type": "code",
   "execution_count": 4,
   "metadata": {},
   "outputs": [
    {
     "data": {
      "text/html": [
       "<div>\n",
       "<style scoped>\n",
       "    .dataframe tbody tr th:only-of-type {\n",
       "        vertical-align: middle;\n",
       "    }\n",
       "\n",
       "    .dataframe tbody tr th {\n",
       "        vertical-align: top;\n",
       "    }\n",
       "\n",
       "    .dataframe thead th {\n",
       "        text-align: right;\n",
       "    }\n",
       "</style>\n",
       "<table border=\"1\" class=\"dataframe\">\n",
       "  <thead>\n",
       "    <tr style=\"text-align: right;\">\n",
       "      <th></th>\n",
       "      <th>Temperature (K)</th>\n",
       "      <th>Luminosity(L/Lo)</th>\n",
       "      <th>Radius(R/Ro)</th>\n",
       "      <th>Absolute magnitude(Mv)</th>\n",
       "      <th>Star type</th>\n",
       "      <th>Star color</th>\n",
       "      <th>Spectral Class</th>\n",
       "    </tr>\n",
       "  </thead>\n",
       "  <tbody>\n",
       "    <tr>\n",
       "      <td>195</td>\n",
       "      <td>38940</td>\n",
       "      <td>374830.0</td>\n",
       "      <td>1356.0</td>\n",
       "      <td>-9.93</td>\n",
       "      <td>4</td>\n",
       "      <td>Blue</td>\n",
       "      <td>O</td>\n",
       "    </tr>\n",
       "    <tr>\n",
       "      <td>196</td>\n",
       "      <td>30839</td>\n",
       "      <td>834042.0</td>\n",
       "      <td>1194.0</td>\n",
       "      <td>-10.63</td>\n",
       "      <td>4</td>\n",
       "      <td>Blue</td>\n",
       "      <td>O</td>\n",
       "    </tr>\n",
       "    <tr>\n",
       "      <td>197</td>\n",
       "      <td>8829</td>\n",
       "      <td>537493.0</td>\n",
       "      <td>1423.0</td>\n",
       "      <td>-10.73</td>\n",
       "      <td>4</td>\n",
       "      <td>White</td>\n",
       "      <td>A</td>\n",
       "    </tr>\n",
       "    <tr>\n",
       "      <td>198</td>\n",
       "      <td>9235</td>\n",
       "      <td>404940.0</td>\n",
       "      <td>1112.0</td>\n",
       "      <td>-11.23</td>\n",
       "      <td>4</td>\n",
       "      <td>White</td>\n",
       "      <td>A</td>\n",
       "    </tr>\n",
       "    <tr>\n",
       "      <td>199</td>\n",
       "      <td>37882</td>\n",
       "      <td>294903.0</td>\n",
       "      <td>1783.0</td>\n",
       "      <td>-7.80</td>\n",
       "      <td>4</td>\n",
       "      <td>Blue</td>\n",
       "      <td>O</td>\n",
       "    </tr>\n",
       "  </tbody>\n",
       "</table>\n",
       "</div>"
      ],
      "text/plain": [
       "     Temperature (K)  Luminosity(L/Lo)  Radius(R/Ro)  Absolute magnitude(Mv)  \\\n",
       "195            38940          374830.0        1356.0                   -9.93   \n",
       "196            30839          834042.0        1194.0                  -10.63   \n",
       "197             8829          537493.0        1423.0                  -10.73   \n",
       "198             9235          404940.0        1112.0                  -11.23   \n",
       "199            37882          294903.0        1783.0                   -7.80   \n",
       "\n",
       "     Star type Star color Spectral Class  \n",
       "195          4       Blue              O  \n",
       "196          4       Blue              O  \n",
       "197          4      White              A  \n",
       "198          4      White              A  \n",
       "199          4       Blue              O  "
      ]
     },
     "execution_count": 4,
     "metadata": {},
     "output_type": "execute_result"
    }
   ],
   "source": [
    "df.tail()"
   ]
  },
  {
   "cell_type": "markdown",
   "metadata": {},
   "source": [
    "## Checking For Any NULL Values"
   ]
  },
  {
   "cell_type": "code",
   "execution_count": 5,
   "metadata": {},
   "outputs": [
    {
     "data": {
      "text/plain": [
       "False"
      ]
     },
     "execution_count": 5,
     "metadata": {},
     "output_type": "execute_result"
    }
   ],
   "source": [
    "df.isnull().values.any()"
   ]
  },
  {
   "cell_type": "markdown",
   "metadata": {},
   "source": [
    "## Checking Correlation of dataset to check for redundant columns"
   ]
  },
  {
   "cell_type": "code",
   "execution_count": 6,
   "metadata": {},
   "outputs": [
    {
     "data": {
      "text/html": [
       "<div>\n",
       "<style scoped>\n",
       "    .dataframe tbody tr th:only-of-type {\n",
       "        vertical-align: middle;\n",
       "    }\n",
       "\n",
       "    .dataframe tbody tr th {\n",
       "        vertical-align: top;\n",
       "    }\n",
       "\n",
       "    .dataframe thead th {\n",
       "        text-align: right;\n",
       "    }\n",
       "</style>\n",
       "<table border=\"1\" class=\"dataframe\">\n",
       "  <thead>\n",
       "    <tr style=\"text-align: right;\">\n",
       "      <th></th>\n",
       "      <th>Temperature (K)</th>\n",
       "      <th>Luminosity(L/Lo)</th>\n",
       "      <th>Radius(R/Ro)</th>\n",
       "      <th>Absolute magnitude(Mv)</th>\n",
       "      <th>Star type</th>\n",
       "    </tr>\n",
       "  </thead>\n",
       "  <tbody>\n",
       "    <tr>\n",
       "      <td>Temperature (K)</td>\n",
       "      <td>1.000000</td>\n",
       "      <td>0.479379</td>\n",
       "      <td>0.149509</td>\n",
       "      <td>-0.375972</td>\n",
       "      <td>0.457628</td>\n",
       "    </tr>\n",
       "    <tr>\n",
       "      <td>Luminosity(L/Lo)</td>\n",
       "      <td>0.479379</td>\n",
       "      <td>1.000000</td>\n",
       "      <td>0.514297</td>\n",
       "      <td>-0.766101</td>\n",
       "      <td>0.684232</td>\n",
       "    </tr>\n",
       "    <tr>\n",
       "      <td>Radius(R/Ro)</td>\n",
       "      <td>0.149509</td>\n",
       "      <td>0.514297</td>\n",
       "      <td>1.000000</td>\n",
       "      <td>-0.685325</td>\n",
       "      <td>0.711140</td>\n",
       "    </tr>\n",
       "    <tr>\n",
       "      <td>Absolute magnitude(Mv)</td>\n",
       "      <td>-0.375972</td>\n",
       "      <td>-0.766101</td>\n",
       "      <td>-0.685325</td>\n",
       "      <td>1.000000</td>\n",
       "      <td>-0.921291</td>\n",
       "    </tr>\n",
       "    <tr>\n",
       "      <td>Star type</td>\n",
       "      <td>0.457628</td>\n",
       "      <td>0.684232</td>\n",
       "      <td>0.711140</td>\n",
       "      <td>-0.921291</td>\n",
       "      <td>1.000000</td>\n",
       "    </tr>\n",
       "  </tbody>\n",
       "</table>\n",
       "</div>"
      ],
      "text/plain": [
       "                        Temperature (K)  Luminosity(L/Lo)  Radius(R/Ro)  \\\n",
       "Temperature (K)                1.000000          0.479379      0.149509   \n",
       "Luminosity(L/Lo)               0.479379          1.000000      0.514297   \n",
       "Radius(R/Ro)                   0.149509          0.514297      1.000000   \n",
       "Absolute magnitude(Mv)        -0.375972         -0.766101     -0.685325   \n",
       "Star type                      0.457628          0.684232      0.711140   \n",
       "\n",
       "                        Absolute magnitude(Mv)  Star type  \n",
       "Temperature (K)                      -0.375972   0.457628  \n",
       "Luminosity(L/Lo)                     -0.766101   0.684232  \n",
       "Radius(R/Ro)                         -0.685325   0.711140  \n",
       "Absolute magnitude(Mv)                1.000000  -0.921291  \n",
       "Star type                            -0.921291   1.000000  "
      ]
     },
     "execution_count": 6,
     "metadata": {},
     "output_type": "execute_result"
    }
   ],
   "source": [
    "df.corr()"
   ]
  },
  {
   "cell_type": "markdown",
   "metadata": {},
   "source": [
    "## Visualizing Correlation of columns"
   ]
  },
  {
   "cell_type": "code",
   "execution_count": 8,
   "metadata": {},
   "outputs": [
    {
     "data": {
      "image/png": "[encoded data removed]",
      "text/plain": [
       "<Figure size 432x432 with 1 Axes>"
      ]
     },
     "metadata": {
      "needs_background": "light"
     },
     "output_type": "display_data"
    }
   ],
   "source": [
    "import matplotlib.pyplot as plt\n",
    "\n",
    "def plot_corr(df):\n",
    "    corr = df.corr()\n",
    "    fig,ax = plt.subplots(figsize = (6,6))\n",
    "    ax.matshow(corr)\n",
    "    plt.xticks(range(len(corr.columns)),corr.columns)\n",
    "    plt.yticks(range(len(corr.columns)),corr.columns)\n",
    "    \n",
    "    \n",
    "plot_corr(df)  "
   ]
  },
  {
   "cell_type": "markdown",
   "metadata": {},
   "source": [
    "## Checking Stats about the dataset"
   ]
  },
  {
   "cell_type": "code",
   "execution_count": 10,
   "metadata": {},
   "outputs": [],
   "source": [
    "# star class:  Star Type\n",
    "#     0     :  Brown Dwarf\n",
    "#     1     :  Red Dwarf\n",
    "#     2     :  White Dwarf\n",
    "#     3     :  Supergiant\n",
    "#     4     :  Hypergiant"
   ]
  },
  {
   "cell_type": "code",
   "execution_count": 11,
   "metadata": {},
   "outputs": [
    {
     "name": "stdout",
     "output_type": "stream",
     "text": [
      "Brown dwarf = 40 = 0.2% \n",
      "red_dwarf  = 40 = 0.2% \n",
      "white_dwarf = 40 = 0.2% \n",
      "supergiant= 40 = 0.2% \n",
      "hypergiant = 40 = 0.2% \n",
      "Total stars = 200\n"
     ]
    }
   ],
   "source": [
    "brown_dwarf = len(df.loc[df['Star type'] == 0])\n",
    "red_dwarf = len(df.loc[df['Star type'] == 1])\n",
    "white_dwarf = len(df.loc[df['Star type'] == 2])\n",
    "supergiant = len(df.loc[df['Star type'] == 3])\n",
    "hypergiant = len(df.loc[df['Star type'] == 4])\n",
    "\n",
    "print(\"Brown dwarf = {} = {}% \".format(brown_dwarf,brown_dwarf/(brown_dwarf+red_dwarf+white_dwarf+supergiant+hypergiant)))\n",
    "print(\"red_dwarf  = {} = {}% \".format(red_dwarf ,red_dwarf/(brown_dwarf+red_dwarf+white_dwarf+supergiant+hypergiant)))\n",
    "print(\"white_dwarf = {} = {}% \".format(white_dwarf,white_dwarf/(brown_dwarf+red_dwarf+white_dwarf+supergiant+hypergiant)))\n",
    "print(\"supergiant= {} = {}% \".format(supergiant,supergiant/(brown_dwarf+red_dwarf+white_dwarf+supergiant+hypergiant)))\n",
    "print(\"hypergiant = {} = {}% \".format(hypergiant,hypergiant/(brown_dwarf+red_dwarf+white_dwarf+supergiant+hypergiant))) \n",
    "print(\"Total stars = {}\".format(len(df)))"
   ]
  },
  {
   "cell_type": "markdown",
   "metadata": {},
   "source": [
    "## -- Converting Data into Numpy Arrays ( For Sake of Convenience)"
   ]
  },
  {
   "cell_type": "code",
   "execution_count": 12,
   "metadata": {},
   "outputs": [],
   "source": [
    "x = np.array(df.drop(['Star type', 'Star color','Spectral Class'],1))   # Excludes Star type, Star color and Spectral Class\n",
    "y = np.array(df['Star type'], dtype ='float')                           # Only Star type column\n",
    "y.shape = (len(y),1)                                                    # Shaping the star type column into a column vector"
   ]
  },
  {
   "cell_type": "markdown",
   "metadata": {},
   "source": [
    "## -- Splitting Data into Training And Testing Datasets"
   ]
  },
  {
   "cell_type": "code",
   "execution_count": 13,
   "metadata": {},
   "outputs": [],
   "source": [
    "x_train ,x_test , y_train, y_test = model_selection.train_test_split(x,y, test_size = 0.3) "
   ]
  },
  {
   "cell_type": "markdown",
   "metadata": {},
   "source": [
    "## -- Scaling Data for Better Modelling (Only x values)"
   ]
  },
  {
   "cell_type": "code",
   "execution_count": 14,
   "metadata": {},
   "outputs": [],
   "source": [
    "x_f_train = preprocessing.scale(x_train)\n",
    "x_f_test = preprocessing.scale(x_test)\n",
    "y_f_train = y_train\n",
    "y_f_test = y_test"
   ]
  },
  {
   "cell_type": "markdown",
   "metadata": {},
   "source": [
    "## -- Using DNN Model for Training Data "
   ]
  },
  {
   "cell_type": "code",
   "execution_count": 15,
   "metadata": {},
   "outputs": [
    {
     "name": "stdout",
     "output_type": "stream",
     "text": [
      "WARNING:tensorflow:From C:\\Users\\User1\\Anaconda3\\lib\\site-packages\\tensorflow\\python\\ops\\init_ops.py:1251: calling VarianceScaling.__init__ (from tensorflow.python.ops.init_ops) with dtype is deprecated and will be removed in a future version.\n",
      "Instructions for updating:\n",
      "Call initializer instance with the dtype argument instead of passing it to the constructor\n"
     ]
    }
   ],
   "source": [
    "model = tf.keras.models.Sequential()\n",
    "model.add(tf.keras.layers.Flatten())\n",
    "model.add(tf.keras.layers.Dense(200,activation = tf.nn.relu))\n",
    "model.add(tf.keras.layers.Dense(300,activation = tf.nn.relu))\n",
    "model.add(tf.keras.layers.Dense(5,activation = tf.nn.softmax))\n",
    "\n",
    "\n",
    "model.compile(optimizer = tf.train.AdamOptimizer(),\n",
    "       loss = 'sparse_categorical_crossentropy',\n",
    "       metrics=['accuracy'])"
   ]
  },
  {
   "cell_type": "markdown",
   "metadata": {},
   "source": [
    "## -- Fitting Data into Model "
   ]
  },
  {
   "cell_type": "code",
   "execution_count": 16,
   "metadata": {},
   "outputs": [
    {
     "name": "stdout",
     "output_type": "stream",
     "text": [
      "Epoch 1/100\n",
      "140/140 [==============================] - 1s 4ms/sample - loss: 1.4846 - acc: 0.4500\n",
      "Epoch 2/100\n",
      "140/140 [==============================] - 0s 89us/sample - loss: 1.1707 - acc: 0.8000\n",
      "Epoch 3/100\n",
      "140/140 [==============================] - 0s 114us/sample - loss: 0.9517 - acc: 0.7357\n",
      "Epoch 4/100\n",
      "140/140 [==============================] - 0s 143us/sample - loss: 0.7871 - acc: 0.7857\n",
      "Epoch 5/100\n",
      "140/140 [==============================] - 0s 128us/sample - loss: 0.6516 - acc: 0.7929\n",
      "Epoch 6/100\n",
      "140/140 [==============================] - 0s 107us/sample - loss: 0.5502 - acc: 0.8000\n",
      "Epoch 7/100\n",
      "140/140 [==============================] - 0s 128us/sample - loss: 0.4752 - acc: 0.8143\n",
      "Epoch 8/100\n",
      "140/140 [==============================] - 0s 114us/sample - loss: 0.4234 - acc: 0.8429\n",
      "Epoch 9/100\n",
      "140/140 [==============================] - 0s 114us/sample - loss: 0.3793 - acc: 0.9143\n",
      "Epoch 10/100\n",
      "140/140 [==============================] - 0s 185us/sample - loss: 0.3462 - acc: 0.9214\n",
      "Epoch 11/100\n",
      "140/140 [==============================] - 0s 178us/sample - loss: 0.3180 - acc: 0.9000\n",
      "Epoch 12/100\n",
      "140/140 [==============================] - 0s 135us/sample - loss: 0.2884 - acc: 0.9786\n",
      "Epoch 13/100\n",
      "140/140 [==============================] - 0s 128us/sample - loss: 0.2762 - acc: 0.9571\n",
      "Epoch 14/100\n",
      "140/140 [==============================] - 0s 85us/sample - loss: 0.2436 - acc: 0.9786\n",
      "Epoch 15/100\n",
      "140/140 [==============================] - 0s 114us/sample - loss: 0.2210 - acc: 0.9571\n",
      "Epoch 16/100\n",
      "140/140 [==============================] - 0s 112us/sample - loss: 0.2049 - acc: 0.9643\n",
      "Epoch 17/100\n",
      "140/140 [==============================] - 0s 128us/sample - loss: 0.1884 - acc: 0.9786\n",
      "Epoch 18/100\n",
      "140/140 [==============================] - 0s 114us/sample - loss: 0.1716 - acc: 0.9929\n",
      "Epoch 19/100\n",
      "140/140 [==============================] - 0s 242us/sample - loss: 0.1599 - acc: 0.9714\n",
      "Epoch 20/100\n",
      "140/140 [==============================] - 0s 93us/sample - loss: 0.1460 - acc: 0.9643\n",
      "Epoch 21/100\n",
      "140/140 [==============================] - 0s 100us/sample - loss: 0.1379 - acc: 0.9929\n",
      "Epoch 22/100\n",
      "140/140 [==============================] - 0s 164us/sample - loss: 0.1259 - acc: 0.9929\n",
      "Epoch 23/100\n",
      "140/140 [==============================] - 0s 129us/sample - loss: 0.1168 - acc: 0.9857\n",
      "Epoch 24/100\n",
      "140/140 [==============================] - 0s 121us/sample - loss: 0.1043 - acc: 0.9857\n",
      "Epoch 25/100\n",
      "140/140 [==============================] - ETA: 0s - loss: 0.0832 - acc: 1.000 - 0s 113us/sample - loss: 0.1103 - acc: 0.9929\n",
      "Epoch 26/100\n",
      "140/140 [==============================] - 0s 107us/sample - loss: 0.0966 - acc: 0.9714\n",
      "Epoch 27/100\n",
      "140/140 [==============================] - 0s 128us/sample - loss: 0.0930 - acc: 0.9714\n",
      "Epoch 28/100\n",
      "140/140 [==============================] - 0s 135us/sample - loss: 0.0867 - acc: 0.9929\n",
      "Epoch 29/100\n",
      "140/140 [==============================] - 0s 121us/sample - loss: 0.0799 - acc: 0.9929\n",
      "Epoch 30/100\n",
      "140/140 [==============================] - 0s 100us/sample - loss: 0.0770 - acc: 1.0000\n",
      "Epoch 31/100\n",
      "140/140 [==============================] - 0s 129us/sample - loss: 0.0730 - acc: 1.0000\n",
      "Epoch 32/100\n",
      "140/140 [==============================] - 0s 128us/sample - loss: 0.0669 - acc: 0.9929\n",
      "Epoch 33/100\n",
      "140/140 [==============================] - 0s 114us/sample - loss: 0.0655 - acc: 0.9929\n",
      "Epoch 34/100\n",
      "140/140 [==============================] - 0s 78us/sample - loss: 0.0605 - acc: 1.0000\n",
      "Epoch 35/100\n",
      "140/140 [==============================] - 0s 143us/sample - loss: 0.0578 - acc: 1.0000\n",
      "Epoch 36/100\n",
      "140/140 [==============================] - 0s 135us/sample - loss: 0.0556 - acc: 0.9929\n",
      "Epoch 37/100\n",
      "140/140 [==============================] - 0s 78us/sample - loss: 0.0535 - acc: 1.0000\n",
      "Epoch 38/100\n",
      "140/140 [==============================] - 0s 121us/sample - loss: 0.0514 - acc: 1.0000\n",
      "Epoch 39/100\n",
      "140/140 [==============================] - 0s 171us/sample - loss: 0.0496 - acc: 0.9929\n",
      "Epoch 40/100\n",
      "140/140 [==============================] - 0s 142us/sample - loss: 0.0458 - acc: 1.0000\n",
      "Epoch 41/100\n",
      "140/140 [==============================] - 0s 114us/sample - loss: 0.0482 - acc: 1.0000\n",
      "Epoch 42/100\n",
      "140/140 [==============================] - 0s 178us/sample - loss: 0.0426 - acc: 1.0000\n",
      "Epoch 43/100\n",
      "140/140 [==============================] - 0s 242us/sample - loss: 0.0467 - acc: 0.9857\n",
      "Epoch 44/100\n",
      "140/140 [==============================] - 0s 135us/sample - loss: 0.0426 - acc: 1.0000\n",
      "Epoch 45/100\n",
      "140/140 [==============================] - 0s 128us/sample - loss: 0.0387 - acc: 1.0000\n",
      "Epoch 46/100\n",
      "140/140 [==============================] - 0s 128us/sample - loss: 0.0382 - acc: 0.9929\n",
      "Epoch 47/100\n",
      "140/140 [==============================] - 0s 128us/sample - loss: 0.0350 - acc: 1.0000\n",
      "Epoch 48/100\n",
      "140/140 [==============================] - 0s 121us/sample - loss: 0.0359 - acc: 1.0000\n",
      "Epoch 49/100\n",
      "140/140 [==============================] - 0s 121us/sample - loss: 0.0338 - acc: 1.0000\n",
      "Epoch 50/100\n",
      "140/140 [==============================] - 0s 164us/sample - loss: 0.0324 - acc: 1.0000\n",
      "Epoch 51/100\n",
      "140/140 [==============================] - 0s 171us/sample - loss: 0.0337 - acc: 0.9929\n",
      "Epoch 52/100\n",
      "140/140 [==============================] - 0s 114us/sample - loss: 0.0311 - acc: 1.0000\n",
      "Epoch 53/100\n",
      "140/140 [==============================] - 0s 93us/sample - loss: 0.0308 - acc: 1.0000\n",
      "Epoch 54/100\n",
      "140/140 [==============================] - 0s 107us/sample - loss: 0.0299 - acc: 1.0000\n",
      "Epoch 55/100\n",
      "140/140 [==============================] - 0s 128us/sample - loss: 0.0283 - acc: 1.0000\n",
      "Epoch 56/100\n",
      "140/140 [==============================] - 0s 107us/sample - loss: 0.0273 - acc: 1.0000\n",
      "Epoch 57/100\n",
      "140/140 [==============================] - 0s 79us/sample - loss: 0.0269 - acc: 1.0000\n",
      "Epoch 58/100\n",
      "140/140 [==============================] - 0s 85us/sample - loss: 0.0281 - acc: 0.9929\n",
      "Epoch 59/100\n",
      "140/140 [==============================] - 0s 64us/sample - loss: 0.0269 - acc: 1.0000\n",
      "Epoch 60/100\n",
      "140/140 [==============================] - 0s 107us/sample - loss: 0.0351 - acc: 1.0000\n",
      "Epoch 61/100\n",
      "140/140 [==============================] - 0s 185us/sample - loss: 0.0351 - acc: 0.9857\n",
      "Epoch 62/100\n",
      "140/140 [==============================] - 0s 114us/sample - loss: 0.0312 - acc: 0.9929\n",
      "Epoch 63/100\n",
      "140/140 [==============================] - 0s 100us/sample - loss: 0.0286 - acc: 1.0000\n",
      "Epoch 64/100\n",
      "140/140 [==============================] - 0s 85us/sample - loss: 0.0270 - acc: 1.0000\n",
      "Epoch 65/100\n",
      "140/140 [==============================] - 0s 100us/sample - loss: 0.0268 - acc: 0.9929\n",
      "Epoch 66/100\n",
      "140/140 [==============================] - 0s 114us/sample - loss: 0.0230 - acc: 0.9929\n",
      "Epoch 67/100\n",
      "140/140 [==============================] - 0s 121us/sample - loss: 0.0241 - acc: 1.0000\n",
      "Epoch 68/100\n",
      "140/140 [==============================] - 0s 100us/sample - loss: 0.0200 - acc: 1.0000\n",
      "Epoch 69/100\n",
      "140/140 [==============================] - 0s 106us/sample - loss: 0.0240 - acc: 0.9929\n",
      "Epoch 70/100\n",
      "140/140 [==============================] - 0s 114us/sample - loss: 0.0218 - acc: 1.0000\n",
      "Epoch 71/100\n",
      "140/140 [==============================] - 0s 106us/sample - loss: 0.0279 - acc: 1.0000\n",
      "Epoch 72/100\n",
      "140/140 [==============================] - 0s 107us/sample - loss: 0.0176 - acc: 1.0000\n",
      "Epoch 73/100\n",
      "140/140 [==============================] - 0s 100us/sample - loss: 0.0180 - acc: 1.0000\n",
      "Epoch 74/100\n",
      "140/140 [==============================] - 0s 114us/sample - loss: 0.0181 - acc: 1.0000\n",
      "Epoch 75/100\n",
      "140/140 [==============================] - 0s 100us/sample - loss: 0.0167 - acc: 1.0000\n",
      "Epoch 76/100\n",
      "140/140 [==============================] - 0s 107us/sample - loss: 0.0170 - acc: 1.0000\n",
      "Epoch 77/100\n",
      "140/140 [==============================] - 0s 85us/sample - loss: 0.0163 - acc: 1.0000\n",
      "Epoch 78/100\n",
      "140/140 [==============================] - 0s 121us/sample - loss: 0.0164 - acc: 1.0000\n",
      "Epoch 79/100\n",
      "140/140 [==============================] - 0s 114us/sample - loss: 0.0159 - acc: 1.0000\n",
      "Epoch 80/100\n",
      "140/140 [==============================] - 0s 93us/sample - loss: 0.0150 - acc: 1.0000\n",
      "Epoch 81/100\n",
      "140/140 [==============================] - 0s 64us/sample - loss: 0.0170 - acc: 1.0000\n"
     ]
    },
    {
     "name": "stdout",
     "output_type": "stream",
     "text": [
      "Epoch 82/100\n",
      "140/140 [==============================] - 0s 71us/sample - loss: 0.0157 - acc: 1.0000\n",
      "Epoch 83/100\n",
      "140/140 [==============================] - 0s 78us/sample - loss: 0.0170 - acc: 1.0000\n",
      "Epoch 84/100\n",
      "140/140 [==============================] - 0s 71us/sample - loss: 0.0158 - acc: 1.0000\n",
      "Epoch 85/100\n",
      "140/140 [==============================] - 0s 92us/sample - loss: 0.0168 - acc: 1.0000\n",
      "Epoch 86/100\n",
      "140/140 [==============================] - 0s 85us/sample - loss: 0.0135 - acc: 1.0000\n",
      "Epoch 87/100\n",
      "140/140 [==============================] - 0s 64us/sample - loss: 0.0128 - acc: 1.0000\n",
      "Epoch 88/100\n",
      "140/140 [==============================] - 0s 64us/sample - loss: 0.0139 - acc: 1.0000\n",
      "Epoch 89/100\n",
      "140/140 [==============================] - 0s 93us/sample - loss: 0.0132 - acc: 1.0000\n",
      "Epoch 90/100\n",
      "140/140 [==============================] - 0s 92us/sample - loss: 0.0127 - acc: 1.0000\n",
      "Epoch 91/100\n",
      "140/140 [==============================] - 0s 99us/sample - loss: 0.0120 - acc: 1.0000\n",
      "Epoch 92/100\n",
      "140/140 [==============================] - 0s 93us/sample - loss: 0.0126 - acc: 1.0000\n",
      "Epoch 93/100\n",
      "140/140 [==============================] - 0s 107us/sample - loss: 0.0121 - acc: 1.0000\n",
      "Epoch 94/100\n",
      "140/140 [==============================] - 0s 85us/sample - loss: 0.0117 - acc: 1.0000\n",
      "Epoch 95/100\n",
      "140/140 [==============================] - 0s 71us/sample - loss: 0.0115 - acc: 1.0000\n",
      "Epoch 96/100\n",
      "140/140 [==============================] - 0s 64us/sample - loss: 0.0110 - acc: 1.0000\n",
      "Epoch 97/100\n",
      "140/140 [==============================] - 0s 98us/sample - loss: 0.0112 - acc: 1.0000\n",
      "Epoch 98/100\n",
      "140/140 [==============================] - 0s 92us/sample - loss: 0.0109 - acc: 1.0000\n",
      "Epoch 99/100\n",
      "140/140 [==============================] - 0s 85us/sample - loss: 0.0122 - acc: 1.0000\n",
      "Epoch 100/100\n",
      "140/140 [==============================] - 0s 64us/sample - loss: 0.0116 - acc: 1.0000\n"
     ]
    },
    {
     "data": {
      "text/plain": [
       "<tensorflow.python.keras.callbacks.History at 0x22173042550>"
      ]
     },
     "execution_count": 16,
     "metadata": {},
     "output_type": "execute_result"
    }
   ],
   "source": [
    "model.fit(x_f_train,y_f_train, epochs = 100)"
   ]
  },
  {
   "cell_type": "markdown",
   "metadata": {},
   "source": [
    "## -- Checking Trained Data For Overfitting and Underfitting over tested data"
   ]
  },
  {
   "cell_type": "code",
   "execution_count": 17,
   "metadata": {},
   "outputs": [
    {
     "name": "stdout",
     "output_type": "stream",
     "text": [
      "60/60 [==============================] - 0s 847us/sample - loss: 0.0078 - acc: 1.0000\n",
      "Loss % = 0.7844262880583603 , Accuracy % = 100.0 \n"
     ]
    }
   ],
   "source": [
    "val_loss,val_acc = model.evaluate(x_f_test,y_f_test)\n",
    "print(\"Loss % = {} , Accuracy % = {} \".format(val_loss*100,val_acc*100))"
   ]
  },
  {
   "cell_type": "markdown",
   "metadata": {},
   "source": [
    "## -- Predicting Star Type of Test Data from Trained Data "
   ]
  },
  {
   "cell_type": "code",
   "execution_count": 18,
   "metadata": {},
   "outputs": [],
   "source": [
    "# [1,0,0,0,0] = Brown Dwarf\n",
    "# [0,1,0,0,0] = Red Dwarf\n",
    "# [0,0,1,0,0] = White Dwarf\n",
    "# [0,0,0,1,0] = Supergiant\n",
    "# [0,0,0,0,1] = Hypergiant\n",
    "\n",
    "arr = np.array([[1,0,0,0,0],[0,1,0,0,0],[0,0,1,0,0],[0,0,0,1,0],[0,0,0,0,1]])"
   ]
  },
  {
   "cell_type": "code",
   "execution_count": 19,
   "metadata": {},
   "outputs": [
    {
     "name": "stdout",
     "output_type": "stream",
     "text": [
      "_____________________________________________________\n",
      "Prediction : P-Class : O-Class \n",
      "[0. 0. 0. 0. 1.]  :  4 :  [4.]\n",
      "[1. 0. 0. 0. 0.]  :  0 :  [0.]\n",
      "[0. 1. 0. 0. 0.]  :  1 :  [1.]\n",
      "[0. 0. 1. 0. 0.]  :  2 :  [2.]\n",
      "[0. 0. 0. 0. 1.]  :  4 :  [4.]\n",
      "[0. 1. 0. 0. 0.]  :  1 :  [1.]\n",
      "[0. 1. 0. 0. 0.]  :  1 :  [1.]\n",
      "[1. 0. 0. 0. 0.]  :  0 :  [0.]\n",
      "[0. 0. 1. 0. 0.]  :  2 :  [2.]\n",
      "[1. 0. 0. 0. 0.]  :  0 :  [0.]\n",
      "[0. 1. 0. 0. 0.]  :  1 :  [1.]\n",
      "[0. 1. 0. 0. 0.]  :  1 :  [1.]\n",
      "[0. 0. 0. 1. 0.]  :  3 :  [3.]\n",
      "[0. 0. 0. 1. 0.]  :  3 :  [3.]\n",
      "[1. 0. 0. 0. 0.]  :  0 :  [0.]\n",
      "[0. 0. 0. 1. 0.]  :  3 :  [3.]\n",
      "[0. 1. 0. 0. 0.]  :  1 :  [1.]\n",
      "[0. 0. 0. 0. 1.]  :  4 :  [4.]\n",
      "[0. 0. 0. 0. 1.]  :  4 :  [4.]\n",
      "[0. 0. 1. 0. 0.]  :  2 :  [2.]\n",
      "[0. 0. 0. 0. 1.]  :  4 :  [4.]\n",
      "[0. 1. 0. 0. 0.]  :  1 :  [1.]\n",
      "[0. 1. 0. 0. 0.]  :  1 :  [1.]\n",
      "[0. 0. 0. 1. 0.]  :  3 :  [3.]\n",
      "[0. 0. 1. 0. 0.]  :  2 :  [2.]\n",
      "[0. 0. 0. 0. 1.]  :  4 :  [4.]\n",
      "[0. 0. 1. 0. 0.]  :  2 :  [2.]\n",
      "[0. 0. 0. 1. 0.]  :  3 :  [3.]\n",
      "[0. 0. 0. 1. 0.]  :  3 :  [3.]\n",
      "[0. 0. 0. 0. 1.]  :  4 :  [4.]\n",
      "[0. 0. 0. 1. 0.]  :  3 :  [3.]\n",
      "[0. 1. 0. 0. 0.]  :  1 :  [1.]\n",
      "[0. 0. 1. 0. 0.]  :  2 :  [2.]\n",
      "[0. 1. 0. 0. 0.]  :  1 :  [1.]\n",
      "[0. 0. 1. 0. 0.]  :  2 :  [2.]\n",
      "[0. 0. 0. 0. 1.]  :  4 :  [4.]\n",
      "[1. 0. 0. 0. 0.]  :  0 :  [0.]\n",
      "[0. 0. 0. 0. 1.]  :  4 :  [4.]\n",
      "[1. 0. 0. 0. 0.]  :  0 :  [0.]\n",
      "[0. 0. 0. 0. 1.]  :  4 :  [4.]\n",
      "[0. 0. 1. 0. 0.]  :  2 :  [2.]\n",
      "[0. 0. 0. 0. 1.]  :  4 :  [4.]\n",
      "[1. 0. 0. 0. 0.]  :  0 :  [0.]\n",
      "[0. 0. 0. 1. 0.]  :  3 :  [3.]\n",
      "[1. 0. 0. 0. 0.]  :  0 :  [0.]\n",
      "[1. 0. 0. 0. 0.]  :  0 :  [0.]\n",
      "[0. 0. 0. 1. 0.]  :  3 :  [3.]\n",
      "[0. 0. 1. 0. 0.]  :  2 :  [2.]\n",
      "[0. 0. 0. 0. 1.]  :  4 :  [4.]\n",
      "[0. 0. 0. 0. 1.]  :  4 :  [4.]\n",
      "[0. 0. 0. 0. 1.]  :  4 :  [4.]\n",
      "[1. 0. 0. 0. 0.]  :  0 :  [0.]\n",
      "[0. 0. 1. 0. 0.]  :  2 :  [2.]\n",
      "[0. 0. 0. 1. 0.]  :  3 :  [3.]\n",
      "[0. 0. 1. 0. 0.]  :  2 :  [2.]\n",
      "[0. 0. 1. 0. 0.]  :  2 :  [2.]\n",
      "[0. 0. 0. 1. 0.]  :  3 :  [3.]\n",
      "[0. 0. 0. 0. 1.]  :  4 :  [4.]\n",
      "[0. 0. 1. 0. 0.]  :  2 :  [2.]\n",
      "[0. 0. 0. 1. 0.]  :  3 :  [3.]\n",
      "_____________________________________________________\n",
      "Predicted NO. of Brown Dwarfs = 10\n",
      "Predicted NO. of Red Dwarfs = 10\n",
      "Predicted NO. of White Dwarfs = 13\n",
      "Predicted NO. of Supergiants = 12\n",
      "Predicted NO. of Hypergiants = 15\n",
      "Total tested stars = 60\n",
      "_____________________________________________________\n",
      "Original NO. of Brown Dwarfs = 10\n",
      "Original NO. of Red Dwarfs = 10\n",
      "Original NO. of White Dwarfs = 13\n",
      "Original NO. of Supergiants = 12\n",
      "Original NO. of Hypergiants = 15\n",
      "Total tested stars = 60\n",
      "_____________________________________________________\n",
      "Accuracy = 100.0%\n"
     ]
    }
   ],
   "source": [
    "z = np.round(model.predict(x_f_test))\n",
    "\n",
    "print('_____________________________________________________')\n",
    "print(\"Prediction : P-Class : O-Class \")\n",
    "\n",
    "c1=c2=c3=c4=c5=c6=c7=c8=c9=c10=0  #counter variables\n",
    "\n",
    "for i in range(0,len(z)):\n",
    "    if np.array_equal(z[i],arr[0]):\n",
    "        print(\"{}  :  {} :  {}\".format(z[i],0,y_test[i]))\n",
    "        c1+=1\n",
    "    elif np.array_equal(z[i],arr[1]):\n",
    "        print(\"{}  :  {} :  {}\".format(z[i],1,y_test[i]))\n",
    "        c2+=1\n",
    "    elif np.array_equal(z[i],arr[2]):\n",
    "        print(\"{}  :  {} :  {}\".format(z[i],2,y_test[i]))\n",
    "        c3+=1  \n",
    "    elif np.array_equal(z[i],arr[3]):\n",
    "        print(\"{}  :  {} :  {}\".format(z[i],3,y_test[i]))\n",
    "        c4+=1 \n",
    "    elif np.array_equal(z[i],arr[4]):\n",
    "        print(\"{}  :  {} :  {}\".format(z[i],4,y_test[i]))\n",
    "        c5+=1 \n",
    "\n",
    "print('_____________________________________________________')\n",
    "print(\"Predicted NO. of Brown Dwarfs = {}\".format(c1))\n",
    "print(\"Predicted NO. of Red Dwarfs = {}\".format(c2))\n",
    "print(\"Predicted NO. of White Dwarfs = {}\".format(c3))\n",
    "print(\"Predicted NO. of Supergiants = {}\".format(c4))\n",
    "print(\"Predicted NO. of Hypergiants = {}\".format(c5))\n",
    "print(\"Total tested stars = {}\".format(len(z)))\n",
    "\n",
    "m = y_test\n",
    "\n",
    "print('_____________________________________________________')\n",
    "\n",
    "for i in range(0,len(m)):\n",
    "    if m[i] == 0:\n",
    "        c6+=1\n",
    "    elif m[i] == 1 :\n",
    "        c7+=1 \n",
    "    elif m[i] == 2 :\n",
    "        c8+=1 \n",
    "    elif m[i] == 3 :\n",
    "        c9+=1 \n",
    "    elif m[i] == 4 :\n",
    "        c10+=1 \n",
    "\n",
    "\n",
    "print(\"Original NO. of Brown Dwarfs = {}\".format(c6))\n",
    "print(\"Original NO. of Red Dwarfs = {}\".format(c7))\n",
    "print(\"Original NO. of White Dwarfs = {}\".format(c8))\n",
    "print(\"Original NO. of Supergiants = {}\".format(c9))\n",
    "print(\"Original NO. of Hypergiants = {}\".format(c10))\n",
    "print(\"Total tested stars = {}\".format(len(x_test)))\n",
    "\n",
    "print('_____________________________________________________')\n",
    "print('Accuracy = {}%'.format((val_acc*100)))"
   ]
  },
  {
   "cell_type": "markdown",
   "metadata": {},
   "source": [
    "# Data Visualization"
   ]
  },
  {
   "cell_type": "code",
   "execution_count": 20,
   "metadata": {},
   "outputs": [],
   "source": [
    "import matplotlib.pyplot as plt"
   ]
  },
  {
   "cell_type": "markdown",
   "metadata": {},
   "source": [
    "## -- Plotting Original data of Stars"
   ]
  },
  {
   "cell_type": "code",
   "execution_count": 21,
   "metadata": {},
   "outputs": [
    {
     "name": "stdout",
     "output_type": "stream",
     "text": [
      "Total Counted Stars = 200\n"
     ]
    },
    {
     "data": {
      "image/png": "[encoded data removed]",
      "text/plain": [
       "<Figure size 432x288 with 1 Axes>"
      ]
     },
     "metadata": {
      "needs_background": "light"
     },
     "output_type": "display_data"
    }
   ],
   "source": [
    "df1 = pd.read_csv('C:\\\\Users\\\\User1\\\\Desktop\\\\Multi class classifier\\\\5 class classifier\\\\5 class.csv')\n",
    "\n",
    "## data plotting\n",
    "\n",
    "x1 = np.array(df1.drop(['Star color','Spectral Class'],1))\n",
    "y1 = np.array(df1['Star type'], dtype ='float')\n",
    "y1.shape = (len(y1),1)\n",
    "c1 =0\n",
    "\n",
    "for i in range(0,len(x1)):\n",
    "    if x1[i][4] == 0:\n",
    "        a = plt.scatter(x1[i][0],x1[i][3], s = 30 , c = 'green', marker = '.')\n",
    "    elif x1[i][4]== 1:\n",
    "        b = plt.scatter(x1[i][0],x1[i][3],s = 50 , c = 'red',marker = '.')\n",
    "    elif x1[i][4]== 2:\n",
    "        c = plt.scatter(x1[i][0],x1[i][3],s = 75 , c = 'gray',marker = '.')\n",
    "    elif x1[i][4]== 3:\n",
    "        d = plt.scatter(x1[i][0],x1[i][3],s = 100 , c = 'orange',marker = 'o') \n",
    "    elif x1[i][4]== 4:\n",
    "        e = plt.scatter(x1[i][0],x1[i][3],s = 150 , c = 'blue',marker = 'o')       \n",
    "    c1+=1\n",
    "\n",
    "\n",
    "print(\"Total Counted Stars = {}\".format(c1)) \n",
    "plt.xlabel(\"Temperature(K)\")\n",
    "plt.ylabel(\"Absolute Nagnitude(Mv)\")\n",
    "plt.title(\"H-R Diagram of Stars \")\n",
    "plt.legend((a,b,c,d,e),('Brown Dwarf','Red Dwarf','White Dwarf','Supergiant','Hypergiant'))\n",
    "m = np.linspace(0,40000,100)\n",
    "n = (0*m) -7.5\n",
    "plt.plot(m,n,'--m')\n",
    "f = np.linspace(0,6000,100)\n",
    "g = (0*f)+15.4\n",
    "plt.plot(f,g,'--c')\n",
    "plt.gca().invert_xaxis()\n",
    "plt.gca().invert_yaxis()\n",
    "plt.show()"
   ]
  },
  {
   "cell_type": "code",
   "execution_count": 22,
   "metadata": {},
   "outputs": [],
   "source": [
    "# Dashed line indicates the class boundary that separates some of the classes"
   ]
  },
  {
   "cell_type": "markdown",
   "metadata": {},
   "source": [
    "## -- Visualizing Trained Data"
   ]
  },
  {
   "cell_type": "code",
   "execution_count": 23,
   "metadata": {},
   "outputs": [
    {
     "name": "stdout",
     "output_type": "stream",
     "text": [
      "Total Trained Stars = 140\n"
     ]
    },
    {
     "data": {
      "image/png": "[encoded data removed]",
      "text/plain": [
       "<Figure size 432x288 with 1 Axes>"
      ]
     },
     "metadata": {
      "needs_background": "light"
     },
     "output_type": "display_data"
    }
   ],
   "source": [
    "c2=0\n",
    "\n",
    "for i in range(0,len(y_train)):\n",
    "    if y_train[i] == 0:\n",
    "        a = plt.scatter(x_train[i][0],x_train[i][3], s = 30 , c = 'green', marker = '.')\n",
    "    elif y_train[i]== 1:\n",
    "        b = plt.scatter(x_train[i][0],x_train[i][3],s = 50 , c = 'red',marker = '.')\n",
    "    elif y_train[i]== 2:\n",
    "        c = plt.scatter(x_train[i][0],x_train[i][3],s = 75 , c = 'gray',marker = '.')\n",
    "    elif y_train[i]== 3:\n",
    "        d = plt.scatter(x_train[i][0],x_train[i][3],s = 100 , c = 'orange',marker = 'o') \n",
    "    elif y_train[i]== 4:\n",
    "        e = plt.scatter(x_train[i][0],x_train[i][3],s = 150 , c = 'blue',marker = 'o')     \n",
    "    c2+=1\n",
    "\n",
    "\n",
    "print(\"Total Trained Stars = {}\".format(c2)) \n",
    "plt.xlabel(\"Temperature(K)\")\n",
    "plt.ylabel(\"Absolute Nagnitude(Mv)\")\n",
    "plt.title(\"H-R Diagram of Stars \")\n",
    "plt.legend((a,b,c,d,e),('Brown Dwarf','Red Dwarf','White Dwarf','Supergiant','Hypergiant'))\n",
    "m = np.linspace(0,40000,100)\n",
    "n = (0*m) -7.5\n",
    "plt.plot(m,n,'--m')\n",
    "f = np.linspace(0,6000,100)\n",
    "g = (0*f)+15.4\n",
    "plt.plot(f,g,'--c')\n",
    "plt.gca().invert_xaxis()\n",
    "plt.gca().invert_yaxis()\n",
    "plt.show()"
   ]
  },
  {
   "cell_type": "markdown",
   "metadata": {},
   "source": [
    "## -- Visualizing Tested Data"
   ]
  },
  {
   "cell_type": "code",
   "execution_count": 24,
   "metadata": {},
   "outputs": [
    {
     "name": "stdout",
     "output_type": "stream",
     "text": [
      "Total Tested Stars = 60\n"
     ]
    },
    {
     "data": {
      "image/png": "[encoded data removed]",
      "text/plain": [
       "<Figure size 432x288 with 1 Axes>"
      ]
     },
     "metadata": {
      "needs_background": "light"
     },
     "output_type": "display_data"
    }
   ],
   "source": [
    "c3=0\n",
    "\n",
    "for i in range(0,len(y_test)):\n",
    "    if y_test[i] == 0:\n",
    "        a = plt.scatter(x_test[i][0],x_test[i][3], s = 30 , c = 'green', marker = '.')\n",
    "    elif y_test[i]== 1:\n",
    "        b = plt.scatter(x_test[i][0],x_test[i][3],s = 50 , c = 'red',marker = '.')\n",
    "    elif y_test[i]== 2:\n",
    "        c = plt.scatter(x_test[i][0],x_test[i][3],s = 75 , c = 'gray',marker = '.')\n",
    "    elif y_test[i]== 3:\n",
    "        d = plt.scatter(x_test[i][0],x_test[i][3],s = 100 , c = 'orange',marker = 'o')\n",
    "    elif y_test[i]== 4:\n",
    "        e = plt.scatter(x_test[i][0],x_test[i][3],s = 150 , c = 'blue',marker = 'o')     \n",
    "    c3+=1\n",
    "\n",
    "\n",
    "print(\"Total Tested Stars = {}\".format(c3)) \n",
    "plt.xlabel(\"Temperature(K)\")\n",
    "plt.ylabel(\"Absolute Nagnitude(Mv)\")\n",
    "plt.title(\"H-R Diagram of Stars \")\n",
    "plt.legend((a,b,c,d,e),('Brown Dwarf','Red Dwarf','White Dwarf','Supergiant','Hypergiant'))\n",
    "m = np.linspace(0,40000,100)\n",
    "n = (0*m) -7.5\n",
    "plt.plot(m,n,'--m')\n",
    "f = np.linspace(0,6000,100)\n",
    "g = (0*f)+15.4\n",
    "plt.plot(f,g,'--c')\n",
    "plt.gca().invert_xaxis()\n",
    "plt.gca().invert_yaxis()\n",
    "plt.show()"
   ]
  },
  {
   "cell_type": "markdown",
   "metadata": {},
   "source": [
    "## -- Visualizing Predicted data"
   ]
  },
  {
   "cell_type": "code",
   "execution_count": 25,
   "metadata": {},
   "outputs": [
    {
     "name": "stdout",
     "output_type": "stream",
     "text": [
      "Total Predicted Stars = 60\n"
     ]
    },
    {
     "data": {
      "image/png": "[encoded data removed]",
      "text/plain": [
       "<Figure size 432x288 with 1 Axes>"
      ]
     },
     "metadata": {
      "needs_background": "light"
     },
     "output_type": "display_data"
    },
    {
     "name": "stdout",
     "output_type": "stream",
     "text": [
      "Accuracy = 100.0 %\n"
     ]
    }
   ],
   "source": [
    "c4 = 0\n",
    "\n",
    "for i in range(0,len(z)):\n",
    "    if np.array_equal(z[i],arr[0]):\n",
    "        a = plt.scatter(x_test[i][0],x_test[i][3], s = 30 , c = 'green', marker = '.')\n",
    "    elif np.array_equal(z[i],arr[1]):\n",
    "        b = plt.scatter(x_test[i][0],x_test[i][3],s = 50 , c = 'red',marker = '.')\n",
    "    elif np.array_equal(z[i],arr[2]):\n",
    "        c = plt.scatter(x_test[i][0],x_test[i][3],s = 75 , c = 'gray',marker = '.')\n",
    "    elif np.array_equal(z[i],arr[3]):\n",
    "        d = plt.scatter(x_test[i][0],x_test[i][3],s = 100 , c = 'orange',marker = 'o')\n",
    "    elif np.array_equal(z[i],arr[4]):\n",
    "        e = plt.scatter(x_test[i][0],x_test[i][3],s = 150 , c = 'blue',marker = 'o')     \n",
    "    c4+=1\n",
    "\n",
    "print(\"Total Predicted Stars = {}\".format(c4)) \n",
    "plt.xlabel(\"Temperature(K)\")\n",
    "plt.ylabel(\"Absolute Nagnitude(Mv)\")\n",
    "plt.title(\"H-R Diagram of Stars \")\n",
    "plt.legend((a,b,c,d,e),('Brown Dwarf','Red Dwarf','White Dwarf','Supergiant','Hypergiant'))\n",
    "m = np.linspace(0,40000,100)\n",
    "n = (0*m) -7.5\n",
    "plt.plot(m,n,'--m')\n",
    "f = np.linspace(0,6000,100)\n",
    "g = (0*f)+15.4\n",
    "plt.plot(f,g,'--c')\n",
    "plt.gca().invert_xaxis()\n",
    "plt.gca().invert_yaxis()\n",
    "plt.show()\n",
    "print(\"Accuracy = {} %\".format(val_acc*100))"
   ]
  },
  {
   "cell_type": "markdown",
   "metadata": {},
   "source": [
    "## Saving Trained data in a pickle for future use"
   ]
  },
  {
   "cell_type": "code",
   "execution_count": 26,
   "metadata": {},
   "outputs": [],
   "source": [
    "import pickle\n",
    "\n",
    "data = np.hstack((x_f_train,y_f_train))    # Merging the label column (y_test) with the X_test  i.e the total training set\n",
    "\n",
    "with open(\"model.pickle\",\"wb\") as f:\n",
    "    pickle.dump( data , f)"
   ]
  }
 ],
 "metadata": {
  "kernelspec": {
   "display_name": "Python 3",
   "language": "python",
   "name": "python3"
  },
  "language_info": {
   "codemirror_mode": {
    "name": "ipython",
    "version": 3
   },
   "file_extension": ".py",
   "mimetype": "text/x-python",
   "name": "python",
   "nbconvert_exporter": "python",
   "pygments_lexer": "ipython3",
   "version": "3.7.3"
  }
 },
 "nbformat": 4,
 "nbformat_minor": 2
}
