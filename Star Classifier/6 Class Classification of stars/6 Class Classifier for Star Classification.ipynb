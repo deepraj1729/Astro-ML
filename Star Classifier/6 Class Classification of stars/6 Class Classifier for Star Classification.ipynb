{
 "cells": [
  {
   "cell_type": "markdown",
   "metadata": {},
   "source": [
    "# Star Classification Using A Deep Neural Network (6 Class Classification)"
   ]
  },
  {
   "cell_type": "markdown",
   "metadata": {},
   "source": [
    "## -- Neccessary Modules"
   ]
  },
  {
   "cell_type": "code",
   "execution_count": 1,
   "metadata": {},
   "outputs": [],
   "source": [
    "import tensorflow as tf \n",
    "from tensorflow import keras\n",
    "from sklearn import preprocessing, model_selection\n",
    "import numpy as np \n",
    "import pandas as pd \n",
    "import matplotlib.pyplot as plt"
   ]
  },
  {
   "cell_type": "markdown",
   "metadata": {},
   "source": [
    "## -- Loading dataset of stars from CSV"
   ]
  },
  {
   "cell_type": "code",
   "execution_count": 2,
   "metadata": {},
   "outputs": [
    {
     "data": {
      "text/html": [
       "<div>\n",
       "<style scoped>\n",
       "    .dataframe tbody tr th:only-of-type {\n",
       "        vertical-align: middle;\n",
       "    }\n",
       "\n",
       "    .dataframe tbody tr th {\n",
       "        vertical-align: top;\n",
       "    }\n",
       "\n",
       "    .dataframe thead th {\n",
       "        text-align: right;\n",
       "    }\n",
       "</style>\n",
       "<table border=\"1\" class=\"dataframe\">\n",
       "  <thead>\n",
       "    <tr style=\"text-align: right;\">\n",
       "      <th></th>\n",
       "      <th>Temperature (K)</th>\n",
       "      <th>Luminosity(L/Lo)</th>\n",
       "      <th>Radius(R/Ro)</th>\n",
       "      <th>Absolute magnitude(Mv)</th>\n",
       "      <th>Star type</th>\n",
       "      <th>Star color</th>\n",
       "      <th>Spectral Class</th>\n",
       "    </tr>\n",
       "  </thead>\n",
       "  <tbody>\n",
       "    <tr>\n",
       "      <td>0</td>\n",
       "      <td>3068</td>\n",
       "      <td>0.002400</td>\n",
       "      <td>0.1700</td>\n",
       "      <td>16.12</td>\n",
       "      <td>0</td>\n",
       "      <td>Red</td>\n",
       "      <td>M</td>\n",
       "    </tr>\n",
       "    <tr>\n",
       "      <td>1</td>\n",
       "      <td>3042</td>\n",
       "      <td>0.000500</td>\n",
       "      <td>0.1542</td>\n",
       "      <td>16.60</td>\n",
       "      <td>0</td>\n",
       "      <td>Red</td>\n",
       "      <td>M</td>\n",
       "    </tr>\n",
       "    <tr>\n",
       "      <td>2</td>\n",
       "      <td>2600</td>\n",
       "      <td>0.000300</td>\n",
       "      <td>0.1020</td>\n",
       "      <td>18.70</td>\n",
       "      <td>0</td>\n",
       "      <td>Red</td>\n",
       "      <td>M</td>\n",
       "    </tr>\n",
       "    <tr>\n",
       "      <td>3</td>\n",
       "      <td>2800</td>\n",
       "      <td>0.000200</td>\n",
       "      <td>0.1600</td>\n",
       "      <td>16.65</td>\n",
       "      <td>0</td>\n",
       "      <td>Red</td>\n",
       "      <td>M</td>\n",
       "    </tr>\n",
       "    <tr>\n",
       "      <td>4</td>\n",
       "      <td>1939</td>\n",
       "      <td>0.000138</td>\n",
       "      <td>0.1030</td>\n",
       "      <td>20.06</td>\n",
       "      <td>0</td>\n",
       "      <td>Red</td>\n",
       "      <td>M</td>\n",
       "    </tr>\n",
       "  </tbody>\n",
       "</table>\n",
       "</div>"
      ],
      "text/plain": [
       "   Temperature (K)  Luminosity(L/Lo)  Radius(R/Ro)  Absolute magnitude(Mv)  \\\n",
       "0             3068          0.002400        0.1700                   16.12   \n",
       "1             3042          0.000500        0.1542                   16.60   \n",
       "2             2600          0.000300        0.1020                   18.70   \n",
       "3             2800          0.000200        0.1600                   16.65   \n",
       "4             1939          0.000138        0.1030                   20.06   \n",
       "\n",
       "   Star type Star color Spectral Class  \n",
       "0          0        Red              M  \n",
       "1          0        Red              M  \n",
       "2          0        Red              M  \n",
       "3          0        Red              M  \n",
       "4          0        Red              M  "
      ]
     },
     "execution_count": 2,
     "metadata": {},
     "output_type": "execute_result"
    }
   ],
   "source": [
    "df = pd.read_csv('6 class csv.csv')\n",
    "df.head()"
   ]
  },
  {
   "cell_type": "markdown",
   "metadata": {},
   "source": [
    "## Lower part of dataset"
   ]
  },
  {
   "cell_type": "code",
   "execution_count": 3,
   "metadata": {},
   "outputs": [
    {
     "data": {
      "text/html": [
       "<div>\n",
       "<style scoped>\n",
       "    .dataframe tbody tr th:only-of-type {\n",
       "        vertical-align: middle;\n",
       "    }\n",
       "\n",
       "    .dataframe tbody tr th {\n",
       "        vertical-align: top;\n",
       "    }\n",
       "\n",
       "    .dataframe thead th {\n",
       "        text-align: right;\n",
       "    }\n",
       "</style>\n",
       "<table border=\"1\" class=\"dataframe\">\n",
       "  <thead>\n",
       "    <tr style=\"text-align: right;\">\n",
       "      <th></th>\n",
       "      <th>Temperature (K)</th>\n",
       "      <th>Luminosity(L/Lo)</th>\n",
       "      <th>Radius(R/Ro)</th>\n",
       "      <th>Absolute magnitude(Mv)</th>\n",
       "      <th>Star type</th>\n",
       "      <th>Star color</th>\n",
       "      <th>Spectral Class</th>\n",
       "    </tr>\n",
       "  </thead>\n",
       "  <tbody>\n",
       "    <tr>\n",
       "      <td>235</td>\n",
       "      <td>38940</td>\n",
       "      <td>374830.0</td>\n",
       "      <td>1356.0</td>\n",
       "      <td>-9.93</td>\n",
       "      <td>5</td>\n",
       "      <td>Blue</td>\n",
       "      <td>O</td>\n",
       "    </tr>\n",
       "    <tr>\n",
       "      <td>236</td>\n",
       "      <td>30839</td>\n",
       "      <td>834042.0</td>\n",
       "      <td>1194.0</td>\n",
       "      <td>-10.63</td>\n",
       "      <td>5</td>\n",
       "      <td>Blue</td>\n",
       "      <td>O</td>\n",
       "    </tr>\n",
       "    <tr>\n",
       "      <td>237</td>\n",
       "      <td>8829</td>\n",
       "      <td>537493.0</td>\n",
       "      <td>1423.0</td>\n",
       "      <td>-10.73</td>\n",
       "      <td>5</td>\n",
       "      <td>White</td>\n",
       "      <td>A</td>\n",
       "    </tr>\n",
       "    <tr>\n",
       "      <td>238</td>\n",
       "      <td>9235</td>\n",
       "      <td>404940.0</td>\n",
       "      <td>1112.0</td>\n",
       "      <td>-11.23</td>\n",
       "      <td>5</td>\n",
       "      <td>White</td>\n",
       "      <td>A</td>\n",
       "    </tr>\n",
       "    <tr>\n",
       "      <td>239</td>\n",
       "      <td>37882</td>\n",
       "      <td>294903.0</td>\n",
       "      <td>1783.0</td>\n",
       "      <td>-7.80</td>\n",
       "      <td>5</td>\n",
       "      <td>Blue</td>\n",
       "      <td>O</td>\n",
       "    </tr>\n",
       "  </tbody>\n",
       "</table>\n",
       "</div>"
      ],
      "text/plain": [
       "     Temperature (K)  Luminosity(L/Lo)  Radius(R/Ro)  Absolute magnitude(Mv)  \\\n",
       "235            38940          374830.0        1356.0                   -9.93   \n",
       "236            30839          834042.0        1194.0                  -10.63   \n",
       "237             8829          537493.0        1423.0                  -10.73   \n",
       "238             9235          404940.0        1112.0                  -11.23   \n",
       "239            37882          294903.0        1783.0                   -7.80   \n",
       "\n",
       "     Star type Star color Spectral Class  \n",
       "235          5       Blue              O  \n",
       "236          5       Blue              O  \n",
       "237          5      White              A  \n",
       "238          5      White              A  \n",
       "239          5       Blue              O  "
      ]
     },
     "execution_count": 3,
     "metadata": {},
     "output_type": "execute_result"
    }
   ],
   "source": [
    "df.tail()"
   ]
  },
  {
   "cell_type": "markdown",
   "metadata": {},
   "source": [
    "## Checking For NULL Values"
   ]
  },
  {
   "cell_type": "code",
   "execution_count": 4,
   "metadata": {},
   "outputs": [
    {
     "data": {
      "text/plain": [
       "False"
      ]
     },
     "execution_count": 4,
     "metadata": {},
     "output_type": "execute_result"
    }
   ],
   "source": [
    "df.isnull().values.any()"
   ]
  },
  {
   "cell_type": "markdown",
   "metadata": {},
   "source": [
    "## Finding Correlation of our dataset to check for redundant columns"
   ]
  },
  {
   "cell_type": "code",
   "execution_count": 5,
   "metadata": {},
   "outputs": [
    {
     "data": {
      "text/html": [
       "<div>\n",
       "<style scoped>\n",
       "    .dataframe tbody tr th:only-of-type {\n",
       "        vertical-align: middle;\n",
       "    }\n",
       "\n",
       "    .dataframe tbody tr th {\n",
       "        vertical-align: top;\n",
       "    }\n",
       "\n",
       "    .dataframe thead th {\n",
       "        text-align: right;\n",
       "    }\n",
       "</style>\n",
       "<table border=\"1\" class=\"dataframe\">\n",
       "  <thead>\n",
       "    <tr style=\"text-align: right;\">\n",
       "      <th></th>\n",
       "      <th>Temperature (K)</th>\n",
       "      <th>Luminosity(L/Lo)</th>\n",
       "      <th>Radius(R/Ro)</th>\n",
       "      <th>Absolute magnitude(Mv)</th>\n",
       "      <th>Star type</th>\n",
       "    </tr>\n",
       "  </thead>\n",
       "  <tbody>\n",
       "    <tr>\n",
       "      <td>Temperature (K)</td>\n",
       "      <td>1.000000</td>\n",
       "      <td>0.393404</td>\n",
       "      <td>0.064216</td>\n",
       "      <td>-0.420261</td>\n",
       "      <td>0.411129</td>\n",
       "    </tr>\n",
       "    <tr>\n",
       "      <td>Luminosity(L/Lo)</td>\n",
       "      <td>0.393404</td>\n",
       "      <td>1.000000</td>\n",
       "      <td>0.526516</td>\n",
       "      <td>-0.692619</td>\n",
       "      <td>0.676845</td>\n",
       "    </tr>\n",
       "    <tr>\n",
       "      <td>Radius(R/Ro)</td>\n",
       "      <td>0.064216</td>\n",
       "      <td>0.526516</td>\n",
       "      <td>1.000000</td>\n",
       "      <td>-0.608728</td>\n",
       "      <td>0.660975</td>\n",
       "    </tr>\n",
       "    <tr>\n",
       "      <td>Absolute magnitude(Mv)</td>\n",
       "      <td>-0.420261</td>\n",
       "      <td>-0.692619</td>\n",
       "      <td>-0.608728</td>\n",
       "      <td>1.000000</td>\n",
       "      <td>-0.955276</td>\n",
       "    </tr>\n",
       "    <tr>\n",
       "      <td>Star type</td>\n",
       "      <td>0.411129</td>\n",
       "      <td>0.676845</td>\n",
       "      <td>0.660975</td>\n",
       "      <td>-0.955276</td>\n",
       "      <td>1.000000</td>\n",
       "    </tr>\n",
       "  </tbody>\n",
       "</table>\n",
       "</div>"
      ],
      "text/plain": [
       "                        Temperature (K)  Luminosity(L/Lo)  Radius(R/Ro)  \\\n",
       "Temperature (K)                1.000000          0.393404      0.064216   \n",
       "Luminosity(L/Lo)               0.393404          1.000000      0.526516   \n",
       "Radius(R/Ro)                   0.064216          0.526516      1.000000   \n",
       "Absolute magnitude(Mv)        -0.420261         -0.692619     -0.608728   \n",
       "Star type                      0.411129          0.676845      0.660975   \n",
       "\n",
       "                        Absolute magnitude(Mv)  Star type  \n",
       "Temperature (K)                      -0.420261   0.411129  \n",
       "Luminosity(L/Lo)                     -0.692619   0.676845  \n",
       "Radius(R/Ro)                         -0.608728   0.660975  \n",
       "Absolute magnitude(Mv)                1.000000  -0.955276  \n",
       "Star type                            -0.955276   1.000000  "
      ]
     },
     "execution_count": 5,
     "metadata": {},
     "output_type": "execute_result"
    }
   ],
   "source": [
    "df.corr()"
   ]
  },
  {
   "cell_type": "markdown",
   "metadata": {},
   "source": [
    "## Visualizing Correlation of columns"
   ]
  },
  {
   "cell_type": "code",
   "execution_count": 6,
   "metadata": {},
   "outputs": [
    {
     "data": {
      "image/png": "[encoded data removed]",
      "text/plain": [
       "<Figure size 432x432 with 1 Axes>"
      ]
     },
     "metadata": {
      "needs_background": "light"
     },
     "output_type": "display_data"
    }
   ],
   "source": [
    "def plot_corr(df):\n",
    "    corr = df.corr()\n",
    "    fig,ax = plt.subplots(figsize = (6,6))\n",
    "    ax.matshow(corr)\n",
    "    plt.xticks(range(len(corr.columns)),corr.columns)\n",
    "    plt.yticks(range(len(corr.columns)),corr.columns)\n",
    "    \n",
    "    \n",
    "plot_corr(df) "
   ]
  },
  {
   "cell_type": "markdown",
   "metadata": {},
   "source": [
    "## Checking Stats about our dataset"
   ]
  },
  {
   "cell_type": "code",
   "execution_count": 7,
   "metadata": {},
   "outputs": [],
   "source": [
    "# star class:  Star Type\n",
    "#     0     :  Brown Dwarf\n",
    "#     1     :  Red Dwarf\n",
    "#     2     :  White Dwarf\n",
    "#     3     :  Main-Sequence\n",
    "#     4     :  Supergiant\n",
    "#     5     :  Hypergiant"
   ]
  },
  {
   "cell_type": "code",
   "execution_count": 8,
   "metadata": {},
   "outputs": [
    {
     "name": "stdout",
     "output_type": "stream",
     "text": [
      "Brown dwarf = 40 \n",
      "Red dwarf  = 40 \n",
      "White Dwarf = 40 \n",
      "Main Sequence = 40 \n",
      "Supergiant= 40 \n",
      "Hypergiant = 40 \n",
      "Total stars in the dataset = 240 \n"
     ]
    }
   ],
   "source": [
    "brown_dwarf = len(df.loc[df['Star type'] == 0])\n",
    "red_dwarf = len(df.loc[df['Star type'] == 1])\n",
    "white_dwarf = len(df.loc[df['Star type'] == 2])\n",
    "main_sequence = len(df.loc[df['Star type'] == 3])\n",
    "supergiant = len(df.loc[df['Star type'] == 4])\n",
    "hypergiant = len(df.loc[df['Star type'] == 5])\n",
    "\n",
    "print(\"Brown dwarf = {} \".format(brown_dwarf))\n",
    "print(\"Red dwarf  = {} \".format(red_dwarf))\n",
    "print(\"White Dwarf = {} \".format(white_dwarf))\n",
    "print(\"Main Sequence = {} \".format(main_sequence))\n",
    "print(\"Supergiant= {} \".format(supergiant))\n",
    "print(\"Hypergiant = {} \".format(hypergiant)) \n",
    "print(\"Total stars in the dataset = {} \".format(len(df)))"
   ]
  },
  {
   "cell_type": "markdown",
   "metadata": {},
   "source": [
    "## -- Converting Data into Numpy Arrays ( For Sake of Convenience)"
   ]
  },
  {
   "cell_type": "code",
   "execution_count": 9,
   "metadata": {},
   "outputs": [],
   "source": [
    "x = np.array(df.drop(['Star type', 'Star color','Spectral Class'],1))   # Excludes Star type, Star color and Spectral Class\n",
    "y = np.array(df['Star type'], dtype ='float')                           # Only Star type column\n",
    "y.shape = (len(y),1)                                                    # Shaping the star type column into a column vector"
   ]
  },
  {
   "cell_type": "markdown",
   "metadata": {},
   "source": [
    "## -- Splitting Data into Training And Testing Data"
   ]
  },
  {
   "cell_type": "code",
   "execution_count": 10,
   "metadata": {},
   "outputs": [],
   "source": [
    "x_train ,x_test , y_train, y_test = model_selection.train_test_split(x,y, test_size = 0.3)    #Splits data into 70:30 ratio"
   ]
  },
  {
   "cell_type": "markdown",
   "metadata": {},
   "source": [
    "## -- Scaling Data for Better Modelling (Only x values)"
   ]
  },
  {
   "cell_type": "code",
   "execution_count": 11,
   "metadata": {},
   "outputs": [],
   "source": [
    "x_f_train = preprocessing.scale(x_train)\n",
    "x_f_test = preprocessing.scale(x_test)\n",
    "y_f_train = y_train\n",
    "y_f_test = y_test"
   ]
  },
  {
   "cell_type": "markdown",
   "metadata": {},
   "source": [
    "## -- Using Deep Neural Network for Training Data "
   ]
  },
  {
   "cell_type": "code",
   "execution_count": 12,
   "metadata": {},
   "outputs": [
    {
     "name": "stdout",
     "output_type": "stream",
     "text": [
      "WARNING:tensorflow:From C:\\Users\\User1\\Anaconda3\\lib\\site-packages\\tensorflow\\python\\ops\\init_ops.py:1251: calling VarianceScaling.__init__ (from tensorflow.python.ops.init_ops) with dtype is deprecated and will be removed in a future version.\n",
      "Instructions for updating:\n",
      "Call initializer instance with the dtype argument instead of passing it to the constructor\n"
     ]
    }
   ],
   "source": [
    "model = tf.keras.models.Sequential()\n",
    "model.add(tf.keras.layers.Flatten(input_shape=(4,)))\n",
    "model.add(tf.keras.layers.Dense(200,activation = \"relu\"))\n",
    "model.add(tf.keras.layers.Dense(300,activation = \"relu\"))\n",
    "model.add(tf.keras.layers.Dense(6,activation = \"softmax\"))\n",
    "\n",
    "\n",
    "model.compile(optimizer = \"adam\",\n",
    "       loss = 'sparse_categorical_crossentropy',\n",
    "       metrics=['accuracy'])"
   ]
  },
  {
   "cell_type": "markdown",
   "metadata": {},
   "source": [
    "## -- Training Data (Learning)"
   ]
  },
  {
   "cell_type": "code",
   "execution_count": 13,
   "metadata": {},
   "outputs": [
    {
     "name": "stdout",
     "output_type": "stream",
     "text": [
      "Epoch 1/100\n",
      "168/168 [==============================] - 0s 1ms/sample - loss: 1.6601 - acc: 0.4762\n",
      "Epoch 2/100\n",
      "168/168 [==============================] - 0s 95us/sample - loss: 1.2733 - acc: 0.7619\n",
      "Epoch 3/100\n",
      "168/168 [==============================] - 0s 143us/sample - loss: 1.0184 - acc: 0.8036\n",
      "Epoch 4/100\n",
      "168/168 [==============================] - 0s 95us/sample - loss: 0.8256 - acc: 0.7679\n",
      "Epoch 5/100\n",
      "168/168 [==============================] - 0s 119us/sample - loss: 0.6892 - acc: 0.8155\n",
      "Epoch 6/100\n",
      "168/168 [==============================] - 0s 119us/sample - loss: 0.5686 - acc: 0.8452\n",
      "Epoch 7/100\n",
      "168/168 [==============================] - 0s 95us/sample - loss: 0.4755 - acc: 0.9226\n",
      "Epoch 8/100\n",
      "168/168 [==============================] - 0s 143us/sample - loss: 0.4015 - acc: 0.9702\n",
      "Epoch 9/100\n",
      "168/168 [==============================] - 0s 95us/sample - loss: 0.3402 - acc: 0.9762\n",
      "Epoch 10/100\n",
      "168/168 [==============================] - 0s 119us/sample - loss: 0.2921 - acc: 0.9881\n",
      "Epoch 11/100\n",
      "168/168 [==============================] - 0s 119us/sample - loss: 0.2591 - acc: 0.9821\n",
      "Epoch 12/100\n",
      "168/168 [==============================] - 0s 119us/sample - loss: 0.2281 - acc: 0.9643\n",
      "Epoch 13/100\n",
      "168/168 [==============================] - 0s 119us/sample - loss: 0.1973 - acc: 0.9583\n",
      "Epoch 14/100\n",
      "168/168 [==============================] - 0s 143us/sample - loss: 0.1781 - acc: 0.9940\n",
      "Epoch 15/100\n",
      "168/168 [==============================] - 0s 143us/sample - loss: 0.1570 - acc: 1.0000\n",
      "Epoch 16/100\n",
      "168/168 [==============================] - 0s 95us/sample - loss: 0.1496 - acc: 0.9643\n",
      "Epoch 17/100\n",
      "168/168 [==============================] - 0s 119us/sample - loss: 0.1282 - acc: 0.9881\n",
      "Epoch 18/100\n",
      "168/168 [==============================] - 0s 119us/sample - loss: 0.1314 - acc: 0.9940\n",
      "Epoch 19/100\n",
      "168/168 [==============================] - 0s 95us/sample - loss: 0.1068 - acc: 0.9881\n",
      "Epoch 20/100\n",
      "168/168 [==============================] - 0s 119us/sample - loss: 0.1020 - acc: 0.9762\n",
      "Epoch 21/100\n",
      "168/168 [==============================] - 0s 119us/sample - loss: 0.0919 - acc: 0.9940\n",
      "Epoch 22/100\n",
      "168/168 [==============================] - 0s 143us/sample - loss: 0.0894 - acc: 1.0000\n",
      "Epoch 23/100\n",
      "168/168 [==============================] - 0s 71us/sample - loss: 0.0774 - acc: 0.9940\n",
      "Epoch 24/100\n",
      "168/168 [==============================] - 0s 262us/sample - loss: 0.0728 - acc: 0.9940\n",
      "Epoch 25/100\n",
      "168/168 [==============================] - 0s 143us/sample - loss: 0.0705 - acc: 1.0000\n",
      "Epoch 26/100\n",
      "168/168 [==============================] - 0s 143us/sample - loss: 0.0657 - acc: 0.9881\n",
      "Epoch 27/100\n",
      "168/168 [==============================] - 0s 119us/sample - loss: 0.0647 - acc: 0.9821\n",
      "Epoch 28/100\n",
      "168/168 [==============================] - 0s 143us/sample - loss: 0.0567 - acc: 1.0000\n",
      "Epoch 29/100\n",
      "168/168 [==============================] - 0s 95us/sample - loss: 0.0542 - acc: 1.0000\n",
      "Epoch 30/100\n",
      "168/168 [==============================] - 0s 119us/sample - loss: 0.0524 - acc: 1.0000\n",
      "Epoch 31/100\n",
      "168/168 [==============================] - 0s 119us/sample - loss: 0.0500 - acc: 0.9940\n",
      "Epoch 32/100\n",
      "168/168 [==============================] - 0s 95us/sample - loss: 0.0543 - acc: 0.9821\n",
      "Epoch 33/100\n",
      "168/168 [==============================] - 0s 143us/sample - loss: 0.0475 - acc: 1.0000\n",
      "Epoch 34/100\n",
      "168/168 [==============================] - 0s 71us/sample - loss: 0.0529 - acc: 0.9940\n",
      "Epoch 35/100\n",
      "168/168 [==============================] - 0s 143us/sample - loss: 0.0454 - acc: 0.9881\n",
      "Epoch 36/100\n",
      "168/168 [==============================] - 0s 119us/sample - loss: 0.0533 - acc: 1.0000\n",
      "Epoch 37/100\n",
      "168/168 [==============================] - 0s 143us/sample - loss: 0.0446 - acc: 1.0000\n",
      "Epoch 38/100\n",
      "168/168 [==============================] - 0s 119us/sample - loss: 0.0411 - acc: 0.9881\n",
      "Epoch 39/100\n",
      "168/168 [==============================] - 0s 143us/sample - loss: 0.0380 - acc: 1.0000\n",
      "Epoch 40/100\n",
      "168/168 [==============================] - 0s 119us/sample - loss: 0.0377 - acc: 0.9940\n",
      "Epoch 41/100\n",
      "168/168 [==============================] - 0s 119us/sample - loss: 0.0331 - acc: 0.9940\n",
      "Epoch 42/100\n",
      "168/168 [==============================] - 0s 190us/sample - loss: 0.0341 - acc: 0.9940\n",
      "Epoch 43/100\n",
      "168/168 [==============================] - 0s 95us/sample - loss: 0.0372 - acc: 0.9940\n",
      "Epoch 44/100\n",
      "168/168 [==============================] - 0s 119us/sample - loss: 0.0333 - acc: 0.9940\n",
      "Epoch 45/100\n",
      "168/168 [==============================] - 0s 119us/sample - loss: 0.0332 - acc: 1.0000\n",
      "Epoch 46/100\n",
      "168/168 [==============================] - 0s 143us/sample - loss: 0.0297 - acc: 1.0000\n",
      "Epoch 47/100\n",
      "168/168 [==============================] - 0s 143us/sample - loss: 0.0301 - acc: 0.9940\n",
      "Epoch 48/100\n",
      "168/168 [==============================] - 0s 119us/sample - loss: 0.0282 - acc: 0.9940\n",
      "Epoch 49/100\n",
      "168/168 [==============================] - 0s 166us/sample - loss: 0.0267 - acc: 1.0000\n",
      "Epoch 50/100\n",
      "168/168 [==============================] - 0s 143us/sample - loss: 0.0278 - acc: 1.0000\n",
      "Epoch 51/100\n",
      "168/168 [==============================] - 0s 95us/sample - loss: 0.0312 - acc: 0.9940\n",
      "Epoch 52/100\n",
      "168/168 [==============================] - 0s 166us/sample - loss: 0.0225 - acc: 1.0000\n",
      "Epoch 53/100\n",
      "168/168 [==============================] - 0s 95us/sample - loss: 0.0285 - acc: 0.9940\n",
      "Epoch 54/100\n",
      "168/168 [==============================] - 0s 71us/sample - loss: 0.0231 - acc: 1.0000\n",
      "Epoch 55/100\n",
      "168/168 [==============================] - 0s 143us/sample - loss: 0.0249 - acc: 0.9940\n",
      "Epoch 56/100\n",
      "168/168 [==============================] - 0s 95us/sample - loss: 0.0288 - acc: 0.9940\n",
      "Epoch 57/100\n",
      "168/168 [==============================] - 0s 95us/sample - loss: 0.0232 - acc: 1.0000\n",
      "Epoch 58/100\n",
      "168/168 [==============================] - 0s 71us/sample - loss: 0.0247 - acc: 0.9940\n",
      "Epoch 59/100\n",
      "168/168 [==============================] - 0s 95us/sample - loss: 0.0195 - acc: 1.0000\n",
      "Epoch 60/100\n",
      "168/168 [==============================] - 0s 95us/sample - loss: 0.0221 - acc: 1.0000\n",
      "Epoch 61/100\n",
      "168/168 [==============================] - 0s 71us/sample - loss: 0.0247 - acc: 1.0000\n",
      "Epoch 62/100\n",
      "168/168 [==============================] - 0s 119us/sample - loss: 0.0232 - acc: 1.0000\n",
      "Epoch 63/100\n",
      "168/168 [==============================] - 0s 95us/sample - loss: 0.0189 - acc: 1.0000\n",
      "Epoch 64/100\n",
      "168/168 [==============================] - 0s 119us/sample - loss: 0.0253 - acc: 0.9940\n",
      "Epoch 65/100\n",
      "168/168 [==============================] - 0s 95us/sample - loss: 0.0168 - acc: 1.0000\n",
      "Epoch 66/100\n",
      "168/168 [==============================] - 0s 95us/sample - loss: 0.0198 - acc: 1.0000\n",
      "Epoch 67/100\n",
      "168/168 [==============================] - 0s 119us/sample - loss: 0.0176 - acc: 1.0000\n",
      "Epoch 68/100\n",
      "168/168 [==============================] - 0s 95us/sample - loss: 0.0221 - acc: 0.9940\n",
      "Epoch 69/100\n",
      "168/168 [==============================] - 0s 119us/sample - loss: 0.0291 - acc: 1.0000\n",
      "Epoch 70/100\n",
      "168/168 [==============================] - 0s 72us/sample - loss: 0.0175 - acc: 1.0000\n",
      "Epoch 71/100\n",
      "168/168 [==============================] - 0s 95us/sample - loss: 0.0223 - acc: 0.9940\n",
      "Epoch 72/100\n",
      "168/168 [==============================] - 0s 214us/sample - loss: 0.0189 - acc: 1.0000\n",
      "Epoch 73/100\n",
      "168/168 [==============================] - 0s 143us/sample - loss: 0.0176 - acc: 1.0000\n",
      "Epoch 74/100\n",
      "168/168 [==============================] - 0s 119us/sample - loss: 0.0247 - acc: 0.9940\n",
      "Epoch 75/100\n",
      "168/168 [==============================] - 0s 119us/sample - loss: 0.0143 - acc: 1.0000\n",
      "Epoch 76/100\n",
      "168/168 [==============================] - 0s 71us/sample - loss: 0.0153 - acc: 1.0000\n",
      "Epoch 77/100\n",
      "168/168 [==============================] - 0s 95us/sample - loss: 0.0142 - acc: 1.0000\n",
      "Epoch 78/100\n",
      "168/168 [==============================] - 0s 95us/sample - loss: 0.0137 - acc: 1.0000\n",
      "Epoch 79/100\n",
      "168/168 [==============================] - 0s 71us/sample - loss: 0.0152 - acc: 1.0000\n",
      "Epoch 80/100\n",
      "168/168 [==============================] - 0s 119us/sample - loss: 0.0180 - acc: 0.9940\n",
      "Epoch 81/100\n",
      "168/168 [==============================] - 0s 95us/sample - loss: 0.0131 - acc: 1.0000\n",
      "Epoch 82/100\n"
     ]
    },
    {
     "name": "stdout",
     "output_type": "stream",
     "text": [
      "168/168 [==============================] - 0s 95us/sample - loss: 0.0177 - acc: 0.9940\n",
      "Epoch 83/100\n",
      "168/168 [==============================] - 0s 71us/sample - loss: 0.0182 - acc: 0.9940\n",
      "Epoch 84/100\n",
      "168/168 [==============================] - 0s 72us/sample - loss: 0.0519 - acc: 0.9821\n",
      "Epoch 85/100\n",
      "168/168 [==============================] - 0s 71us/sample - loss: 0.0253 - acc: 0.9940\n",
      "Epoch 86/100\n",
      "168/168 [==============================] - 0s 71us/sample - loss: 0.0142 - acc: 0.9940\n",
      "Epoch 87/100\n",
      "168/168 [==============================] - 0s 95us/sample - loss: 0.0122 - acc: 1.0000\n",
      "Epoch 88/100\n",
      "168/168 [==============================] - 0s 71us/sample - loss: 0.0192 - acc: 0.9940\n",
      "Epoch 89/100\n",
      "168/168 [==============================] - 0s 95us/sample - loss: 0.0112 - acc: 1.0000\n",
      "Epoch 90/100\n",
      "168/168 [==============================] - 0s 95us/sample - loss: 0.0143 - acc: 0.9940\n",
      "Epoch 91/100\n",
      "168/168 [==============================] - 0s 143us/sample - loss: 0.0138 - acc: 0.9940\n",
      "Epoch 92/100\n",
      "168/168 [==============================] - 0s 72us/sample - loss: 0.0124 - acc: 1.0000\n",
      "Epoch 93/100\n",
      "168/168 [==============================] - 0s 71us/sample - loss: 0.0108 - acc: 1.0000\n",
      "Epoch 94/100\n",
      "168/168 [==============================] - 0s 71us/sample - loss: 0.0107 - acc: 1.0000\n",
      "Epoch 95/100\n",
      "168/168 [==============================] - 0s 71us/sample - loss: 0.0112 - acc: 1.0000\n",
      "Epoch 96/100\n",
      "168/168 [==============================] - 0s 71us/sample - loss: 0.0107 - acc: 1.0000\n",
      "Epoch 97/100\n",
      "168/168 [==============================] - 0s 71us/sample - loss: 0.0102 - acc: 1.0000\n",
      "Epoch 98/100\n",
      "168/168 [==============================] - 0s 71us/sample - loss: 0.0106 - acc: 1.0000\n",
      "Epoch 99/100\n",
      "168/168 [==============================] - 0s 71us/sample - loss: 0.0113 - acc: 1.0000\n",
      "Epoch 100/100\n",
      "168/168 [==============================] - 0s 95us/sample - loss: 0.0097 - acc: 1.0000\n"
     ]
    },
    {
     "data": {
      "text/plain": [
       "<tensorflow.python.keras.callbacks.History at 0x1c99c1992e8>"
      ]
     },
     "execution_count": 13,
     "metadata": {},
     "output_type": "execute_result"
    }
   ],
   "source": [
    "model.fit(x_f_train,y_f_train, epochs = 100)"
   ]
  },
  {
   "cell_type": "markdown",
   "metadata": {},
   "source": [
    "## -- Checking Trained Data For Overfitting and Underfitting over tested data"
   ]
  },
  {
   "cell_type": "code",
   "execution_count": 14,
   "metadata": {},
   "outputs": [
    {
     "name": "stdout",
     "output_type": "stream",
     "text": [
      "72/72 [==============================] - 0s 665us/sample - loss: 0.0099 - acc: 1.0000\n",
      "Loss % = 0.99456033979853 , Accuracy % = 100.0 \n"
     ]
    }
   ],
   "source": [
    "val_loss,val_acc = model.evaluate(x_f_test,y_f_test)\n",
    "print(\"Loss % = {} , Accuracy % = {} \".format(val_loss*100,val_acc*100))"
   ]
  },
  {
   "cell_type": "markdown",
   "metadata": {},
   "source": [
    "## -- Predicting Star Type of Test Data from Trained Data "
   ]
  },
  {
   "cell_type": "code",
   "execution_count": 15,
   "metadata": {},
   "outputs": [],
   "source": [
    "# [1,0,0,0,0,0] = Brown Dwarf\n",
    "# [0,1,0,0,0,0] = Red Dwarf\n",
    "# [0,0,1,0,0,0] = White Dwarf\n",
    "# [0,0,0,1,0,0] = Main Sequence\n",
    "# [0,0,0,0,1,0] = Supergiant\n",
    "# [0,0,0,0,0,1] = Hypergiant\n",
    "\n",
    "arr = np.array([[1,0,0,0,0,0],[0,1,0,0,0,0],[0,0,1,0,0,0],[0,0,0,1,0,0],[0,0,0,0,1,0],[0,0,0,0,0,1]])"
   ]
  },
  {
   "cell_type": "code",
   "execution_count": 16,
   "metadata": {},
   "outputs": [
    {
     "name": "stdout",
     "output_type": "stream",
     "text": [
      "_____________________________________________________\n",
      "Prediction : P-Class : O-Class \n",
      "[0. 0. 0. 0. 1. 0.]  :  4 :  [4.]\n",
      "[0. 1. 0. 0. 0. 0.]  :  1 :  [1.]\n",
      "[0. 0. 0. 0. 0. 1.]  :  5 :  [5.]\n",
      "[0. 0. 0. 1. 0. 0.]  :  3 :  [3.]\n",
      "[0. 0. 1. 0. 0. 0.]  :  2 :  [2.]\n",
      "[0. 0. 1. 0. 0. 0.]  :  2 :  [2.]\n",
      "[0. 0. 0. 0. 1. 0.]  :  4 :  [4.]\n",
      "[0. 0. 0. 0. 1. 0.]  :  4 :  [4.]\n",
      "[0. 0. 0. 1. 0. 0.]  :  3 :  [3.]\n",
      "[0. 1. 0. 0. 0. 0.]  :  1 :  [1.]\n",
      "[0. 0. 1. 0. 0. 0.]  :  2 :  [2.]\n",
      "[1. 0. 0. 0. 0. 0.]  :  0 :  [0.]\n",
      "[0. 0. 0. 0. 1. 0.]  :  4 :  [4.]\n",
      "[0. 0. 0. 0. 0. 1.]  :  5 :  [5.]\n",
      "[0. 0. 0. 1. 0. 0.]  :  3 :  [3.]\n",
      "[0. 0. 0. 1. 0. 0.]  :  3 :  [3.]\n",
      "[0. 1. 0. 0. 0. 0.]  :  1 :  [1.]\n",
      "[0. 0. 0. 0. 0. 1.]  :  5 :  [5.]\n",
      "[0. 0. 0. 0. 0. 1.]  :  5 :  [5.]\n",
      "[0. 0. 0. 0. 1. 0.]  :  4 :  [4.]\n",
      "[0. 1. 0. 0. 0. 0.]  :  1 :  [1.]\n",
      "[1. 0. 0. 0. 0. 0.]  :  0 :  [0.]\n",
      "[0. 0. 1. 0. 0. 0.]  :  2 :  [2.]\n",
      "[0. 0. 0. 0. 0. 1.]  :  5 :  [5.]\n",
      "[1. 0. 0. 0. 0. 0.]  :  0 :  [0.]\n",
      "[1. 0. 0. 0. 0. 0.]  :  0 :  [0.]\n",
      "[0. 0. 1. 0. 0. 0.]  :  2 :  [2.]\n",
      "[0. 0. 1. 0. 0. 0.]  :  2 :  [2.]\n",
      "[0. 0. 0. 1. 0. 0.]  :  3 :  [3.]\n",
      "[0. 0. 1. 0. 0. 0.]  :  2 :  [2.]\n",
      "[0. 1. 0. 0. 0. 0.]  :  1 :  [1.]\n",
      "[0. 0. 0. 0. 0. 1.]  :  5 :  [5.]\n",
      "[0. 0. 0. 0. 1. 0.]  :  4 :  [4.]\n",
      "[0. 0. 0. 1. 0. 0.]  :  3 :  [3.]\n",
      "[1. 0. 0. 0. 0. 0.]  :  0 :  [0.]\n",
      "[0. 0. 0. 1. 0. 0.]  :  3 :  [3.]\n",
      "[0. 1. 0. 0. 0. 0.]  :  1 :  [1.]\n",
      "[0. 0. 1. 0. 0. 0.]  :  2 :  [2.]\n",
      "[0. 0. 0. 1. 0. 0.]  :  3 :  [3.]\n",
      "[1. 0. 0. 0. 0. 0.]  :  0 :  [0.]\n",
      "[0. 0. 0. 0. 0. 1.]  :  5 :  [5.]\n",
      "[1. 0. 0. 0. 0. 0.]  :  0 :  [0.]\n",
      "[1. 0. 0. 0. 0. 0.]  :  0 :  [0.]\n",
      "[0. 0. 0. 1. 0. 0.]  :  3 :  [3.]\n",
      "[0. 1. 0. 0. 0. 0.]  :  1 :  [1.]\n",
      "[0. 1. 0. 0. 0. 0.]  :  1 :  [1.]\n",
      "[0. 0. 0. 0. 1. 0.]  :  4 :  [4.]\n",
      "[0. 0. 0. 0. 1. 0.]  :  4 :  [4.]\n",
      "[0. 1. 0. 0. 0. 0.]  :  1 :  [1.]\n",
      "[0. 0. 0. 0. 1. 0.]  :  4 :  [4.]\n",
      "[0. 0. 0. 0. 1. 0.]  :  4 :  [4.]\n",
      "[0. 0. 0. 0. 1. 0.]  :  4 :  [4.]\n",
      "[0. 0. 0. 0. 1. 0.]  :  4 :  [4.]\n",
      "[1. 0. 0. 0. 0. 0.]  :  0 :  [0.]\n",
      "[0. 1. 0. 0. 0. 0.]  :  1 :  [1.]\n",
      "[0. 0. 1. 0. 0. 0.]  :  2 :  [2.]\n",
      "[0. 0. 0. 0. 0. 1.]  :  5 :  [5.]\n",
      "[0. 0. 1. 0. 0. 0.]  :  2 :  [2.]\n",
      "[1. 0. 0. 0. 0. 0.]  :  0 :  [0.]\n",
      "[0. 0. 1. 0. 0. 0.]  :  2 :  [2.]\n",
      "[1. 0. 0. 0. 0. 0.]  :  0 :  [0.]\n",
      "[0. 0. 1. 0. 0. 0.]  :  2 :  [2.]\n",
      "[0. 0. 1. 0. 0. 0.]  :  2 :  [2.]\n",
      "[0. 0. 0. 0. 0. 1.]  :  5 :  [5.]\n",
      "[1. 0. 0. 0. 0. 0.]  :  0 :  [0.]\n",
      "[0. 0. 0. 1. 0. 0.]  :  3 :  [3.]\n",
      "[0. 0. 1. 0. 0. 0.]  :  2 :  [2.]\n",
      "[0. 0. 0. 0. 1. 0.]  :  4 :  [4.]\n",
      "[0. 0. 0. 1. 0. 0.]  :  3 :  [3.]\n",
      "[1. 0. 0. 0. 0. 0.]  :  0 :  [0.]\n",
      "[0. 0. 0. 0. 1. 0.]  :  4 :  [4.]\n",
      "[0. 0. 0. 1. 0. 0.]  :  3 :  [3.]\n",
      "_____________________________________________________\n",
      "Predicted NO. of Brown Dwarfs = 13\n",
      "Predicted NO. of Red Dwarfs = 10\n",
      "Predicted NO. of White Dwarfs = 14\n",
      "Predicted NO. of Main Sequence stars = 12\n",
      "Predicted NO. of Supergiants = 14\n",
      "Predicted NO. of Hypergiants = 9\n",
      "Total tested stars = 72\n",
      "_____________________________________________________\n",
      "Original NO. of Brown Dwarfs = 13\n",
      "Original NO. of Red Dwarfs = 10\n",
      "Original NO. of White Dwarfs = 14\n",
      "Original NO. of Main Sequence stars = 12\n",
      "Original NO. of Supergiants = 14\n",
      "Original NO. of Hypergiants = 9\n",
      "Total tested stars = 72\n",
      "_____________________________________________________\n",
      "Accuracy = 100.0%\n"
     ]
    }
   ],
   "source": [
    "z = np.round(model.predict(x_f_test))\n",
    "\n",
    "print('_____________________________________________________')\n",
    "print(\"Prediction : P-Class : O-Class \")\n",
    "\n",
    "c1=c2=c3=c4=c5=c6=c7=c8=c9=c10=c11=c12=0  #counter variables\n",
    "\n",
    "for i in range(0,len(z)):\n",
    "    if np.array_equal(z[i],arr[0]):\n",
    "        print(\"{}  :  {} :  {}\".format(z[i],0,y_test[i]))\n",
    "        c1+=1\n",
    "    elif np.array_equal(z[i],arr[1]):\n",
    "        print(\"{}  :  {} :  {}\".format(z[i],1,y_test[i]))\n",
    "        c2+=1\n",
    "    elif np.array_equal(z[i],arr[2]):\n",
    "        print(\"{}  :  {} :  {}\".format(z[i],2,y_test[i]))\n",
    "        c3+=1  \n",
    "    elif np.array_equal(z[i],arr[3]):\n",
    "        print(\"{}  :  {} :  {}\".format(z[i],3,y_test[i]))\n",
    "        c4+=1 \n",
    "    elif np.array_equal(z[i],arr[4]):\n",
    "        print(\"{}  :  {} :  {}\".format(z[i],4,y_test[i]))\n",
    "        c5+=1\n",
    "    elif np.array_equal(z[i],arr[5]):\n",
    "        print(\"{}  :  {} :  {}\".format(z[i],5,y_test[i]))\n",
    "        c6+=1    \n",
    "\n",
    "print('_____________________________________________________')\n",
    "print(\"Predicted NO. of Brown Dwarfs = {}\".format(c1))\n",
    "print(\"Predicted NO. of Red Dwarfs = {}\".format(c2))\n",
    "print(\"Predicted NO. of White Dwarfs = {}\".format(c3))\n",
    "print(\"Predicted NO. of Main Sequence stars = {}\".format(c4))\n",
    "print(\"Predicted NO. of Supergiants = {}\".format(c5))\n",
    "print(\"Predicted NO. of Hypergiants = {}\".format(c6))\n",
    "print(\"Total tested stars = {}\".format(len(z)))\n",
    "\n",
    "m = y_test\n",
    "\n",
    "print('_____________________________________________________')\n",
    "\n",
    "for i in range(0,len(m)):\n",
    "    if m[i] == 0:\n",
    "        c7+=1\n",
    "    elif m[i] == 1 :\n",
    "        c8+=1 \n",
    "    elif m[i] == 2 :\n",
    "        c9+=1 \n",
    "    elif m[i] == 3 :\n",
    "        c10+=1 \n",
    "    elif m[i] == 4 :\n",
    "        c11+=1 \n",
    "    elif m[i] == 5 :\n",
    "        c12+=1     \n",
    "\n",
    "\n",
    "print(\"Original NO. of Brown Dwarfs = {}\".format(c7))\n",
    "print(\"Original NO. of Red Dwarfs = {}\".format(c8))\n",
    "print(\"Original NO. of White Dwarfs = {}\".format(c9))\n",
    "print(\"Original NO. of Main Sequence stars = {}\".format(c10))\n",
    "print(\"Original NO. of Supergiants = {}\".format(c11))\n",
    "print(\"Original NO. of Hypergiants = {}\".format(c12))\n",
    "print(\"Total tested stars = {}\".format(len(x_test)))\n",
    "\n",
    "print('_____________________________________________________')\n",
    "print('Accuracy = {}%'.format((val_acc*100)))"
   ]
  },
  {
   "cell_type": "code",
   "execution_count": 17,
   "metadata": {},
   "outputs": [],
   "source": [
    "# It predicted real good, Our model is lit :)"
   ]
  },
  {
   "cell_type": "markdown",
   "metadata": {},
   "source": [
    "# Data Visualization"
   ]
  },
  {
   "cell_type": "markdown",
   "metadata": {},
   "source": [
    "## -- Visualizing Whole Dataset"
   ]
  },
  {
   "cell_type": "code",
   "execution_count": 18,
   "metadata": {},
   "outputs": [
    {
     "name": "stdout",
     "output_type": "stream",
     "text": [
      "Total Counted Stars = 240\n"
     ]
    },
    {
     "data": {
      "image/png": "[encoded data removed]",
      "text/plain": [
       "<Figure size 432x288 with 1 Axes>"
      ]
     },
     "metadata": {
      "needs_background": "light"
     },
     "output_type": "display_data"
    }
   ],
   "source": [
    "df1 = pd.read_csv('6 class csv.csv')\n",
    "\n",
    "\n",
    "\n",
    "x1 = np.array(df1.drop(['Star color','Spectral Class'],1))\n",
    "y1 = np.array(df1['Star type'], dtype ='float')\n",
    "y1.shape = (len(y1),1)\n",
    "c1 =0\n",
    "\n",
    "for i in range(0,len(x1)):\n",
    "    if x1[i][4] == 0:\n",
    "        a = plt.scatter(x1[i][0],x1[i][3], s = 30 , c = 'green', marker = '.')\n",
    "    elif x1[i][4]== 1:\n",
    "        b = plt.scatter(x1[i][0],x1[i][3],s = 50 , c = 'red',marker = '.')\n",
    "    elif x1[i][4]== 2:\n",
    "        c = plt.scatter(x1[i][0],x1[i][3],s = 75 , c = 'gray',marker = '.')\n",
    "    elif x1[i][4]== 3:\n",
    "        d = plt.scatter(x1[i][0],x1[i][3],s = 90 , c = 'brown',marker = '.')     \n",
    "    elif x1[i][4]== 4:\n",
    "        e = plt.scatter(x1[i][0],x1[i][3],s = 100 , c = 'orange',marker = 'o') \n",
    "    elif x1[i][4]== 5:\n",
    "        f = plt.scatter(x1[i][0],x1[i][3],s = 150 , c = 'blue',marker = 'o')\n",
    "        \n",
    "        \n",
    "    c1+=1\n",
    "\n",
    "\n",
    "print(\"Total Counted Stars = {}\".format(c1)) \n",
    "plt.xlabel(\"Temperature(K)\")\n",
    "plt.ylabel(\"Absolute Magnitude(Mv)\")\n",
    "plt.title(\"H-R Diagram of Total Stars \")\n",
    "plt.legend((a,b,c,d,e,f),('Brown Dwarf','Red Dwarf','White Dwarf','Main Sequence','Supergiant','Hypergiant'))\n",
    "m = np.linspace(0,40000,100)\n",
    "n = (0*m) -7.5\n",
    "plt.plot(m,n,'--m')\n",
    "f = np.linspace(0,6000,100)\n",
    "g = (0*f)+15.4\n",
    "plt.plot(f,g,'--c')\n",
    "plt.scatter(5778,4.83,s = 95, c= 'yellow',marker = 'o' )\n",
    "plt.gca().invert_xaxis()\n",
    "plt.gca().invert_yaxis()\n",
    "plt.show()"
   ]
  },
  {
   "cell_type": "markdown",
   "metadata": {},
   "source": [
    "##  ** Yellow coloured point in the Main Sequence star band denotes our SUN   ** "
   ]
  },
  {
   "cell_type": "markdown",
   "metadata": {},
   "source": [
    "## -- Visualizing Trained Stars"
   ]
  },
  {
   "cell_type": "code",
   "execution_count": 19,
   "metadata": {},
   "outputs": [
    {
     "name": "stdout",
     "output_type": "stream",
     "text": [
      "Total Trained Stars = 168\n"
     ]
    },
    {
     "data": {
      "image/png": "[encoded data removed]",
      "text/plain": [
       "<Figure size 432x288 with 1 Axes>"
      ]
     },
     "metadata": {
      "needs_background": "light"
     },
     "output_type": "display_data"
    }
   ],
   "source": [
    "c2=0\n",
    "\n",
    "for i in range(0,len(y_train)):\n",
    "    if y_train[i] == 0:\n",
    "        a = plt.scatter(x_train[i][0],x_train[i][3], s = 30 , c = 'green', marker = '.')\n",
    "    elif y_train[i]== 1:\n",
    "        b = plt.scatter(x_train[i][0],x_train[i][3],s = 50 , c = 'red',marker = '.')\n",
    "    elif y_train[i]== 2:\n",
    "        c = plt.scatter(x_train[i][0],x_train[i][3],s = 75 , c = 'gray',marker = '.')\n",
    "    elif y_train[i]== 3:\n",
    "        d = plt.scatter(x_train[i][0],x_train[i][3],s = 90 , c = 'brown',marker = '.')      \n",
    "    elif y_train[i]== 4:\n",
    "        e = plt.scatter(x_train[i][0],x_train[i][3],s = 100 , c = 'orange',marker = 'o') \n",
    "    elif y_train[i]== 5:\n",
    "        f = plt.scatter(x_train[i][0],x_train[i][3],s = 150 , c = 'blue',marker = 'o')    \n",
    "    c2+=1\n",
    "\n",
    "\n",
    "print(\"Total Trained Stars = {}\".format(c2)) \n",
    "plt.xlabel(\"Temperature(K)\")\n",
    "plt.ylabel(\"Absolute Magnitude(Mv)\")\n",
    "plt.title(\"H-R Diagram of Trained Stars \")\n",
    "plt.legend((a,b,c,d,e,f),('Brown Dwarf','Red Dwarf','White Dwarf','Main Sequence','Supergiant','Hypergiant'))\n",
    "m = np.linspace(0,40000,100)\n",
    "n = (0*m) -7.5\n",
    "plt.plot(m,n,'--m')\n",
    "f = np.linspace(0,6000,100)\n",
    "g = (0*f)+15.4\n",
    "plt.plot(f,g,'--c')\n",
    "plt.gca().invert_xaxis()\n",
    "plt.gca().invert_yaxis()\n",
    "plt.show()"
   ]
  },
  {
   "cell_type": "markdown",
   "metadata": {},
   "source": [
    "## -- Visualizing Tested Stars"
   ]
  },
  {
   "cell_type": "code",
   "execution_count": 20,
   "metadata": {},
   "outputs": [
    {
     "name": "stdout",
     "output_type": "stream",
     "text": [
      "Total Tested Stars = 72\n"
     ]
    },
    {
     "data": {
      "image/png": "[encoded data removed]",
      "text/plain": [
       "<Figure size 432x288 with 1 Axes>"
      ]
     },
     "metadata": {
      "needs_background": "light"
     },
     "output_type": "display_data"
    }
   ],
   "source": [
    "c3=0\n",
    "\n",
    "for i in range(0,len(y_test)):\n",
    "    if y_test[i] == 0:\n",
    "        a = plt.scatter(x_test[i][0],x_test[i][3], s = 30 , c = 'green', marker = '.')\n",
    "    elif y_test[i]== 1:\n",
    "        b = plt.scatter(x_test[i][0],x_test[i][3],s = 50 , c = 'red',marker = '.')\n",
    "    elif y_test[i]== 2:\n",
    "        c = plt.scatter(x_test[i][0],x_test[i][3],s = 75 , c = 'gray',marker = '.')\n",
    "    elif y_test[i]== 3:\n",
    "        d = plt.scatter(x_test[i][0],x_test[i][3],s = 90 , c = 'brown',marker = '.')   \n",
    "    elif y_test[i]== 4:\n",
    "        e = plt.scatter(x_test[i][0],x_test[i][3],s = 100 , c = 'orange',marker = 'o')\n",
    "    elif y_test[i]== 5:\n",
    "        f = plt.scatter(x_test[i][0],x_test[i][3],s = 150 , c = 'blue',marker = 'o')     \n",
    "    c3+=1\n",
    "\n",
    "\n",
    "print(\"Total Tested Stars = {}\".format(c3)) \n",
    "plt.xlabel(\"Temperature(K)\")\n",
    "plt.ylabel(\"Absolute Magnitude(Mv)\")\n",
    "plt.title(\"H-R Diagram of Tested Stars \")\n",
    "plt.legend((a,b,c,d,e,f),('Brown Dwarf','Red Dwarf','White Dwarf','Main Sequence','Supergiant','Hypergiant'))\n",
    "m = np.linspace(0,40000,100)\n",
    "n = (0*m) -7.5\n",
    "plt.plot(m,n,'--m')\n",
    "f = np.linspace(0,6000,100)\n",
    "g = (0*f)+15.4\n",
    "plt.plot(f,g,'--c')\n",
    "plt.gca().invert_xaxis()\n",
    "plt.gca().invert_yaxis()\n",
    "plt.show()"
   ]
  },
  {
   "cell_type": "markdown",
   "metadata": {},
   "source": [
    "## -- Visualizing Predicted Stars"
   ]
  },
  {
   "cell_type": "code",
   "execution_count": 21,
   "metadata": {},
   "outputs": [
    {
     "name": "stdout",
     "output_type": "stream",
     "text": [
      "Total Predicted Stars = 72\n"
     ]
    },
    {
     "data": {
      "image/png": "[encoded data removed]",
      "text/plain": [
       "<Figure size 432x288 with 1 Axes>"
      ]
     },
     "metadata": {
      "needs_background": "light"
     },
     "output_type": "display_data"
    },
    {
     "name": "stdout",
     "output_type": "stream",
     "text": [
      "Accuracy = 100.0 %\n"
     ]
    }
   ],
   "source": [
    "c4 = 0\n",
    "\n",
    "for i in range(0,len(z)):\n",
    "    if np.array_equal(z[i],arr[0]):\n",
    "        a = plt.scatter(x_test[i][0],x_test[i][3], s = 30 , c = 'green', marker = '.')\n",
    "    elif np.array_equal(z[i],arr[1]):\n",
    "        b = plt.scatter(x_test[i][0],x_test[i][3],s = 50 , c = 'red',marker = '.')\n",
    "    elif np.array_equal(z[i],arr[2]):\n",
    "        c = plt.scatter(x_test[i][0],x_test[i][3],s = 75 , c = 'gray',marker = '.')\n",
    "    elif np.array_equal(z[i],arr[3]):\n",
    "        d = plt.scatter(x_test[i][0],x_test[i][3],s = 90 , c = 'brown',marker = '.')    \n",
    "    elif np.array_equal(z[i],arr[4]):\n",
    "        e = plt.scatter(x_test[i][0],x_test[i][3],s = 100 , c = 'orange',marker = 'o')\n",
    "    elif np.array_equal(z[i],arr[5]):\n",
    "        f = plt.scatter(x_test[i][0],x_test[i][3],s = 150 , c = 'blue',marker = 'o')     \n",
    "    c4+=1\n",
    "\n",
    "print(\"Total Predicted Stars = {}\".format(c4)) \n",
    "plt.xlabel(\"Temperature(K)\")\n",
    "plt.ylabel(\"Absolute Magnitude(Mv)\")\n",
    "plt.title(\"H-R Diagram of Predicted Stars \")\n",
    "plt.legend((a,b,c,d,e,f),('Brown Dwarf','Red Dwarf','White Dwarf','Main Sequence','Supergiant','Hypergiant'))\n",
    "m = np.linspace(0,40000,100)\n",
    "n = (0*m) -7.5\n",
    "plt.plot(m,n,'--m')\n",
    "f = np.linspace(0,6000,100)\n",
    "g = (0*f)+15.4\n",
    "plt.plot(f,g,'--c')\n",
    "plt.gca().invert_xaxis()\n",
    "plt.gca().invert_yaxis()\n",
    "plt.show()\n",
    "print(\"Accuracy = {} %\".format(val_acc*100))"
   ]
  },
  {
   "cell_type": "markdown",
   "metadata": {},
   "source": [
    "###  1. Clearly H-R Diagram of Tested Stars matched with the H-R Diagram of the Predicted Stars\n",
    "###  2. Thus,our Model learned effectively and hence can be applied to predict future data of stars\n",
    "###  3. The best part is that it can predict star type of thousands of stars at once in just a few seconds  \n",
    "###  4. This makes our model extremely valuable\n",
    "\n",
    "### N.B. : More the data(accurate data) provided , better it will predict."
   ]
  },
  {
   "cell_type": "markdown",
   "metadata": {},
   "source": [
    "## Saving Model for future use"
   ]
  },
  {
   "cell_type": "code",
   "execution_count": 22,
   "metadata": {},
   "outputs": [],
   "source": [
    "model.save('Star_classifier.model')"
   ]
  },
  {
   "cell_type": "code",
   "execution_count": 23,
   "metadata": {},
   "outputs": [],
   "source": [
    "######   End Of This Notebook . Thanks For Reading . Hope that u learned a bit of Astronomy and application of ML   ########"
   ]
  }
 ],
 "metadata": {
  "kernelspec": {
   "display_name": "Python 3",
   "language": "python",
   "name": "python3"
  },
  "language_info": {
   "codemirror_mode": {
    "name": "ipython",
    "version": 3
   },
   "file_extension": ".py",
   "mimetype": "text/x-python",
   "name": "python",
   "nbconvert_exporter": "python",
   "pygments_lexer": "ipython3",
   "version": "3.7.3"
  }
 },
 "nbformat": 4,
 "nbformat_minor": 2
}
