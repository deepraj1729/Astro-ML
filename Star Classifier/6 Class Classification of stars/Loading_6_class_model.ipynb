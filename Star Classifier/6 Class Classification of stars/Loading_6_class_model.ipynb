{
 "cells": [
  {
   "cell_type": "markdown",
   "metadata": {},
   "source": [
    "# Loading Our Trained Star Classifier model to Test on a new Dataset to Predict    Star Types"
   ]
  },
  {
   "cell_type": "markdown",
   "metadata": {},
   "source": [
    "## Importing essential modules"
   ]
  },
  {
   "cell_type": "code",
   "execution_count": 1,
   "metadata": {},
   "outputs": [],
   "source": [
    "import tensorflow as tf\n",
    "import numpy as np\n",
    "from sklearn import preprocessing, model_selection\n",
    "import pandas as pd"
   ]
  },
  {
   "cell_type": "markdown",
   "metadata": {},
   "source": [
    "## Loading new dataset from a new CSV file"
   ]
  },
  {
   "cell_type": "code",
   "execution_count": 2,
   "metadata": {},
   "outputs": [
    {
     "data": {
      "text/html": [
       "<div>\n",
       "<style scoped>\n",
       "    .dataframe tbody tr th:only-of-type {\n",
       "        vertical-align: middle;\n",
       "    }\n",
       "\n",
       "    .dataframe tbody tr th {\n",
       "        vertical-align: top;\n",
       "    }\n",
       "\n",
       "    .dataframe thead th {\n",
       "        text-align: right;\n",
       "    }\n",
       "</style>\n",
       "<table border=\"1\" class=\"dataframe\">\n",
       "  <thead>\n",
       "    <tr style=\"text-align: right;\">\n",
       "      <th></th>\n",
       "      <th>Temperature (K)</th>\n",
       "      <th>Luminosity(L/Lo)</th>\n",
       "      <th>Radius(R/Ro)</th>\n",
       "      <th>Absolute magnitude(Mv)</th>\n",
       "      <th>Star Type</th>\n",
       "    </tr>\n",
       "  </thead>\n",
       "  <tbody>\n",
       "    <tr>\n",
       "      <td>0</td>\n",
       "      <td>3576</td>\n",
       "      <td>124000.00000</td>\n",
       "      <td>44.0000</td>\n",
       "      <td>-6.79</td>\n",
       "      <td>4</td>\n",
       "    </tr>\n",
       "    <tr>\n",
       "      <td>1</td>\n",
       "      <td>3691</td>\n",
       "      <td>0.00366</td>\n",
       "      <td>0.4700</td>\n",
       "      <td>10.80</td>\n",
       "      <td>1</td>\n",
       "    </tr>\n",
       "    <tr>\n",
       "      <td>2</td>\n",
       "      <td>9710</td>\n",
       "      <td>73.00000</td>\n",
       "      <td>2.8900</td>\n",
       "      <td>0.16</td>\n",
       "      <td>3</td>\n",
       "    </tr>\n",
       "    <tr>\n",
       "      <td>3</td>\n",
       "      <td>7800</td>\n",
       "      <td>0.00011</td>\n",
       "      <td>0.0128</td>\n",
       "      <td>14.47</td>\n",
       "      <td>2</td>\n",
       "    </tr>\n",
       "    <tr>\n",
       "      <td>4</td>\n",
       "      <td>3650</td>\n",
       "      <td>363000.00000</td>\n",
       "      <td>1673.0000</td>\n",
       "      <td>-11.92</td>\n",
       "      <td>5</td>\n",
       "    </tr>\n",
       "  </tbody>\n",
       "</table>\n",
       "</div>"
      ],
      "text/plain": [
       "   Temperature (K)  Luminosity(L/Lo)  Radius(R/Ro)  Absolute magnitude(Mv)  \\\n",
       "0             3576      124000.00000       44.0000                   -6.79   \n",
       "1             3691           0.00366        0.4700                   10.80   \n",
       "2             9710          73.00000        2.8900                    0.16   \n",
       "3             7800           0.00011        0.0128                   14.47   \n",
       "4             3650      363000.00000     1673.0000                  -11.92   \n",
       "\n",
       "   Star Type  \n",
       "0          4  \n",
       "1          1  \n",
       "2          3  \n",
       "3          2  \n",
       "4          5  "
      ]
     },
     "execution_count": 2,
     "metadata": {},
     "output_type": "execute_result"
    }
   ],
   "source": [
    "test_data = pd.read_csv('test_model_dataset.csv')\n",
    "test_data.head()"
   ]
  },
  {
   "cell_type": "markdown",
   "metadata": {},
   "source": [
    "## Seperating the \"Star Type\" Column from the dataset"
   ]
  },
  {
   "cell_type": "code",
   "execution_count": 3,
   "metadata": {},
   "outputs": [
    {
     "data": {
      "text/html": [
       "<div>\n",
       "<style scoped>\n",
       "    .dataframe tbody tr th:only-of-type {\n",
       "        vertical-align: middle;\n",
       "    }\n",
       "\n",
       "    .dataframe tbody tr th {\n",
       "        vertical-align: top;\n",
       "    }\n",
       "\n",
       "    .dataframe thead th {\n",
       "        text-align: right;\n",
       "    }\n",
       "</style>\n",
       "<table border=\"1\" class=\"dataframe\">\n",
       "  <thead>\n",
       "    <tr style=\"text-align: right;\">\n",
       "      <th></th>\n",
       "      <th>Temperature (K)</th>\n",
       "      <th>Luminosity(L/Lo)</th>\n",
       "      <th>Radius(R/Ro)</th>\n",
       "      <th>Absolute magnitude(Mv)</th>\n",
       "    </tr>\n",
       "  </thead>\n",
       "  <tbody>\n",
       "    <tr>\n",
       "      <td>0</td>\n",
       "      <td>3576</td>\n",
       "      <td>124000.00000</td>\n",
       "      <td>44.0000</td>\n",
       "      <td>-6.79</td>\n",
       "    </tr>\n",
       "    <tr>\n",
       "      <td>1</td>\n",
       "      <td>3691</td>\n",
       "      <td>0.00366</td>\n",
       "      <td>0.4700</td>\n",
       "      <td>10.80</td>\n",
       "    </tr>\n",
       "    <tr>\n",
       "      <td>2</td>\n",
       "      <td>9710</td>\n",
       "      <td>73.00000</td>\n",
       "      <td>2.8900</td>\n",
       "      <td>0.16</td>\n",
       "    </tr>\n",
       "    <tr>\n",
       "      <td>3</td>\n",
       "      <td>7800</td>\n",
       "      <td>0.00011</td>\n",
       "      <td>0.0128</td>\n",
       "      <td>14.47</td>\n",
       "    </tr>\n",
       "    <tr>\n",
       "      <td>4</td>\n",
       "      <td>3650</td>\n",
       "      <td>363000.00000</td>\n",
       "      <td>1673.0000</td>\n",
       "      <td>-11.92</td>\n",
       "    </tr>\n",
       "  </tbody>\n",
       "</table>\n",
       "</div>"
      ],
      "text/plain": [
       "   Temperature (K)  Luminosity(L/Lo)  Radius(R/Ro)  Absolute magnitude(Mv)\n",
       "0             3576      124000.00000       44.0000                   -6.79\n",
       "1             3691           0.00366        0.4700                   10.80\n",
       "2             9710          73.00000        2.8900                    0.16\n",
       "3             7800           0.00011        0.0128                   14.47\n",
       "4             3650      363000.00000     1673.0000                  -11.92"
      ]
     },
     "execution_count": 3,
     "metadata": {},
     "output_type": "execute_result"
    }
   ],
   "source": [
    "a = test_data.drop(['Star Type'],1)\n",
    "a.head()"
   ]
  },
  {
   "cell_type": "markdown",
   "metadata": {},
   "source": [
    "## Showing the star Type Column seperately"
   ]
  },
  {
   "cell_type": "code",
   "execution_count": 4,
   "metadata": {},
   "outputs": [
    {
     "data": {
      "text/plain": [
       "0    4\n",
       "1    1\n",
       "2    3\n",
       "3    2\n",
       "4    5\n",
       "Name: Star Type, dtype: int64"
      ]
     },
     "execution_count": 4,
     "metadata": {},
     "output_type": "execute_result"
    }
   ],
   "source": [
    "b = test_data['Star Type']\n",
    "b.head()"
   ]
  },
  {
   "cell_type": "markdown",
   "metadata": {},
   "source": [
    "## Converting dataset into numpy arrays"
   ]
  },
  {
   "cell_type": "code",
   "execution_count": 5,
   "metadata": {},
   "outputs": [],
   "source": [
    "x1 = np.array(a,dtype = 'float')\n",
    "y1 = np.array(b)\n",
    "y1.shape = (len(y1),1)"
   ]
  },
  {
   "cell_type": "markdown",
   "metadata": {},
   "source": [
    "## Scaling The input values for better accuracy"
   ]
  },
  {
   "cell_type": "code",
   "execution_count": 6,
   "metadata": {},
   "outputs": [],
   "source": [
    "x2 = preprocessing.scale(x1)"
   ]
  },
  {
   "cell_type": "markdown",
   "metadata": {},
   "source": [
    "## Loading in our Trained Model to predict the star type of new dataset"
   ]
  },
  {
   "cell_type": "code",
   "execution_count": 7,
   "metadata": {},
   "outputs": [
    {
     "name": "stdout",
     "output_type": "stream",
     "text": [
      "WARNING:tensorflow:From C:\\Users\\User1\\Anaconda3\\lib\\site-packages\\tensorflow\\python\\ops\\init_ops.py:97: calling GlorotUniform.__init__ (from tensorflow.python.ops.init_ops) with dtype is deprecated and will be removed in a future version.\n",
      "Instructions for updating:\n",
      "Call initializer instance with the dtype argument instead of passing it to the constructor\n",
      "WARNING:tensorflow:From C:\\Users\\User1\\Anaconda3\\lib\\site-packages\\tensorflow\\python\\ops\\init_ops.py:1251: calling VarianceScaling.__init__ (from tensorflow.python.ops.init_ops) with dtype is deprecated and will be removed in a future version.\n",
      "Instructions for updating:\n",
      "Call initializer instance with the dtype argument instead of passing it to the constructor\n",
      "WARNING:tensorflow:From C:\\Users\\User1\\Anaconda3\\lib\\site-packages\\tensorflow\\python\\ops\\init_ops.py:97: calling Zeros.__init__ (from tensorflow.python.ops.init_ops) with dtype is deprecated and will be removed in a future version.\n",
      "Instructions for updating:\n",
      "Call initializer instance with the dtype argument instead of passing it to the constructor\n"
     ]
    }
   ],
   "source": [
    "model = tf.keras.models.load_model(\"Star_classifier.model\")"
   ]
  },
  {
   "cell_type": "markdown",
   "metadata": {},
   "source": [
    "## The Outputs to expect for each Star Type"
   ]
  },
  {
   "cell_type": "code",
   "execution_count": 8,
   "metadata": {},
   "outputs": [],
   "source": [
    "# [1,0,0,0,0,0] = Brown Dwarf\n",
    "# [0,1,0,0,0,0] = Red Dwarf\n",
    "# [0,0,1,0,0,0] = White Dwarf\n",
    "# [0,0,0,1,0,0] = Main Sequence\n",
    "# [0,0,0,0,1,0] = Supergiant\n",
    "# [0,0,0,0,0,1] = Hypergiant\n",
    "\n",
    "arr = np.array([[1,0,0,0,0,0],[0,1,0,0,0,0],[0,0,1,0,0,0],[0,0,0,1,0,0],[0,0,0,0,1,0],[0,0,0,0,0,1]])\n",
    "\n",
    "categories = [\"Brown Dwarf\",\"Red Dwarf\",\"White Dwarf\",\"Main Sequence\",\"Supergiant\",\"Hypergiant\"]"
   ]
  },
  {
   "cell_type": "markdown",
   "metadata": {},
   "source": [
    "## Running Trained Model to predict star type of new dataset"
   ]
  },
  {
   "cell_type": "code",
   "execution_count": 9,
   "metadata": {},
   "outputs": [
    {
     "name": "stdout",
     "output_type": "stream",
     "text": [
      "[0. 0. 0. 0. 1. 0.]\n"
     ]
    }
   ],
   "source": [
    "d_pred = np.round(model.predict(x2))\n",
    "\n",
    "# Predictions:\n",
    "print('{}'.format(d_pred[0]))"
   ]
  },
  {
   "cell_type": "markdown",
   "metadata": {},
   "source": [
    "## Showing the Star-Type"
   ]
  },
  {
   "cell_type": "code",
   "execution_count": 10,
   "metadata": {},
   "outputs": [
    {
     "name": "stdout",
     "output_type": "stream",
     "text": [
      "Supergiant\n"
     ]
    }
   ],
   "source": [
    "print(categories[np.argmax(d_pred[0])])"
   ]
  },
  {
   "cell_type": "markdown",
   "metadata": {},
   "source": [
    "## Showing Predictions with Star Type all at once"
   ]
  },
  {
   "cell_type": "code",
   "execution_count": 11,
   "metadata": {},
   "outputs": [
    {
     "name": "stdout",
     "output_type": "stream",
     "text": [
      "     Prediction      : P-Class  : O-Class\n",
      "[0. 0. 0. 0. 1. 0.]  :  4 :  [4] : Supergiant\n",
      "[0. 1. 0. 0. 0. 0.]  :  1 :  [1] : Red Dwarf\n",
      "[0. 0. 0. 1. 0. 0.]  :  3 :  [3] : Main Sequence\n",
      "[0. 0. 1. 0. 0. 0.]  :  2 :  [2] : White Dwarf\n",
      "[0. 0. 0. 0. 0. 1.]  :  5 :  [5] : Hypergiant\n",
      "[1. 0. 0. 0. 0. 0.]  :  0 :  [0] : Brown Dwarf\n"
     ]
    }
   ],
   "source": [
    "\n",
    "print(\"     Prediction      : P-Class  : O-Class\")\n",
    "\n",
    "for i in range(0,len(d_pred)):\n",
    "    if np.array_equal(d_pred[i],arr[0]):\n",
    "        print(\"{}  :  {} :  {} : {}\".format(d_pred[i],0,y1[i],categories[np.argmax(d_pred[i])]))\n",
    "      \n",
    "    elif np.array_equal(d_pred[i],arr[1]):\n",
    "        print(\"{}  :  {} :  {} : {}\".format(d_pred[i],1,y1[i],categories[np.argmax(d_pred[i])]))\n",
    "       \n",
    "    elif np.array_equal(d_pred[i],arr[2]):\n",
    "        print(\"{}  :  {} :  {} : {}\".format(d_pred[i],2,y1[i],categories[np.argmax(d_pred[i])]))\n",
    "          \n",
    "    elif np.array_equal(d_pred[i],arr[3]):\n",
    "        print(\"{}  :  {} :  {} : {}\".format(d_pred[i],3,y1[i],categories[np.argmax(d_pred[i])]))\n",
    "         \n",
    "    elif np.array_equal(d_pred[i],arr[4]):\n",
    "        print(\"{}  :  {} :  {} : {}\".format(d_pred[i],4,y1[i],categories[np.argmax(d_pred[i])]))\n",
    "      \n",
    "    elif np.array_equal(d_pred[i],arr[5]):\n",
    "        print(\"{}  :  {} :  {} : {}\".format(d_pred[i],5,y1[i],categories[np.argmax(d_pred[i])]))"
   ]
  },
  {
   "cell_type": "code",
   "execution_count": 12,
   "metadata": {},
   "outputs": [],
   "source": [
    "# Thus it predicted the star types of future dataset of stars with high accuracy and our model is lit :)"
   ]
  }
 ],
 "metadata": {
  "kernelspec": {
   "display_name": "Python 3",
   "language": "python",
   "name": "python3"
  },
  "language_info": {
   "codemirror_mode": {
    "name": "ipython",
    "version": 3
   },
   "file_extension": ".py",
   "mimetype": "text/x-python",
   "name": "python",
   "nbconvert_exporter": "python",
   "pygments_lexer": "ipython3",
   "version": "3.7.3"
  }
 },
 "nbformat": 4,
 "nbformat_minor": 2
}
